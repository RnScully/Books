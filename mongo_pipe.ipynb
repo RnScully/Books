{
 "cells": [
  {
   "cell_type": "code",
   "execution_count": 76,
   "metadata": {},
   "outputs": [],
   "source": [
    "from pymongo import MongoClient\n",
    "import pprint\n",
    "import json\n",
    "from bs4 import BeautifulSoup\n",
    "import re"
   ]
  },
  {
   "cell_type": "code",
   "execution_count": 3,
   "metadata": {},
   "outputs": [],
   "source": [
    "\n",
    "client = MongoClient('localhost', 27017)\n",
    "db=client['reviews']\n",
    "coll=db['user_reviews']"
   ]
  },
  {
   "cell_type": "markdown",
   "metadata": {},
   "source": [
    ".find() creates a \"cursor\" which pulls the data. .limit() keeps you from pulling all the data. Wrapping the \"cursor\" in a list comprehension builds that cursor out iteratively into a list containing the things you want to manipulate. Ok? Cool. "
   ]
  },
  {
   "cell_type": "code",
   "execution_count": 178,
   "metadata": {},
   "outputs": [
    {
     "data": {
      "text/plain": [
       "7171593"
      ]
     },
     "execution_count": 178,
     "metadata": {},
     "output_type": "execute_result"
    }
   ],
   "source": [
    "test = [x for x in coll.find().limit(1000)]\n",
    "test[0]['userid']"
   ]
  },
  {
   "cell_type": "markdown",
   "metadata": {},
   "source": [
    "now, its more complicated than that, because all of this is nested *again* So in the cursor list? you've got a dictonary that holds user_id and a list of reviews. so index into 'reviews' and you get to a list of your actual scraped bits, the data from goodreads. "
   ]
  },
  {
   "cell_type": "code",
   "execution_count": 189,
   "metadata": {},
   "outputs": [],
   "source": [
    "review = test[3]['reviews']"
   ]
  },
  {
   "cell_type": "code",
   "execution_count": 190,
   "metadata": {},
   "outputs": [
    {
     "data": {
      "text/plain": [
       "['<tr id=\"review_2072716103\" class=\"bookalike review\">\\n  <td class=\"field checkbox\"><label>checkbox</label><div class=\"value\">      &nbsp;\\n</div></td>  <td class=\"field position\" style=\"display: none\"><label>position</label><div class=\"value\"></div></td>  <td class=\"field cover\"><label>cover</label><div class=\"value\">        <div class=\"js-tooltipTrigger tooltipTrigger\" data-resource-type=\"Book\" data-resource-id=\"204286\">\\n          <a href=\"/book/show/204286.The_Baby_Book\"><img alt=\"The Baby Book: Everything You Need to Know About Your Baby from Birth to Age Two\" id=\"cover_review_2072716103\" src=\"https://i.gr-assets.com/images/S/compressed.photo.goodreads.com/books/1344271861l/204286._SX50_.jpg\"></a>\\n        </div>\\n</div></td>  <td class=\"field title\"><label>title</label><div class=\"value\">    <a title=\"The Baby Book: Everything You Need to Know About Your Baby from Birth to Age Two\" href=\"/book/show/204286.The_Baby_Book\">\\n      The Baby Book: Everything You Need to Know About Your Baby from Birth to Age Two\\n</a></div></td>  <td class=\"field author\"><label>author</label><div class=\"value\">      <a href=\"/author/show/24805.William_Sears\">Sears, William</a>\\n</div></td>  <td class=\"field isbn\" style=\"display: none\"><label>isbn</label><div class=\"value\">\\n</div></td>  <td class=\"field isbn13\" style=\"display: none\"><label>isbn13</label><div class=\"value\">    9780316778008\\n</div></td>  <td class=\"field asin\" style=\"display: none\"><label>asin</label><div class=\"value\">\\n</div></td>  <td class=\"field num_pages\" style=\"display: none\"><label>num pages</label><div class=\"value\">      <nobr>\\n        784\\n        <span class=\"greyText\">pp</span>\\n      </nobr>\\n</div></td>  <td class=\"field avg_rating\"><label>avg rating</label><div class=\"value\">    4.17\\n</div></td>  <td class=\"field num_ratings\" style=\"display: none\"><label>num ratings</label><div class=\"value\">    6,955\\n</div></td>  <td class=\"field date_pub\" style=\"display: none\"><label>date pub</label><div class=\"value\">      Jan 19, 1993\\n</div></td>  <td class=\"field date_pub_edition\" style=\"display: none\"><label>date pub edition</label><div class=\"value\">      Mar 31, 2003\\n</div></td>    \\n<td class=\"field rating\"><label>Carmen\\'s rating</label><div class=\"value\">\\n        <span class=\" staticStars notranslate\" title=\"it was amazing\"><span size=\"15x15\" class=\"staticStar p10\">it was amazing</span><span size=\"15x15\" class=\"staticStar p10\"></span><span size=\"15x15\" class=\"staticStar p10\"></span><span size=\"15x15\" class=\"staticStar p10\"></span><span size=\"15x15\" class=\"staticStar p10\"></span></span>\\n</div></td><td class=\"field shelves\"><label>my rating</label><div class=\"value\">\\n        <div class=\"stars\" data-resource-id=\"204286\" data-user-id=\"0\" data-submit-url=\"/review/rate/204286?stars_click=false\" data-rating=\"0\"><a class=\"star off\" title=\"did not like it\" href=\"#\" ref=\"\">1 of 5 stars</a><a class=\"star off\" title=\"it was ok\" href=\"#\" ref=\"\">2 of 5 stars</a><a class=\"star off\" title=\"liked it\" href=\"#\" ref=\"\">3 of 5 stars</a><a class=\"star off\" title=\"really liked it\" href=\"#\" ref=\"\">4 of 5 stars</a><a class=\"star off\" title=\"it was amazing\" href=\"#\" ref=\"\">5 of 5 stars</a></div>\\n        <span id=\"reviewMessage204286_false\"></span>\\n        <span id=\"successMessage204286_false\"></span>\\n        <div>\\n              <a class=\"smallText actionLinkLite\" rel=\"nofollow\" href=\"/user/new\">add to shelves</a>\\n        </div>\\n</div></td><td class=\"field review\" style=\"display: none\"><label>review</label><div class=\"value\">\\n            <span class=\"greyText\">None</span>\\n    <div class=\"clear\"></div>\\n</div></td><td class=\"field notes\" style=\"display: none\"><label>notes</label><div class=\"value\">\\n        <span class=\"greyText\">Notes are private!</span>\\n</div></td><td class=\"field recommender\" style=\"display: none\"><label>recommender</label><div class=\"value\">\\n        <span class=\"greyText\">none</span>\\n</div></td>\\n<td class=\"field comments\" style=\"display: none\"><label>comments</label><div class=\"value\">\\n    <a href=\"/review/show/2072716103\">0</a>\\n</div></td>\\n<td class=\"field votes\" style=\"display: none\"><label>votes</label><div class=\"value\">\\n    <a href=\"/rating/voters/2072716103?resource_type=Review\">0</a>\\n</div></td>\\n<td class=\"field read_count\" style=\"display: none\"><label># times read</label><div class=\"value\">\\n        1\\n</div></td><td class=\"field date_started\" style=\"display: none\"><label>date started</label><div class=\"value\">\\n    \\n            <div class=\"date_row\">\\n                  <div class=\"editable_date date_started_amzn1grreading_sessionv18544574a10f646ffb2d6ff809c61b7bb\">\\n      <span class=\"greyText\">not set</span>\\n</div>\\n\\n            </div>\\n\\n</div></td><td class=\"field date_read\"><label>date read</label><div class=\"value\">\\n    \\n            <div class=\"date_row\">\\n                  <div class=\"editable_date date_read_amzn1grreading_sessionv18544574a10f646ffb2d6ff809c61b7bb\">\\n      <span class=\"greyText\">not set</span>\\n</div>\\n\\n            </div>\\n\\n</div></td><td class=\"field date_added\"><label>date added</label><div class=\"value\">\\n    <span title=\"July 26, 2017\">\\n    Jul 26, 2017\\n  </span>\\n</div></td><td class=\"field date_purchased\" style=\"display: none\"><label>date purchased</label><div class=\"value\"></div></td><td class=\"field owned\" style=\"display: none\"><label>owned</label><div class=\"value\"></div></td><td class=\"field purchase_location\" style=\"display: none\"><label>purchase location</label><div class=\"value\"></div></td><td class=\"field condition\" style=\"display: none\"><label>condition</label><div class=\"value\"></div></td><td class=\"field format\" style=\"display: none\"><label>format</label><div class=\"value\">\\n        Paperback\\n</div></td><td class=\"field actions\"><label>actions</label><div class=\"value\">\\n        <div>\\n          <a class=\"nobreak\" href=\"/review/show/2072716103\">view</a>\\n        </div>\\n</div></td>\\n</tr>',\n",
       " '<tr id=\"review_2072742237\" class=\"bookalike review\">\\n  <td class=\"field checkbox\"><label>checkbox</label><div class=\"value\">      &nbsp;\\n</div></td>  <td class=\"field position\" style=\"display: none\"><label>position</label><div class=\"value\"></div></td>  <td class=\"field cover\"><label>cover</label><div class=\"value\">        <div class=\"js-tooltipTrigger tooltipTrigger\" data-resource-type=\"Book\" data-resource-id=\"53611\">\\n          <a href=\"/book/show/53611.The_No_Cry_Sleep_Solution\"><img alt=\"The No-Cry Sleep Solution: Gentle Ways to Help Your Baby Sleep Through the Night\" id=\"cover_review_2072742237\" src=\"https://i.gr-assets.com/images/S/compressed.photo.goodreads.com/books/1347531658l/53611._SX50_.jpg\"></a>\\n        </div>\\n</div></td>  <td class=\"field title\"><label>title</label><div class=\"value\">    <a title=\"The No-Cry Sleep Solution: Gentle Ways to Help Your Baby Sleep Through the Night\" href=\"/book/show/53611.The_No_Cry_Sleep_Solution\">\\n      The No-Cry Sleep Solution: Gentle Ways to Help Your Baby Sleep Through the Night\\n</a></div></td>  <td class=\"field author\"><label>author</label><div class=\"value\">      <a href=\"/author/show/24811.Elizabeth_Pantley\">Pantley, Elizabeth</a>\\n</div></td>  <td class=\"field isbn\" style=\"display: none\"><label>isbn</label><div class=\"value\">    0071381392\\n</div></td>  <td class=\"field isbn13\" style=\"display: none\"><label>isbn13</label><div class=\"value\">    9780071381390\\n</div></td>  <td class=\"field asin\" style=\"display: none\"><label>asin</label><div class=\"value\">\\n</div></td>  <td class=\"field num_pages\" style=\"display: none\"><label>num pages</label><div class=\"value\">      <nobr>\\n        254\\n        <span class=\"greyText\">pp</span>\\n      </nobr>\\n</div></td>  <td class=\"field avg_rating\"><label>avg rating</label><div class=\"value\">    3.49\\n</div></td>  <td class=\"field num_ratings\" style=\"display: none\"><label>num ratings</label><div class=\"value\">    7,776\\n</div></td>  <td class=\"field date_pub\" style=\"display: none\"><label>date pub</label><div class=\"value\">      2002\\n</div></td>  <td class=\"field date_pub_edition\" style=\"display: none\"><label>date pub edition</label><div class=\"value\">      Apr 18, 2002\\n</div></td>    \\n<td class=\"field rating\"><label>Carmen\\'s rating</label><div class=\"value\">\\n        <span class=\" staticStars notranslate\" title=\"it was amazing\"><span size=\"15x15\" class=\"staticStar p10\">it was amazing</span><span size=\"15x15\" class=\"staticStar p10\"></span><span size=\"15x15\" class=\"staticStar p10\"></span><span size=\"15x15\" class=\"staticStar p10\"></span><span size=\"15x15\" class=\"staticStar p10\"></span></span>\\n</div></td><td class=\"field shelves\"><label>my rating</label><div class=\"value\">\\n        <div class=\"stars\" data-resource-id=\"53611\" data-user-id=\"0\" data-submit-url=\"/review/rate/53611?stars_click=false\" data-rating=\"0\"><a class=\"star off\" title=\"did not like it\" href=\"#\" ref=\"\">1 of 5 stars</a><a class=\"star off\" title=\"it was ok\" href=\"#\" ref=\"\">2 of 5 stars</a><a class=\"star off\" title=\"liked it\" href=\"#\" ref=\"\">3 of 5 stars</a><a class=\"star off\" title=\"really liked it\" href=\"#\" ref=\"\">4 of 5 stars</a><a class=\"star off\" title=\"it was amazing\" href=\"#\" ref=\"\">5 of 5 stars</a></div>\\n        <span id=\"reviewMessage53611_false\"></span>\\n        <span id=\"successMessage53611_false\"></span>\\n        <div>\\n              <a class=\"smallText actionLinkLite\" rel=\"nofollow\" href=\"/user/new\">add to shelves</a>\\n        </div>\\n</div></td><td class=\"field review\" style=\"display: none\"><label>review</label><div class=\"value\">\\n            <span class=\"greyText\">None</span>\\n    <div class=\"clear\"></div>\\n</div></td><td class=\"field notes\" style=\"display: none\"><label>notes</label><div class=\"value\">\\n        <span class=\"greyText\">Notes are private!</span>\\n</div></td><td class=\"field recommender\" style=\"display: none\"><label>recommender</label><div class=\"value\">\\n        <span class=\"greyText\">none</span>\\n</div></td>\\n<td class=\"field comments\" style=\"display: none\"><label>comments</label><div class=\"value\">\\n    <a href=\"/review/show/2072742237\">0</a>\\n</div></td>\\n<td class=\"field votes\" style=\"display: none\"><label>votes</label><div class=\"value\">\\n    <a href=\"/rating/voters/2072742237?resource_type=Review\">0</a>\\n</div></td>\\n<td class=\"field read_count\" style=\"display: none\"><label># times read</label><div class=\"value\">\\n        1\\n</div></td><td class=\"field date_started\" style=\"display: none\"><label>date started</label><div class=\"value\">\\n    \\n            <div class=\"date_row\">\\n                  <div class=\"editable_date date_started_amzn1grreading_sessionv1fe4af4ec1a2542dc9a58ddf91aae9918\">\\n      <span class=\"greyText\">not set</span>\\n</div>\\n\\n            </div>\\n\\n</div></td><td class=\"field date_read\"><label>date read</label><div class=\"value\">\\n    \\n            <div class=\"date_row\">\\n                  <div class=\"editable_date date_read_amzn1grreading_sessionv1fe4af4ec1a2542dc9a58ddf91aae9918\">\\n      <span class=\"greyText\">not set</span>\\n</div>\\n\\n            </div>\\n\\n</div></td><td class=\"field date_added\"><label>date added</label><div class=\"value\">\\n    <span title=\"July 26, 2017\">\\n    Jul 26, 2017\\n  </span>\\n</div></td><td class=\"field date_purchased\" style=\"display: none\"><label>date purchased</label><div class=\"value\"></div></td><td class=\"field owned\" style=\"display: none\"><label>owned</label><div class=\"value\"></div></td><td class=\"field purchase_location\" style=\"display: none\"><label>purchase location</label><div class=\"value\"></div></td><td class=\"field condition\" style=\"display: none\"><label>condition</label><div class=\"value\"></div></td><td class=\"field format\" style=\"display: none\"><label>format</label><div class=\"value\">\\n        Paperback\\n</div></td><td class=\"field actions\"><label>actions</label><div class=\"value\">\\n        <div>\\n          <a class=\"nobreak\" href=\"/review/show/2072742237\">view</a>\\n        </div>\\n</div></td>\\n</tr>',\n",
       " '<tr id=\"review_2072742331\" class=\"bookalike review\">\\n  <td class=\"field checkbox\"><label>checkbox</label><div class=\"value\">      &nbsp;\\n</div></td>  <td class=\"field position\" style=\"display: none\"><label>position</label><div class=\"value\"></div></td>  <td class=\"field cover\"><label>cover</label><div class=\"value\">        <div class=\"js-tooltipTrigger tooltipTrigger\" data-resource-type=\"Book\" data-resource-id=\"685421\">\\n          <a href=\"/book/show/685421.Attachment_Parenting\"><img alt=\"Attachment Parenting: Instinctive Care for Your Baby and Young Child\" id=\"cover_review_2072742331\" src=\"https://i.gr-assets.com/images/S/compressed.photo.goodreads.com/books/1348715511l/685421._SY75_.jpg\"></a>\\n        </div>\\n</div></td>  <td class=\"field title\"><label>title</label><div class=\"value\">    <a title=\"Attachment Parenting: Instinctive Care for Your Baby and Young Child\" href=\"/book/show/685421.Attachment_Parenting\">\\n      Attachment Parenting: Instinctive Care for Your Baby and Young Child\\n</a></div></td>  <td class=\"field author\"><label>author</label><div class=\"value\">      <a href=\"/author/show/366813.Katie_Allison_Granju\">Granju, Katie Allison</a>\\n</div></td>  <td class=\"field isbn\" style=\"display: none\"><label>isbn</label><div class=\"value\">    067102762X\\n</div></td>  <td class=\"field isbn13\" style=\"display: none\"><label>isbn13</label><div class=\"value\">    9780671027629\\n</div></td>  <td class=\"field asin\" style=\"display: none\"><label>asin</label><div class=\"value\">\\n</div></td>  <td class=\"field num_pages\" style=\"display: none\"><label>num pages</label><div class=\"value\">      <nobr>\\n        336\\n        <span class=\"greyText\">pp</span>\\n      </nobr>\\n</div></td>  <td class=\"field avg_rating\"><label>avg rating</label><div class=\"value\">    3.98\\n</div></td>  <td class=\"field num_ratings\" style=\"display: none\"><label>num ratings</label><div class=\"value\">    415\\n</div></td>  <td class=\"field date_pub\" style=\"display: none\"><label>date pub</label><div class=\"value\">      Aug 01, 1999\\n</div></td>  <td class=\"field date_pub_edition\" style=\"display: none\"><label>date pub edition</label><div class=\"value\">      Aug 01, 1999\\n</div></td>    \\n<td class=\"field rating\"><label>Carmen\\'s rating</label><div class=\"value\">\\n        <span class=\" staticStars notranslate\" title=\"it was amazing\"><span size=\"15x15\" class=\"staticStar p10\">it was amazing</span><span size=\"15x15\" class=\"staticStar p10\"></span><span size=\"15x15\" class=\"staticStar p10\"></span><span size=\"15x15\" class=\"staticStar p10\"></span><span size=\"15x15\" class=\"staticStar p10\"></span></span>\\n</div></td><td class=\"field shelves\"><label>my rating</label><div class=\"value\">\\n        <div class=\"stars\" data-resource-id=\"685421\" data-user-id=\"0\" data-submit-url=\"/review/rate/685421?stars_click=false\" data-rating=\"0\"><a class=\"star off\" title=\"did not like it\" href=\"#\" ref=\"\">1 of 5 stars</a><a class=\"star off\" title=\"it was ok\" href=\"#\" ref=\"\">2 of 5 stars</a><a class=\"star off\" title=\"liked it\" href=\"#\" ref=\"\">3 of 5 stars</a><a class=\"star off\" title=\"really liked it\" href=\"#\" ref=\"\">4 of 5 stars</a><a class=\"star off\" title=\"it was amazing\" href=\"#\" ref=\"\">5 of 5 stars</a></div>\\n        <span id=\"reviewMessage685421_false\"></span>\\n        <span id=\"successMessage685421_false\"></span>\\n        <div>\\n              <a class=\"smallText actionLinkLite\" rel=\"nofollow\" href=\"/user/new\">add to shelves</a>\\n        </div>\\n</div></td><td class=\"field review\" style=\"display: none\"><label>review</label><div class=\"value\">\\n            <span class=\"greyText\">None</span>\\n    <div class=\"clear\"></div>\\n</div></td><td class=\"field notes\" style=\"display: none\"><label>notes</label><div class=\"value\">\\n        <span class=\"greyText\">Notes are private!</span>\\n</div></td><td class=\"field recommender\" style=\"display: none\"><label>recommender</label><div class=\"value\">\\n        <span class=\"greyText\">none</span>\\n</div></td>\\n<td class=\"field comments\" style=\"display: none\"><label>comments</label><div class=\"value\">\\n    <a href=\"/review/show/2072742331\">0</a>\\n</div></td>\\n<td class=\"field votes\" style=\"display: none\"><label>votes</label><div class=\"value\">\\n    <a href=\"/rating/voters/2072742331?resource_type=Review\">0</a>\\n</div></td>\\n<td class=\"field read_count\" style=\"display: none\"><label># times read</label><div class=\"value\">\\n        1\\n</div></td><td class=\"field date_started\" style=\"display: none\"><label>date started</label><div class=\"value\">\\n    \\n            <div class=\"date_row\">\\n                  <div class=\"editable_date date_started_amzn1grreading_sessionv16142f92630a04c26982e104467633282\">\\n      <span class=\"greyText\">not set</span>\\n</div>\\n\\n            </div>\\n\\n</div></td><td class=\"field date_read\"><label>date read</label><div class=\"value\">\\n    \\n            <div class=\"date_row\">\\n                  <div class=\"editable_date date_read_amzn1grreading_sessionv16142f92630a04c26982e104467633282\">\\n      <span class=\"greyText\">not set</span>\\n</div>\\n\\n            </div>\\n\\n</div></td><td class=\"field date_added\"><label>date added</label><div class=\"value\">\\n    <span title=\"July 26, 2017\">\\n    Jul 26, 2017\\n  </span>\\n</div></td><td class=\"field date_purchased\" style=\"display: none\"><label>date purchased</label><div class=\"value\"></div></td><td class=\"field owned\" style=\"display: none\"><label>owned</label><div class=\"value\"></div></td><td class=\"field purchase_location\" style=\"display: none\"><label>purchase location</label><div class=\"value\"></div></td><td class=\"field condition\" style=\"display: none\"><label>condition</label><div class=\"value\"></div></td><td class=\"field format\" style=\"display: none\"><label>format</label><div class=\"value\">\\n        Paperback\\n</div></td><td class=\"field actions\"><label>actions</label><div class=\"value\">\\n        <div>\\n          <a class=\"nobreak\" href=\"/review/show/2072742331\">view</a>\\n        </div>\\n</div></td>\\n</tr>',\n",
       " '<tr id=\"review_2072742059\" class=\"bookalike review\">\\n  <td class=\"field checkbox\"><label>checkbox</label><div class=\"value\">      &nbsp;\\n</div></td>  <td class=\"field position\" style=\"display: none\"><label>position</label><div class=\"value\"></div></td>  <td class=\"field cover\"><label>cover</label><div class=\"value\">        <div class=\"js-tooltipTrigger tooltipTrigger\" data-resource-type=\"Book\" data-resource-id=\"53612\">\\n          <a href=\"/book/show/53612.Nighttime_Parenting_Revised_\"><img alt=\"Nighttime Parenting (Revised): How to Get Your Baby and Child to Sleep\" id=\"cover_review_2072742059\" src=\"https://i.gr-assets.com/images/S/compressed.photo.goodreads.com/books/1386923302l/53612._SY75_.jpg\"></a>\\n        </div>\\n</div></td>  <td class=\"field title\"><label>title</label><div class=\"value\">    <a title=\"Nighttime Parenting (Revised): How to Get Your Baby and Child to Sleep\" href=\"/book/show/53612.Nighttime_Parenting_Revised_\">\\n      Nighttime Parenting (Revised): How to Get Your Baby and Child to Sleep\\n</a></div></td>  <td class=\"field author\"><label>author</label><div class=\"value\">      <a href=\"/author/show/24805.William_Sears\">Sears, William</a>\\n</div></td>  <td class=\"field isbn\" style=\"display: none\"><label>isbn</label><div class=\"value\">    0452281482\\n</div></td>  <td class=\"field isbn13\" style=\"display: none\"><label>isbn13</label><div class=\"value\">    9780452281486\\n</div></td>  <td class=\"field asin\" style=\"display: none\"><label>asin</label><div class=\"value\">\\n</div></td>  <td class=\"field num_pages\" style=\"display: none\"><label>num pages</label><div class=\"value\">      <nobr>\\n        224\\n        <span class=\"greyText\">pp</span>\\n      </nobr>\\n</div></td>  <td class=\"field avg_rating\"><label>avg rating</label><div class=\"value\">    3.86\\n</div></td>  <td class=\"field num_ratings\" style=\"display: none\"><label>num ratings</label><div class=\"value\">    448\\n</div></td>  <td class=\"field date_pub\" style=\"display: none\"><label>date pub</label><div class=\"value\">      1985\\n</div></td>  <td class=\"field date_pub_edition\" style=\"display: none\"><label>date pub edition</label><div class=\"value\">      Nov 01, 1999\\n</div></td>    \\n<td class=\"field rating\"><label>Carmen\\'s rating</label><div class=\"value\">\\n        <span class=\" staticStars notranslate\" title=\"it was amazing\"><span size=\"15x15\" class=\"staticStar p10\">it was amazing</span><span size=\"15x15\" class=\"staticStar p10\"></span><span size=\"15x15\" class=\"staticStar p10\"></span><span size=\"15x15\" class=\"staticStar p10\"></span><span size=\"15x15\" class=\"staticStar p10\"></span></span>\\n</div></td><td class=\"field shelves\"><label>my rating</label><div class=\"value\">\\n        <div class=\"stars\" data-resource-id=\"53612\" data-user-id=\"0\" data-submit-url=\"/review/rate/53612?stars_click=false\" data-rating=\"0\"><a class=\"star off\" title=\"did not like it\" href=\"#\" ref=\"\">1 of 5 stars</a><a class=\"star off\" title=\"it was ok\" href=\"#\" ref=\"\">2 of 5 stars</a><a class=\"star off\" title=\"liked it\" href=\"#\" ref=\"\">3 of 5 stars</a><a class=\"star off\" title=\"really liked it\" href=\"#\" ref=\"\">4 of 5 stars</a><a class=\"star off\" title=\"it was amazing\" href=\"#\" ref=\"\">5 of 5 stars</a></div>\\n        <span id=\"reviewMessage53612_false\"></span>\\n        <span id=\"successMessage53612_false\"></span>\\n        <div>\\n              <a class=\"smallText actionLinkLite\" rel=\"nofollow\" href=\"/user/new\">add to shelves</a>\\n        </div>\\n</div></td><td class=\"field review\" style=\"display: none\"><label>review</label><div class=\"value\">\\n            <span class=\"greyText\">None</span>\\n    <div class=\"clear\"></div>\\n</div></td><td class=\"field notes\" style=\"display: none\"><label>notes</label><div class=\"value\">\\n        <span class=\"greyText\">Notes are private!</span>\\n</div></td><td class=\"field recommender\" style=\"display: none\"><label>recommender</label><div class=\"value\">\\n        <span class=\"greyText\">none</span>\\n</div></td>\\n<td class=\"field comments\" style=\"display: none\"><label>comments</label><div class=\"value\">\\n    <a href=\"/review/show/2072742059\">0</a>\\n</div></td>\\n<td class=\"field votes\" style=\"display: none\"><label>votes</label><div class=\"value\">\\n    <a href=\"/rating/voters/2072742059?resource_type=Review\">0</a>\\n</div></td>\\n<td class=\"field read_count\" style=\"display: none\"><label># times read</label><div class=\"value\">\\n        1\\n</div></td><td class=\"field date_started\" style=\"display: none\"><label>date started</label><div class=\"value\">\\n    \\n            <div class=\"date_row\">\\n                  <div class=\"editable_date date_started_amzn1grreading_sessionv111dd44ca6a0c408c9a91e4fd8c5c366b\">\\n      <span class=\"greyText\">not set</span>\\n</div>\\n\\n            </div>\\n\\n</div></td><td class=\"field date_read\"><label>date read</label><div class=\"value\">\\n    \\n            <div class=\"date_row\">\\n                  <div class=\"editable_date date_read_amzn1grreading_sessionv111dd44ca6a0c408c9a91e4fd8c5c366b\">\\n      <span class=\"greyText\">not set</span>\\n</div>\\n\\n            </div>\\n\\n</div></td><td class=\"field date_added\"><label>date added</label><div class=\"value\">\\n    <span title=\"July 26, 2017\">\\n    Jul 26, 2017\\n  </span>\\n</div></td><td class=\"field date_purchased\" style=\"display: none\"><label>date purchased</label><div class=\"value\"></div></td><td class=\"field owned\" style=\"display: none\"><label>owned</label><div class=\"value\"></div></td><td class=\"field purchase_location\" style=\"display: none\"><label>purchase location</label><div class=\"value\"></div></td><td class=\"field condition\" style=\"display: none\"><label>condition</label><div class=\"value\"></div></td><td class=\"field format\" style=\"display: none\"><label>format</label><div class=\"value\">\\n        Paperback\\n</div></td><td class=\"field actions\"><label>actions</label><div class=\"value\">\\n        <div>\\n          <a class=\"nobreak\" href=\"/review/show/2072742059\">view</a>\\n        </div>\\n</div></td>\\n</tr>',\n",
       " '<tr id=\"review_2078021246\" class=\"bookalike review\">\\n  <td class=\"field checkbox\"><label>checkbox</label><div class=\"value\">      &nbsp;\\n</div></td>  <td class=\"field position\" style=\"display: none\"><label>position</label><div class=\"value\"></div></td>  <td class=\"field cover\"><label>cover</label><div class=\"value\">        <div class=\"js-tooltipTrigger tooltipTrigger\" data-resource-type=\"Book\" data-resource-id=\"30964015\">\\n          <a href=\"/book/show/30964015-amor-a-cuatro-estaciones\"><img alt=\"Amor a Cuatro Estaciones: El Diario de Una Ilusión\" id=\"cover_review_2078021246\" src=\"https://i.gr-assets.com/images/S/compressed.photo.goodreads.com/books/1470028276l/30964015._SX50_.jpg\"></a>\\n        </div>\\n</div></td>  <td class=\"field title\"><label>title</label><div class=\"value\">    <a title=\"Amor a Cuatro Estaciones: El Diario de Una Ilusión\" href=\"/book/show/30964015-amor-a-cuatro-estaciones\">\\n      Amor a Cuatro Estaciones: El Diario de Una Ilusión\\n</a></div></td>  <td class=\"field author\"><label>author</label><div class=\"value\">      <a href=\"/author/show/13900498.Nacarid_Portal\">Portal, Nacarid</a>\\n</div></td>  <td class=\"field isbn\" style=\"display: none\"><label>isbn</label><div class=\"value\">    9801287403\\n</div></td>  <td class=\"field isbn13\" style=\"display: none\"><label>isbn13</label><div class=\"value\">    9789801287407\\n</div></td>  <td class=\"field asin\" style=\"display: none\"><label>asin</label><div class=\"value\">\\n</div></td>  <td class=\"field num_pages\" style=\"display: none\"><label>num pages</label><div class=\"value\">      <nobr>\\n        248\\n        <span class=\"greyText\">pp</span>\\n      </nobr>\\n</div></td>  <td class=\"field avg_rating\"><label>avg rating</label><div class=\"value\">    3.85\\n</div></td>  <td class=\"field num_ratings\" style=\"display: none\"><label>num ratings</label><div class=\"value\">    5,213\\n</div></td>  <td class=\"field date_pub\" style=\"display: none\"><label>date pub</label><div class=\"value\">      Jun 09, 2016\\n</div></td>  <td class=\"field date_pub_edition\" style=\"display: none\"><label>date pub edition</label><div class=\"value\">      Jun 19, 2016\\n</div></td>    \\n<td class=\"field rating\"><label>Carmen\\'s rating</label><div class=\"value\">\\n        <span class=\" staticStars notranslate\"><span size=\"15x15\" class=\"staticStar p0\"></span><span size=\"15x15\" class=\"staticStar p0\"></span><span size=\"15x15\" class=\"staticStar p0\"></span><span size=\"15x15\" class=\"staticStar p0\"></span><span size=\"15x15\" class=\"staticStar p0\"></span></span>\\n</div></td><td class=\"field shelves\"><label>my rating</label><div class=\"value\">\\n        <div class=\"stars\" data-resource-id=\"30964015\" data-user-id=\"0\" data-submit-url=\"/review/rate/30964015?stars_click=false\" data-rating=\"0\"><a class=\"star off\" title=\"did not like it\" href=\"#\" ref=\"\">1 of 5 stars</a><a class=\"star off\" title=\"it was ok\" href=\"#\" ref=\"\">2 of 5 stars</a><a class=\"star off\" title=\"liked it\" href=\"#\" ref=\"\">3 of 5 stars</a><a class=\"star off\" title=\"really liked it\" href=\"#\" ref=\"\">4 of 5 stars</a><a class=\"star off\" title=\"it was amazing\" href=\"#\" ref=\"\">5 of 5 stars</a></div>\\n        <span id=\"reviewMessage30964015_false\"></span>\\n        <span id=\"successMessage30964015_false\"></span>\\n        <div>\\n              <a class=\"smallText actionLinkLite\" rel=\"nofollow\" href=\"/user/new\">add to shelves</a>\\n        </div>\\n</div></td><td class=\"field review\" style=\"display: none\"><label>review</label><div class=\"value\">\\n            <span class=\"greyText\">None</span>\\n    <div class=\"clear\"></div>\\n</div></td><td class=\"field notes\" style=\"display: none\"><label>notes</label><div class=\"value\">\\n        <span class=\"greyText\">Notes are private!</span>\\n</div></td><td class=\"field recommender\" style=\"display: none\"><label>recommender</label><div class=\"value\">\\n        <span class=\"greyText\">none</span>\\n</div></td>\\n<td class=\"field comments\" style=\"display: none\"><label>comments</label><div class=\"value\">\\n    <a href=\"/review/show/2078021246\">0</a>\\n</div></td>\\n<td class=\"field votes\" style=\"display: none\"><label>votes</label><div class=\"value\">\\n    <a href=\"/rating/voters/2078021246?resource_type=Review\">0</a>\\n</div></td>\\n<td class=\"field read_count\" style=\"display: none\"><label># times read</label><div class=\"value\">\\n        0\\n</div></td><td class=\"field date_started\" style=\"display: none\"><label>date started</label><div class=\"value\">\\n    \\n        <div>\\n          <div class=\"editable_date date_started_new\">\\n      <span class=\"greyText\">not set</span>\\n</div>\\n\\n        </div>\\n\\n</div></td><td class=\"field date_read\"><label>date read</label><div class=\"value\">\\n    \\n        <div>\\n          <div class=\"editable_date date_read_new\">\\n      <span class=\"greyText\">not set</span>\\n</div>\\n\\n        </div>\\n\\n</div></td><td class=\"field date_added\"><label>date added</label><div class=\"value\">\\n    <span title=\"July 31, 2017\">\\n    Jul 31, 2017\\n  </span>\\n</div></td><td class=\"field date_purchased\" style=\"display: none\"><label>date purchased</label><div class=\"value\"></div></td><td class=\"field owned\" style=\"display: none\"><label>owned</label><div class=\"value\"></div></td><td class=\"field purchase_location\" style=\"display: none\"><label>purchase location</label><div class=\"value\"></div></td><td class=\"field condition\" style=\"display: none\"><label>condition</label><div class=\"value\"></div></td><td class=\"field format\" style=\"display: none\"><label>format</label><div class=\"value\">\\n        Paperback\\n</div></td><td class=\"field actions\"><label>actions</label><div class=\"value\">\\n        <div>\\n          <a class=\"nobreak\" href=\"/review/show/2078021246\">view</a>\\n        </div>\\n</div></td>\\n</tr>']"
      ]
     },
     "execution_count": 190,
     "metadata": {},
     "output_type": "execute_result"
    }
   ],
   "source": [
    "review"
   ]
  },
  {
   "cell_type": "markdown",
   "metadata": {},
   "source": [
    "you're going to want to make those giant strings of html into a handle-able-able object. So put it in a bowl with beatiful soup. "
   ]
  },
  {
   "cell_type": "code",
   "execution_count": 52,
   "metadata": {},
   "outputs": [],
   "source": [
    "soup = BeautifulSoup(review, 'html.parser')"
   ]
  },
  {
   "cell_type": "code",
   "execution_count": 53,
   "metadata": {},
   "outputs": [
    {
     "name": "stdout",
     "output_type": "stream",
     "text": [
      "<tr class=\"bookalike review\" id=\"review_667385890\">\n",
      " <td class=\"field checkbox\">\n",
      "  <label>\n",
      "   checkbox\n",
      "  </label>\n",
      "  <div class=\"value\">\n",
      "  </div>\n",
      " </td>\n",
      " <td class=\"field position\" style=\"display: none\">\n",
      "  <label>\n",
      "   position\n",
      "  </label>\n",
      "  <div class=\"value\">\n",
      "  </div>\n",
      " </td>\n",
      " <td class=\"field cover\">\n",
      "  <label>\n",
      "   cover\n",
      "  </label>\n",
      "  <div class=\"value\">\n",
      "   <div class=\"js-tooltipTrigger tooltipTrigger\" data-resource-id=\"2767052\" data-resource-type=\"Book\">\n",
      "    <a href=\"/book/show/2767052-the-hunger-games\">\n",
      "     <img alt=\"The Hunger Games (The Hunger Games, #1)\" id=\"cover_review_667385890\" src=\"https://i.gr-assets.com/images/S/compressed.photo.goodreads.com/books/1447303603l/2767052._SX50_.jpg\"/>\n",
      "    </a>\n",
      "   </div>\n",
      "  </div>\n",
      " </td>\n",
      " <td class=\"field title\">\n",
      "  <label>\n",
      "   title\n",
      "  </label>\n",
      "  <div class=\"value\">\n",
      "   <a href=\"/book/show/2767052-the-hunger-games\" title=\"The Hunger Games (The Hunger Games, #1)\">\n",
      "    The Hunger Games\n",
      "    <span class=\"darkGreyText\">\n",
      "     (The Hunger Games, #1)\n",
      "    </span>\n",
      "   </a>\n",
      "  </div>\n",
      " </td>\n",
      " <td class=\"field author\">\n",
      "  <label>\n",
      "   author\n",
      "  </label>\n",
      "  <div class=\"value\">\n",
      "   <a href=\"/author/show/153394.Suzanne_Collins\">\n",
      "    Collins, Suzanne\n",
      "   </a>\n",
      "  </div>\n",
      " </td>\n",
      " <td class=\"field isbn\" style=\"display: none\">\n",
      "  <label>\n",
      "   isbn\n",
      "  </label>\n",
      "  <div class=\"value\">\n",
      "   0439023483\n",
      "  </div>\n",
      " </td>\n",
      " <td class=\"field isbn13\" style=\"display: none\">\n",
      "  <label>\n",
      "   isbn13\n",
      "  </label>\n",
      "  <div class=\"value\">\n",
      "   9780439023481\n",
      "  </div>\n",
      " </td>\n",
      " <td class=\"field asin\" style=\"display: none\">\n",
      "  <label>\n",
      "   asin\n",
      "  </label>\n",
      "  <div class=\"value\">\n",
      "  </div>\n",
      " </td>\n",
      " <td class=\"field num_pages\" style=\"display: none\">\n",
      "  <label>\n",
      "   num pages\n",
      "  </label>\n",
      "  <div class=\"value\">\n",
      "   <nobr>\n",
      "    374\n",
      "    <span class=\"greyText\">\n",
      "     pp\n",
      "    </span>\n",
      "   </nobr>\n",
      "  </div>\n",
      " </td>\n",
      " <td class=\"field avg_rating\">\n",
      "  <label>\n",
      "   avg rating\n",
      "  </label>\n",
      "  <div class=\"value\">\n",
      "   4.33\n",
      "  </div>\n",
      " </td>\n",
      " <td class=\"field num_ratings\" style=\"display: none\">\n",
      "  <label>\n",
      "   num ratings\n",
      "  </label>\n",
      "  <div class=\"value\">\n",
      "   5,936,319\n",
      "  </div>\n",
      " </td>\n",
      " <td class=\"field date_pub\" style=\"display: none\">\n",
      "  <label>\n",
      "   date pub\n",
      "  </label>\n",
      "  <div class=\"value\">\n",
      "   Sep 14, 2008\n",
      "  </div>\n",
      " </td>\n",
      " <td class=\"field date_pub_edition\" style=\"display: none\">\n",
      "  <label>\n",
      "   date pub edition\n",
      "  </label>\n",
      "  <div class=\"value\">\n",
      "   Sep 14, 2008\n",
      "  </div>\n",
      " </td>\n",
      " <td class=\"field rating\">\n",
      "  <label>\n",
      "   Emme's rating\n",
      "  </label>\n",
      "  <div class=\"value\">\n",
      "   <span class=\"staticStars notranslate\" title=\"it was amazing\">\n",
      "    <span class=\"staticStar p10\" size=\"15x15\">\n",
      "     it was amazing\n",
      "    </span>\n",
      "    <span class=\"staticStar p10\" size=\"15x15\">\n",
      "    </span>\n",
      "    <span class=\"staticStar p10\" size=\"15x15\">\n",
      "    </span>\n",
      "    <span class=\"staticStar p10\" size=\"15x15\">\n",
      "    </span>\n",
      "    <span class=\"staticStar p10\" size=\"15x15\">\n",
      "    </span>\n",
      "   </span>\n",
      "  </div>\n",
      " </td>\n",
      " <td class=\"field shelves\">\n",
      "  <label>\n",
      "   my rating\n",
      "  </label>\n",
      "  <div class=\"value\">\n",
      "   <div class=\"stars\" data-rating=\"0\" data-resource-id=\"2767052\" data-submit-url=\"/review/rate/2767052?stars_click=false\" data-user-id=\"0\">\n",
      "    <a class=\"star off\" href=\"#\" ref=\"\" title=\"did not like it\">\n",
      "     1 of 5 stars\n",
      "    </a>\n",
      "    <a class=\"star off\" href=\"#\" ref=\"\" title=\"it was ok\">\n",
      "     2 of 5 stars\n",
      "    </a>\n",
      "    <a class=\"star off\" href=\"#\" ref=\"\" title=\"liked it\">\n",
      "     3 of 5 stars\n",
      "    </a>\n",
      "    <a class=\"star off\" href=\"#\" ref=\"\" title=\"really liked it\">\n",
      "     4 of 5 stars\n",
      "    </a>\n",
      "    <a class=\"star off\" href=\"#\" ref=\"\" title=\"it was amazing\">\n",
      "     5 of 5 stars\n",
      "    </a>\n",
      "   </div>\n",
      "   <span id=\"reviewMessage2767052_false\">\n",
      "   </span>\n",
      "   <span id=\"successMessage2767052_false\">\n",
      "   </span>\n",
      "   <div>\n",
      "    <a class=\"smallText actionLinkLite\" href=\"/user/new\" rel=\"nofollow\">\n",
      "     add to shelves\n",
      "    </a>\n",
      "   </div>\n",
      "  </div>\n",
      " </td>\n",
      " <td class=\"field review\" style=\"display: none\">\n",
      "  <label>\n",
      "   review\n",
      "  </label>\n",
      "  <div class=\"value\">\n",
      "   <span class=\"greyText\">\n",
      "    None\n",
      "   </span>\n",
      "   <div class=\"clear\">\n",
      "   </div>\n",
      "  </div>\n",
      " </td>\n",
      " <td class=\"field notes\" style=\"display: none\">\n",
      "  <label>\n",
      "   notes\n",
      "  </label>\n",
      "  <div class=\"value\">\n",
      "   <span class=\"greyText\">\n",
      "    Notes are private!\n",
      "   </span>\n",
      "  </div>\n",
      " </td>\n",
      " <td class=\"field recommender\" style=\"display: none\">\n",
      "  <label>\n",
      "   recommender\n",
      "  </label>\n",
      "  <div class=\"value\">\n",
      "   <span class=\"greyText\">\n",
      "    none\n",
      "   </span>\n",
      "  </div>\n",
      " </td>\n",
      " <td class=\"field comments\" style=\"display: none\">\n",
      "  <label>\n",
      "   comments\n",
      "  </label>\n",
      "  <div class=\"value\">\n",
      "   <a href=\"/review/show/667385890\">\n",
      "    0\n",
      "   </a>\n",
      "  </div>\n",
      " </td>\n",
      " <td class=\"field votes\" style=\"display: none\">\n",
      "  <label>\n",
      "   votes\n",
      "  </label>\n",
      "  <div class=\"value\">\n",
      "   <a href=\"/rating/voters/667385890?resource_type=Review\">\n",
      "    0\n",
      "   </a>\n",
      "  </div>\n",
      " </td>\n",
      " <td class=\"field read_count\" style=\"display: none\">\n",
      "  <label>\n",
      "   # times read\n",
      "  </label>\n",
      "  <div class=\"value\">\n",
      "   1\n",
      "  </div>\n",
      " </td>\n",
      " <td class=\"field date_started\" style=\"display: none\">\n",
      "  <label>\n",
      "   date started\n",
      "  </label>\n",
      "  <div class=\"value\">\n",
      "   <div class=\"date_row\">\n",
      "    <div class=\"editable_date date_started_23630812f6224048a91bc2b8a18fd8d3\">\n",
      "     <span class=\"greyText\">\n",
      "      not set\n",
      "     </span>\n",
      "    </div>\n",
      "   </div>\n",
      "  </div>\n",
      " </td>\n",
      " <td class=\"field date_read\">\n",
      "  <label>\n",
      "   date read\n",
      "  </label>\n",
      "  <div class=\"value\">\n",
      "   <div class=\"date_row\">\n",
      "    <div class=\"editable_date date_read_23630812f6224048a91bc2b8a18fd8d3\">\n",
      "     <span class=\"greyText\">\n",
      "      not set\n",
      "     </span>\n",
      "    </div>\n",
      "   </div>\n",
      "  </div>\n",
      " </td>\n",
      " <td class=\"field date_added\">\n",
      "  <label>\n",
      "   date added\n",
      "  </label>\n",
      "  <div class=\"value\">\n",
      "   <span title=\"July 14, 2013\">\n",
      "    Jul 14, 2013\n",
      "   </span>\n",
      "  </div>\n",
      " </td>\n",
      " <td class=\"field date_purchased\" style=\"display: none\">\n",
      "  <label>\n",
      "   date purchased\n",
      "  </label>\n",
      "  <div class=\"value\">\n",
      "  </div>\n",
      " </td>\n",
      " <td class=\"field owned\" style=\"display: none\">\n",
      "  <label>\n",
      "   owned\n",
      "  </label>\n",
      "  <div class=\"value\">\n",
      "  </div>\n",
      " </td>\n",
      " <td class=\"field purchase_location\" style=\"display: none\">\n",
      "  <label>\n",
      "   purchase location\n",
      "  </label>\n",
      "  <div class=\"value\">\n",
      "  </div>\n",
      " </td>\n",
      " <td class=\"field condition\" style=\"display: none\">\n",
      "  <label>\n",
      "   condition\n",
      "  </label>\n",
      "  <div class=\"value\">\n",
      "  </div>\n",
      " </td>\n",
      " <td class=\"field format\" style=\"display: none\">\n",
      "  <label>\n",
      "   format\n",
      "  </label>\n",
      "  <div class=\"value\">\n",
      "   Hardcover\n",
      "  </div>\n",
      " </td>\n",
      " <td class=\"field actions\">\n",
      "  <label>\n",
      "   actions\n",
      "  </label>\n",
      "  <div class=\"value\">\n",
      "   <div>\n",
      "    <a class=\"nobreak\" href=\"/review/show/667385890\">\n",
      "     view\n",
      "    </a>\n",
      "   </div>\n",
      "  </div>\n",
      " </td>\n",
      "</tr>\n"
     ]
    }
   ],
   "source": [
    "print(soup.prettify())"
   ]
  },
  {
   "cell_type": "code",
   "execution_count": 198,
   "metadata": {},
   "outputs": [
    {
     "data": {
      "text/plain": [
       "['title', 'The', 'Hunger', 'Games', '(The', 'Hunger', 'Games,', '#1)']"
      ]
     },
     "execution_count": 198,
     "metadata": {},
     "output_type": "execute_result"
    }
   ],
   "source": [
    "title = soup.find_all(class_ = re.compile('title'))[0].text\n",
    "\n",
    "title.split()"
   ]
  },
  {
   "cell_type": "code",
   "execution_count": 196,
   "metadata": {
    "scrolled": true
   },
   "outputs": [
    {
     "data": {
      "text/plain": [
       "'title \\n      The Hunger Games\\n        (The Hunger Games, #1)\\n'"
      ]
     },
     "execution_count": 196,
     "metadata": {},
     "output_type": "execute_result"
    }
   ],
   "source": [
    "title = soup.find_all(class_ = re.compile('title'))[0].text\n",
    "title"
   ]
  },
  {
   "cell_type": "code",
   "execution_count": 205,
   "metadata": {},
   "outputs": [],
   "source": [
    "pages = int(soup.find_all(class_ =re.compile('num_pages'))[0].text.split()[2])"
   ]
  },
  {
   "cell_type": "code",
   "execution_count": 211,
   "metadata": {},
   "outputs": [
    {
     "data": {
      "text/plain": [
       "4.33"
      ]
     },
     "execution_count": 211,
     "metadata": {},
     "output_type": "execute_result"
    }
   ],
   "source": [
    "av_rate = float(soup.find_all(class_ =re.compile('avg_rating'))[0].text.split()[2])\n",
    "av_rate"
   ]
  },
  {
   "cell_type": "code",
   "execution_count": 212,
   "metadata": {},
   "outputs": [
    {
     "ename": "ValueError",
     "evalue": "invalid literal for int() with base 10: '5,936,319'",
     "output_type": "error",
     "traceback": [
      "\u001b[0;31m---------------------------------------------------------------------------\u001b[0m",
      "\u001b[0;31mValueError\u001b[0m                                Traceback (most recent call last)",
      "\u001b[0;32m<ipython-input-212-2c492333220e>\u001b[0m in \u001b[0;36m<module>\u001b[0;34m\u001b[0m\n\u001b[0;32m----> 1\u001b[0;31m \u001b[0mnum_rate\u001b[0m \u001b[0;34m=\u001b[0m \u001b[0mint\u001b[0m\u001b[0;34m(\u001b[0m\u001b[0msoup\u001b[0m\u001b[0;34m.\u001b[0m\u001b[0mfind_all\u001b[0m\u001b[0;34m(\u001b[0m\u001b[0mclass_\u001b[0m \u001b[0;34m=\u001b[0m\u001b[0mre\u001b[0m\u001b[0;34m.\u001b[0m\u001b[0mcompile\u001b[0m\u001b[0;34m(\u001b[0m\u001b[0;34m'num_ratings'\u001b[0m\u001b[0;34m)\u001b[0m\u001b[0;34m)\u001b[0m\u001b[0;34m[\u001b[0m\u001b[0;36m0\u001b[0m\u001b[0;34m]\u001b[0m\u001b[0;34m.\u001b[0m\u001b[0mtext\u001b[0m\u001b[0;34m.\u001b[0m\u001b[0msplit\u001b[0m\u001b[0;34m(\u001b[0m\u001b[0;34m)\u001b[0m\u001b[0;34m[\u001b[0m\u001b[0;36m2\u001b[0m\u001b[0;34m]\u001b[0m\u001b[0;34m)\u001b[0m\u001b[0;34m\u001b[0m\u001b[0;34m\u001b[0m\u001b[0m\n\u001b[0m",
      "\u001b[0;31mValueError\u001b[0m: invalid literal for int() with base 10: '5,936,319'"
     ]
    }
   ],
   "source": [
    "num_rate = int(soup.find_all(class_ =re.compile('num_ratings'))[0].text.split()[2])"
   ]
  },
  {
   "cell_type": "code",
   "execution_count": 167,
   "metadata": {},
   "outputs": [],
   "source": [
    "user_rating = soup.find_all(class_ =re.compile('field rating'))[0].text"
   ]
  },
  {
   "cell_type": "markdown",
   "metadata": {},
   "source": [
    "**Putting it all together**"
   ]
  },
  {
   "cell_type": "code",
   "execution_count": 193,
   "metadata": {},
   "outputs": [],
   "source": [
    "def gr_db_cleaner(find_lim = 10):\n",
    "    '''\n",
    "    a function that reads in goodreads user review tables gathered\n",
    "    by the gr_scraper and returns a list for schema\n",
    "    +++++++++++\n",
    "    Atributes\n",
    "    find_lim (int): how many user-reviews to clean.  \n",
    "    +++++++\n",
    "    '''\n",
    "    \n",
    "    client = MongoClient('localhost', 27017)\n",
    "    db=client['reviews']\n",
    "    collection=db['user_reviews']\n",
    "\n",
    "    documents = [x for x in collection.find().limit(find_lim)]\n",
    "    all_revs = []\n",
    "    for idx, users in enumerate(documents):\n",
    "        userid = documents[idx]['userid']\n",
    "        review_list = documents[idx]['reviews']\n",
    "        if len(review_list) ==0:\n",
    "            sub_rev = [None, None, userid, None, None, None]\n",
    "            all_revs.append(sub_rev)\n",
    "        else:\n",
    "            for review in review_list:\n",
    "                soup = BeautifulSoup(review, 'html.parser')\n",
    "                title = soup.find_all(class_ = re.compile('title'))[0].text\n",
    "                pages = soup.find_all(class_ =re.compile('num_pages'))[0].text\n",
    "                av_rate = soup.find_all(class_ =re.compile('avg_rating'))[0].text\n",
    "                num_rate = soup.find_all(class_ =re.compile('num_ratings'))[0].text\n",
    "                user_rating = soup.find_all(class_ =re.compile('field rating'))[0].text\n",
    "                sub_rev = [title, pages, userid, user_rating, num_rate, av_rate]\n",
    "                all_revs.append(sub_rev)\n",
    "    return all_revs"
   ]
  },
  {
   "cell_type": "code",
   "execution_count": 195,
   "metadata": {},
   "outputs": [
    {
     "data": {
      "text/plain": [
       "[[None, None, 7171593, None, None, None],\n",
       " [None, None, 6060131, None, None, None],\n",
       " ['title \\n      The Hunger Games\\n        (The Hunger Games, #1)\\n',\n",
       "  'num pages \\n        374\\n        pp\\n\\n',\n",
       "  22197300,\n",
       "  \"Emme's rating\\nit was amazing\\n\",\n",
       "  'num ratings    5,936,319\\n',\n",
       "  'avg rating    4.33\\n'],\n",
       " ['title \\n      Divergent\\n        (Divergent, #1)\\n',\n",
       "  'num pages \\n        487\\n        pp\\n\\n',\n",
       "  22197300,\n",
       "  \"Emme's rating\\nit was amazing\\n\",\n",
       "  'num ratings    2,706,147\\n',\n",
       "  'avg rating    4.20\\n'],\n",
       " ['title \\n      Shiver\\n        (The Wolves of Mercy Falls, #1)\\n',\n",
       "  'num pages \\n        392\\n        pp\\n\\n',\n",
       "  22197300,\n",
       "  \"Emme's rating\\nit was amazing\\n\",\n",
       "  'num ratings    411,613\\n',\n",
       "  'avg rating    3.77\\n'],\n",
       " ['title \\n      Good Omens: The Nice and Accurate Prophecies of Agnes Nutter, Witch\\n',\n",
       "  'num pages \\n        491\\n        pp\\n\\n',\n",
       "  22197300,\n",
       "  \"Emme's rating\\nit was amazing\\n\",\n",
       "  'num ratings    476,232\\n',\n",
       "  'avg rating    4.25\\n'],\n",
       " ['title \\n      The Host\\n        (The Host, #1)\\n',\n",
       "  'num pages \\n        620\\n        pp\\n\\n',\n",
       "  22197300,\n",
       "  \"Emme's rating\\nit was amazing\\n\",\n",
       "  'num ratings    848,921\\n',\n",
       "  'avg rating    3.84\\n'],\n",
       " ['title \\n      Sabriel\\n        (Abhorsen,  #1)\\n',\n",
       "  'num pages \\n        491\\n        pp\\n\\n',\n",
       "  22197300,\n",
       "  \"Emme's rating\\nit was amazing\\n\",\n",
       "  'num ratings    170,803\\n',\n",
       "  'avg rating    4.17\\n'],\n",
       " ['title \\n      Lirael\\n        (Abhorsen, #2)\\n',\n",
       "  'num pages \\n        464\\n        pp\\n\\n',\n",
       "  22197300,\n",
       "  \"Emme's rating\\nit was amazing\\n\",\n",
       "  'num ratings    100,837\\n',\n",
       "  'avg rating    4.29\\n'],\n",
       " ['title \\n      Fire\\n        (Graceling Realm, #2)\\n',\n",
       "  'num pages \\n        480\\n        pp\\n\\n',\n",
       "  22197300,\n",
       "  \"Emme's rating\\nit was amazing\\n\",\n",
       "  'num ratings    152,215\\n',\n",
       "  'avg rating    4.11\\n'],\n",
       " ['title \\n      Graceling\\n        (Graceling Realm, #1)\\n',\n",
       "  'num pages \\n        471\\n        pp\\n\\n',\n",
       "  22197300,\n",
       "  \"Emme's rating\\nit was amazing\\n\",\n",
       "  'num ratings    359,270\\n',\n",
       "  'avg rating    4.09\\n'],\n",
       " ['title \\n      Inkheart\\n        (Inkworld, #1)\\n',\n",
       "  'num pages \\n        563\\n        pp\\n\\n',\n",
       "  22197300,\n",
       "  \"Emme's rating\\nit was amazing\\n\",\n",
       "  'num ratings    342,693\\n',\n",
       "  'avg rating    3.88\\n'],\n",
       " ['title \\n      The Baby Book: Everything You Need to Know About Your Baby from Birth to Age Two\\n',\n",
       "  'num pages \\n        784\\n        pp\\n\\n',\n",
       "  69817947,\n",
       "  \"Carmen's rating\\nit was amazing\\n\",\n",
       "  'num ratings    6,955\\n',\n",
       "  'avg rating    4.17\\n'],\n",
       " ['title \\n      The No-Cry Sleep Solution: Gentle Ways to Help Your Baby Sleep Through the Night\\n',\n",
       "  'num pages \\n        254\\n        pp\\n\\n',\n",
       "  69817947,\n",
       "  \"Carmen's rating\\nit was amazing\\n\",\n",
       "  'num ratings    7,776\\n',\n",
       "  'avg rating    3.49\\n'],\n",
       " ['title \\n      Attachment Parenting: Instinctive Care for Your Baby and Young Child\\n',\n",
       "  'num pages \\n        336\\n        pp\\n\\n',\n",
       "  69817947,\n",
       "  \"Carmen's rating\\nit was amazing\\n\",\n",
       "  'num ratings    415\\n',\n",
       "  'avg rating    3.98\\n'],\n",
       " ['title \\n      Nighttime Parenting (Revised): How to Get Your Baby and Child to Sleep\\n',\n",
       "  'num pages \\n        224\\n        pp\\n\\n',\n",
       "  69817947,\n",
       "  \"Carmen's rating\\nit was amazing\\n\",\n",
       "  'num ratings    448\\n',\n",
       "  'avg rating    3.86\\n'],\n",
       " ['title \\n      Amor a Cuatro Estaciones: El Diario de Una Ilusión\\n',\n",
       "  'num pages \\n        248\\n        pp\\n\\n',\n",
       "  69817947,\n",
       "  \"Carmen's rating\\n\\n\",\n",
       "  'num ratings    5,213\\n',\n",
       "  'avg rating    3.85\\n'],\n",
       " ['title \\n      سینوهه پزشک مخصوص فرعون، جلد اول\\n',\n",
       "  'num pages unknown\\n',\n",
       "  41036771,\n",
       "  \"محمد's rating\\n\\n\",\n",
       "  'num ratings    16,985\\n',\n",
       "  'avg rating    4.12\\n'],\n",
       " ['title \\n      شمس المعارف الكبرى\\n',\n",
       "  'num pages unknown\\n',\n",
       "  54622877,\n",
       "  \"Jmmmm's rating\\n\\n\",\n",
       "  'num ratings    3,753\\n',\n",
       "  'avg rating    3.77\\n'],\n",
       " ['title \\n      Sex, Lies, and Online Dating\\n        (Writer Friends, #1)\\n',\n",
       "  'num pages \\n        352\\n        pp\\n\\n',\n",
       "  13519586,\n",
       "  \"Shannon's rating\\nit was amazing\\n\",\n",
       "  'num ratings    12,014\\n',\n",
       "  'avg rating    3.80\\n'],\n",
       " ['title \\n      Addicted for Now\\n        (Addicted, #2)\\n',\n",
       "  'num pages \\n        488\\n        pp\\n\\n',\n",
       "  13519586,\n",
       "  \"Shannon's rating\\nit was amazing\\n\",\n",
       "  'num ratings    11,860\\n',\n",
       "  'avg rating    4.26\\n'],\n",
       " [\"title \\n      The Trouble With Valentine's Day\\n        (Chinooks Hockey Team, #3)\\n\",\n",
       "  'num pages \\n        368\\n        pp\\n\\n',\n",
       "  13519586,\n",
       "  \"Shannon's rating\\nit was amazing\\n\",\n",
       "  'num ratings    12,516\\n',\n",
       "  'avg rating    3.94\\n'],\n",
       " ['title \\n      Ricochet\\n        (Addicted, #1.5)\\n',\n",
       "  'num pages \\n        260\\n        pp\\n\\n',\n",
       "  13519586,\n",
       "  \"Shannon's rating\\nit was amazing\\n\",\n",
       "  'num ratings    10,240\\n',\n",
       "  'avg rating    4.12\\n'],\n",
       " ['title \\n      Dreamland\\n',\n",
       "  'num pages \\n        250\\n        pp\\n\\n',\n",
       "  13519586,\n",
       "  \"Shannon's rating\\nit was amazing\\n\",\n",
       "  'num ratings    71,741\\n',\n",
       "  'avg rating    3.91\\n'],\n",
       " ['title \\n      Simply Irresistible\\n        (Chinooks Hockey Team, #1)\\n',\n",
       "  'num pages \\n        375\\n        pp\\n\\n',\n",
       "  13519586,\n",
       "  \"Shannon's rating\\nit was amazing\\n\",\n",
       "  'num ratings    20,118\\n',\n",
       "  'avg rating    3.85\\n'],\n",
       " ['title \\n      See Jane Score\\n        (Chinooks Hockey Team, #2)\\n',\n",
       "  'num pages \\n        363\\n        pp\\n\\n',\n",
       "  13519586,\n",
       "  \"Shannon's rating\\nit was amazing\\n\",\n",
       "  'num ratings    23,894\\n',\n",
       "  'avg rating    4.05\\n'],\n",
       " ['title \\n      Kiss the Sky\\n        (Calloway Sisters, #1; Addicted, #2.1)\\n',\n",
       "  'num pages \\n        443\\n        pp\\n\\n',\n",
       "  13519586,\n",
       "  \"Shannon's rating\\nit was amazing\\n\",\n",
       "  'num ratings    14,558\\n',\n",
       "  'avg rating    4.20\\n'],\n",
       " ['title \\n      This Lullaby\\n',\n",
       "  'num pages \\n        345\\n        pp\\n\\n',\n",
       "  13519586,\n",
       "  \"Shannon's rating\\nit was amazing\\n\",\n",
       "  'num ratings    166,982\\n',\n",
       "  'avg rating    4.03\\n'],\n",
       " ['title \\n      Verity\\n',\n",
       "  'num pages \\n        333\\n        pp\\n\\n',\n",
       "  13519586,\n",
       "  \"Shannon's rating\\nit was amazing\\n\",\n",
       "  'num ratings    72,226\\n',\n",
       "  'avg rating    4.35\\n'],\n",
       " ['title \\n      The 7 Habits of Highly Effective People: Powerful Lessons in Personal Change\\n',\n",
       "  'num pages \\n        384\\n        pp\\n\\n',\n",
       "  27177960,\n",
       "  \"Jonathan B. Coleman's rating\\nit was amazing\\n\",\n",
       "  'num ratings    453,076\\n',\n",
       "  'avg rating    4.10\\n'],\n",
       " ['title \\n      How to Worship a King: Prepare Your Heart. Prepare Your World. Prepare the Way\\n',\n",
       "  'num pages \\n        271\\n        pp\\n\\n',\n",
       "  27177960,\n",
       "  \"Jonathan B. Coleman's rating\\nit was amazing\\n\",\n",
       "  'num ratings    333\\n',\n",
       "  'avg rating    4.43\\n'],\n",
       " ['title \\n      Date Your Wife\\n',\n",
       "  'num pages \\n        162\\n        pp\\n\\n',\n",
       "  27177960,\n",
       "  \"Jonathan B. Coleman's rating\\nit was amazing\\n\",\n",
       "  'num ratings    551\\n',\n",
       "  'avg rating    3.82\\n'],\n",
       " ['title \\n      Dangerous Calling: Confronting the Unique Challenges of Pastoral Ministry\\n',\n",
       "  'num pages \\n        242\\n        pp\\n\\n',\n",
       "  27177960,\n",
       "  \"Jonathan B. Coleman's rating\\nit was amazing\\n\",\n",
       "  'num ratings    2,796\\n',\n",
       "  'avg rating    4.37\\n'],\n",
       " ['title \\n      Knowing God\\n',\n",
       "  'num pages unknown\\n',\n",
       "  27177960,\n",
       "  \"Jonathan B. Coleman's rating\\nit was amazing\\n\",\n",
       "  'num ratings    41,604\\n',\n",
       "  'avg rating    4.28\\n'],\n",
       " ['title \\n      Doxology and Theology: How the Gospel Forms the Worship Leader: How the Gospel Forms the Worship Leader\\n',\n",
       "  'num pages \\n        208\\n        pp\\n\\n',\n",
       "  27177960,\n",
       "  \"Jonathan B. Coleman's rating\\nit was amazing\\n\",\n",
       "  'num ratings    308\\n',\n",
       "  'avg rating    4.29\\n'],\n",
       " ['title \\n      Can I Trust The Bible?\\n        (Crucial Questions, #2)\\n',\n",
       "  'num pages \\n        65\\n        pp\\n\\n',\n",
       "  27177960,\n",
       "  \"Jonathan B. Coleman's rating\\nit was amazing\\n\",\n",
       "  'num ratings    768\\n',\n",
       "  'avg rating    4.07\\n'],\n",
       " ['title \\n      The New Strong-Willed Child\\n',\n",
       "  'num pages \\n        287\\n        pp\\n\\n',\n",
       "  27177960,\n",
       "  \"Jonathan B. Coleman's rating\\nit was amazing\\n\",\n",
       "  'num ratings    3,409\\n',\n",
       "  'avg rating    3.80\\n'],\n",
       " ['title \\n      Morning and Evening: A New Edition of the Classic Devotional Based on The Holy Bible, English Standard Version\\n',\n",
       "  'num pages \\n        400\\n        pp\\n\\n',\n",
       "  27177960,\n",
       "  \"Jonathan B. Coleman's rating\\nit was amazing\\n\",\n",
       "  'num ratings    7,623\\n',\n",
       "  'avg rating    4.55\\n'],\n",
       " ['title \\n      Creature of the Word: The Jesus-Centered Church: The Jesus-Centered Church\\n',\n",
       "  'num pages \\n        311\\n        pp\\n\\n',\n",
       "  27177960,\n",
       "  \"Jonathan B. Coleman's rating\\nit was amazing\\n\",\n",
       "  'num ratings    954\\n',\n",
       "  'avg rating    4.12\\n'],\n",
       " [None, None, 769791, None, None, None],\n",
       " ['title \\n      The Pursuit of God: The Human Thirst for the Divine\\n',\n",
       "  'num pages \\n        128\\n        pp\\n\\n',\n",
       "  65625282,\n",
       "  \"Adval's rating\\nit was amazing\\n\",\n",
       "  'num ratings    54,114\\n',\n",
       "  'avg rating    4.34\\n'],\n",
       " ['title \\n      Knowing God\\n',\n",
       "  'num pages \\n        286\\n        pp\\n\\n',\n",
       "  65625282,\n",
       "  \"Adval's rating\\nit was amazing\\n\",\n",
       "  'num ratings    41,604\\n',\n",
       "  'avg rating    4.28\\n'],\n",
       " ['title \\n      Mere Christianity\\n',\n",
       "  'num pages \\n        191\\n        pp\\n\\n',\n",
       "  65625282,\n",
       "  \"Adval's rating\\nit was amazing\\n\",\n",
       "  'num ratings    267,556\\n',\n",
       "  'avg rating    4.32\\n'],\n",
       " ['title \\n      The Screwtape Letters\\n',\n",
       "  'num pages \\n        223\\n        pp\\n\\n',\n",
       "  65625282,\n",
       "  \"Adval's rating\\nit was amazing\\n\",\n",
       "  'num ratings    304,790\\n',\n",
       "  'avg rating    4.22\\n'],\n",
       " ['title \\n      The Purpose Driven Life: What on Earth Am I Here for?\\n',\n",
       "  'num pages \\n        334\\n        pp\\n\\n',\n",
       "  65625282,\n",
       "  \"Adval's rating\\nit was amazing\\n\",\n",
       "  'num ratings    213,511\\n',\n",
       "  'avg rating    3.92\\n'],\n",
       " ['title \\n      Union with Christ: The Way to Know and Enjoy God\\n',\n",
       "  'num pages \\n        320\\n        pp\\n\\n',\n",
       "  65625282,\n",
       "  \"Adval's rating\\n\\n\",\n",
       "  'num ratings    850\\n',\n",
       "  'avg rating    4.42\\n']]"
      ]
     },
     "execution_count": 195,
     "metadata": {},
     "output_type": "execute_result"
    }
   ],
   "source": [
    "gr_db_cleaner()"
   ]
  },
  {
   "cell_type": "code",
   "execution_count": 181,
   "metadata": {},
   "outputs": [
    {
     "data": {
      "text/plain": [
       "7171593"
      ]
     },
     "execution_count": 181,
     "metadata": {},
     "output_type": "execute_result"
    }
   ],
   "source": [
    "documents = [x for x in coll.find().limit(1000)]\n",
    "documents[0]['userid']"
   ]
  },
  {
   "cell_type": "code",
   "execution_count": 183,
   "metadata": {},
   "outputs": [
    {
     "data": {
      "text/plain": [
       "{'_id': ObjectId('5e10abaa4243f69009db6d07'), 'reviews': [], 'userid': 7171593}"
      ]
     },
     "execution_count": 183,
     "metadata": {},
     "output_type": "execute_result"
    }
   ],
   "source": [
    "documents[0]"
   ]
  },
  {
   "cell_type": "code",
   "execution_count": 186,
   "metadata": {},
   "outputs": [
    {
     "data": {
      "text/plain": [
       "5"
      ]
     },
     "execution_count": 186,
     "metadata": {},
     "output_type": "execute_result"
    }
   ],
   "source": [
    "len(documents[3]['reviews'])"
   ]
  },
  {
   "cell_type": "code",
   "execution_count": 191,
   "metadata": {},
   "outputs": [
    {
     "data": {
      "text/plain": [
       "0"
      ]
     },
     "execution_count": 191,
     "metadata": {},
     "output_type": "execute_result"
    }
   ],
   "source": [
    "lst = []\n",
    "len(lst)"
   ]
  },
  {
   "cell_type": "code",
   "execution_count": null,
   "metadata": {},
   "outputs": [],
   "source": []
  }
 ],
 "metadata": {
  "kernelspec": {
   "display_name": "Python 3",
   "language": "python",
   "name": "python3"
  },
  "language_info": {
   "codemirror_mode": {
    "name": "ipython",
    "version": 3
   },
   "file_extension": ".py",
   "mimetype": "text/x-python",
   "name": "python",
   "nbconvert_exporter": "python",
   "pygments_lexer": "ipython3",
   "version": "3.7.4"
  }
 },
 "nbformat": 4,
 "nbformat_minor": 2
}
