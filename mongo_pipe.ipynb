{
 "cells": [
  {
   "cell_type": "code",
   "execution_count": 5,
   "metadata": {},
   "outputs": [],
   "source": [
    "from pymongo import MongoClient\n",
    "import pprint\n",
    "import json"
   ]
  },
  {
   "cell_type": "code",
   "execution_count": 3,
   "metadata": {},
   "outputs": [],
   "source": [
    "\n",
    "client = MongoClient('localhost', 27017)\n",
    "db=client['reviews']\n",
    "coll=db['user_reviews']"
   ]
  },
  {
   "cell_type": "code",
   "execution_count": 16,
   "metadata": {},
   "outputs": [
    {
     "data": {
      "text/plain": [
       "['user_reviews']"
      ]
     },
     "execution_count": 16,
     "metadata": {},
     "output_type": "execute_result"
    }
   ],
   "source": [
    "db.list_collection_names()\n",
    "\n"
   ]
  },
  {
   "cell_type": "markdown",
   "metadata": {},
   "source": [
    ".find() creates a \"cursor\" which pulls the data. .limit() keeps you from pulling all the data. Wrapping the \"cursor\" in a list comprehension builds that cursor out iteratively into a list containing the things you want to manipulate. Ok? Cool. "
   ]
  },
  {
   "cell_type": "code",
   "execution_count": 19,
   "metadata": {},
   "outputs": [],
   "source": [
    "test = [x for x in coll.find().limit(3)][2]"
   ]
  },
  {
   "cell_type": "markdown",
   "metadata": {},
   "source": [
    "now, its more complicated than that, because all of this is nested *again* So in the cursor list? you've got a dictonary that holds user_id and a list of reviews. so index into 'reviews' and you get to a list of your actual scraped bits, the data from goodreads. "
   ]
  },
  {
   "cell_type": "code",
   "execution_count": 47,
   "metadata": {},
   "outputs": [],
   "source": [
    "review = test['reviews'][0]"
   ]
  },
  {
   "cell_type": "code",
   "execution_count": 50,
   "metadata": {},
   "outputs": [
    {
     "data": {
      "text/plain": [
       "str"
      ]
     },
     "execution_count": 50,
     "metadata": {},
     "output_type": "execute_result"
    }
   ],
   "source": [
    "type(review)"
   ]
  },
  {
   "cell_type": "code",
   "execution_count": 49,
   "metadata": {},
   "outputs": [
    {
     "data": {
      "text/plain": [
       "'<tr id=\"review_667385890\" class=\"bookalike review\">\\n  <td class=\"field checkbox\"><label>checkbox</label><div class=\"value\">      &nbsp;\\n</div></td>  <td class=\"field position\" style=\"display: none\"><label>position</label><div class=\"value\"></div></td>  <td class=\"field cover\"><label>cover</label><div class=\"value\">        <div class=\"js-tooltipTrigger tooltipTrigger\" data-resource-type=\"Book\" data-resource-id=\"2767052\">\\n          <a href=\"/book/show/2767052-the-hunger-games\"><img alt=\"The Hunger Games (The Hunger Games, #1)\" id=\"cover_review_667385890\" src=\"https://i.gr-assets.com/images/S/compressed.photo.goodreads.com/books/1447303603l/2767052._SX50_.jpg\"></a>\\n        </div>\\n</div></td>  <td class=\"field title\"><label>title</label><div class=\"value\">    <a title=\"The Hunger Games (The Hunger Games, #1)\" href=\"/book/show/2767052-the-hunger-games\">\\n      The Hunger Games\\n        <span class=\"darkGreyText\">(The Hunger Games, #1)</span>\\n</a></div></td>  <td class=\"field author\"><label>author</label><div class=\"value\">      <a href=\"/author/show/153394.Suzanne_Collins\">Collins, Suzanne</a>\\n</div></td>  <td class=\"field isbn\" style=\"display: none\"><label>isbn</label><div class=\"value\">    0439023483\\n</div></td>  <td class=\"field isbn13\" style=\"display: none\"><label>isbn13</label><div class=\"value\">    9780439023481\\n</div></td>  <td class=\"field asin\" style=\"display: none\"><label>asin</label><div class=\"value\">\\n</div></td>  <td class=\"field num_pages\" style=\"display: none\"><label>num pages</label><div class=\"value\">      <nobr>\\n        374\\n        <span class=\"greyText\">pp</span>\\n      </nobr>\\n</div></td>  <td class=\"field avg_rating\"><label>avg rating</label><div class=\"value\">    4.33\\n</div></td>  <td class=\"field num_ratings\" style=\"display: none\"><label>num ratings</label><div class=\"value\">    5,936,319\\n</div></td>  <td class=\"field date_pub\" style=\"display: none\"><label>date pub</label><div class=\"value\">      Sep 14, 2008\\n</div></td>  <td class=\"field date_pub_edition\" style=\"display: none\"><label>date pub edition</label><div class=\"value\">      Sep 14, 2008\\n</div></td>    \\n<td class=\"field rating\"><label>Emme\\'s rating</label><div class=\"value\">\\n        <span class=\" staticStars notranslate\" title=\"it was amazing\"><span size=\"15x15\" class=\"staticStar p10\">it was amazing</span><span size=\"15x15\" class=\"staticStar p10\"></span><span size=\"15x15\" class=\"staticStar p10\"></span><span size=\"15x15\" class=\"staticStar p10\"></span><span size=\"15x15\" class=\"staticStar p10\"></span></span>\\n</div></td><td class=\"field shelves\"><label>my rating</label><div class=\"value\">\\n        <div class=\"stars\" data-resource-id=\"2767052\" data-user-id=\"0\" data-submit-url=\"/review/rate/2767052?stars_click=false\" data-rating=\"0\"><a class=\"star off\" title=\"did not like it\" href=\"#\" ref=\"\">1 of 5 stars</a><a class=\"star off\" title=\"it was ok\" href=\"#\" ref=\"\">2 of 5 stars</a><a class=\"star off\" title=\"liked it\" href=\"#\" ref=\"\">3 of 5 stars</a><a class=\"star off\" title=\"really liked it\" href=\"#\" ref=\"\">4 of 5 stars</a><a class=\"star off\" title=\"it was amazing\" href=\"#\" ref=\"\">5 of 5 stars</a></div>\\n        <span id=\"reviewMessage2767052_false\"></span>\\n        <span id=\"successMessage2767052_false\"></span>\\n        <div>\\n              <a class=\"smallText actionLinkLite\" rel=\"nofollow\" href=\"/user/new\">add to shelves</a>\\n        </div>\\n</div></td><td class=\"field review\" style=\"display: none\"><label>review</label><div class=\"value\">\\n            <span class=\"greyText\">None</span>\\n    <div class=\"clear\"></div>\\n</div></td><td class=\"field notes\" style=\"display: none\"><label>notes</label><div class=\"value\">\\n        <span class=\"greyText\">Notes are private!</span>\\n</div></td><td class=\"field recommender\" style=\"display: none\"><label>recommender</label><div class=\"value\">\\n        <span class=\"greyText\">none</span>\\n</div></td>\\n<td class=\"field comments\" style=\"display: none\"><label>comments</label><div class=\"value\">\\n    <a href=\"/review/show/667385890\">0</a>\\n</div></td>\\n<td class=\"field votes\" style=\"display: none\"><label>votes</label><div class=\"value\">\\n    <a href=\"/rating/voters/667385890?resource_type=Review\">0</a>\\n</div></td>\\n<td class=\"field read_count\" style=\"display: none\"><label># times read</label><div class=\"value\">\\n        1\\n</div></td><td class=\"field date_started\" style=\"display: none\"><label>date started</label><div class=\"value\">\\n    \\n            <div class=\"date_row\">\\n                  <div class=\"editable_date date_started_23630812f6224048a91bc2b8a18fd8d3\">\\n      <span class=\"greyText\">not set</span>\\n</div>\\n\\n            </div>\\n\\n</div></td><td class=\"field date_read\"><label>date read</label><div class=\"value\">\\n    \\n            <div class=\"date_row\">\\n                  <div class=\"editable_date date_read_23630812f6224048a91bc2b8a18fd8d3\">\\n      <span class=\"greyText\">not set</span>\\n</div>\\n\\n            </div>\\n\\n</div></td><td class=\"field date_added\"><label>date added</label><div class=\"value\">\\n    <span title=\"July 14, 2013\">\\n    Jul 14, 2013\\n  </span>\\n</div></td><td class=\"field date_purchased\" style=\"display: none\"><label>date purchased</label><div class=\"value\"></div></td><td class=\"field owned\" style=\"display: none\"><label>owned</label><div class=\"value\"></div></td><td class=\"field purchase_location\" style=\"display: none\"><label>purchase location</label><div class=\"value\"></div></td><td class=\"field condition\" style=\"display: none\"><label>condition</label><div class=\"value\"></div></td><td class=\"field format\" style=\"display: none\"><label>format</label><div class=\"value\">\\n        Hardcover\\n</div></td><td class=\"field actions\"><label>actions</label><div class=\"value\">\\n        <div>\\n          <a class=\"nobreak\" href=\"/review/show/667385890\">view</a>\\n        </div>\\n</div></td>\\n</tr>'"
      ]
     },
     "execution_count": 49,
     "metadata": {},
     "output_type": "execute_result"
    }
   ],
   "source": [
    "review"
   ]
  },
  {
   "cell_type": "code",
   "execution_count": null,
   "metadata": {},
   "outputs": [],
   "source": []
  }
 ],
 "metadata": {
  "kernelspec": {
   "display_name": "Python 3",
   "language": "python",
   "name": "python3"
  },
  "language_info": {
   "codemirror_mode": {
    "name": "ipython",
    "version": 3
   },
   "file_extension": ".py",
   "mimetype": "text/x-python",
   "name": "python",
   "nbconvert_exporter": "python",
   "pygments_lexer": "ipython3",
   "version": "3.7.4"
  }
 },
 "nbformat": 4,
 "nbformat_minor": 2
}
