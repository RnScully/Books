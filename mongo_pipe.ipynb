{
 "cells": [
  {
   "cell_type": "code",
   "execution_count": 530,
   "metadata": {},
   "outputs": [],
   "source": [
    "from pymongo import MongoClient\n",
    "import pprint\n",
    "import json\n",
    "from bs4 import BeautifulSoup\n",
    "import re\n",
    "\n",
    "from Scraper import gr_db_cleaner\n"
   ]
  },
  {
   "cell_type": "code",
   "execution_count": 3,
   "metadata": {},
   "outputs": [],
   "source": [
    "\n",
    "client = MongoClient('localhost', 27017)\n",
    "db=client['reviews']\n",
    "coll=db['user_reviews']"
   ]
  },
  {
   "cell_type": "markdown",
   "metadata": {},
   "source": [
    ".find() creates a \"cursor\" which pulls the data. .limit() keeps you from pulling all the data. Wrapping the \"cursor\" in a list comprehension builds that cursor out iteratively into a list containing the things you want to manipulate. Ok? Cool. "
   ]
  },
  {
   "cell_type": "code",
   "execution_count": 178,
   "metadata": {},
   "outputs": [
    {
     "data": {
      "text/plain": [
       "7171593"
      ]
     },
     "execution_count": 178,
     "metadata": {},
     "output_type": "execute_result"
    }
   ],
   "source": [
    "test = [x for x in coll.find().limit(1000)]\n",
    "test[0]['userid']"
   ]
  },
  {
   "cell_type": "markdown",
   "metadata": {},
   "source": [
    "now, its more complicated than that, because all of this is nested *again* So in the cursor list? you've got a dictonary that holds user_id and a list of reviews. so index into 'reviews' and you get to a list of your actual scraped bits, the data from goodreads. "
   ]
  },
  {
   "cell_type": "code",
   "execution_count": 189,
   "metadata": {},
   "outputs": [],
   "source": [
    "review = test[3]['reviews']"
   ]
  },
  {
   "cell_type": "code",
   "execution_count": null,
   "metadata": {},
   "outputs": [],
   "source": []
  },
  {
   "cell_type": "markdown",
   "metadata": {},
   "source": [
    "you're going to want to make those giant strings of html into a handle-able-able object. So put it in a bowl with beatiful soup. "
   ]
  },
  {
   "cell_type": "code",
   "execution_count": 52,
   "metadata": {},
   "outputs": [],
   "source": [
    "soup = BeautifulSoup(review, 'html.parser')"
   ]
  },
  {
   "cell_type": "code",
   "execution_count": 409,
   "metadata": {},
   "outputs": [
    {
     "name": "stdout",
     "output_type": "stream",
     "text": [
      "<tr class=\"bookalike review\" id=\"review_667385890\">\n",
      " <td class=\"field checkbox\">\n",
      "  <label>\n",
      "   checkbox\n",
      "  </label>\n",
      "  <div class=\"value\">\n",
      "  </div>\n",
      " </td>\n",
      " <td class=\"field position\" style=\"display: none\">\n",
      "  <label>\n",
      "   position\n",
      "  </label>\n",
      "  <div class=\"value\">\n",
      "  </div>\n",
      " </td>\n",
      " <td class=\"field cover\">\n",
      "  <label>\n",
      "   cover\n",
      "  </label>\n",
      "  <div class=\"value\">\n",
      "   <div class=\"js-tooltipTrigger tooltipTrigger\" data-resource-id=\"2767052\" data-resource-type=\"Book\">\n",
      "    <a href=\"/book/show/2767052-the-hunger-games\">\n",
      "     <img alt=\"The Hunger Games (The Hunger Games, #1)\" id=\"cover_review_667385890\" src=\"https://i.gr-assets.com/images/S/compressed.photo.goodreads.com/books/1447303603l/2767052._SX50_.jpg\"/>\n",
      "    </a>\n",
      "   </div>\n",
      "  </div>\n",
      " </td>\n",
      " <td class=\"field title\">\n",
      "  <label>\n",
      "   title\n",
      "  </label>\n",
      "  <div class=\"value\">\n",
      "   <a href=\"/book/show/2767052-the-hunger-games\" title=\"The Hunger Games (The Hunger Games, #1)\">\n",
      "    The Hunger Games\n",
      "    <span class=\"darkGreyText\">\n",
      "     (The Hunger Games, #1)\n",
      "    </span>\n",
      "   </a>\n",
      "  </div>\n",
      " </td>\n",
      " <td class=\"field author\">\n",
      "  <label>\n",
      "   author\n",
      "  </label>\n",
      "  <div class=\"value\">\n",
      "   <a href=\"/author/show/153394.Suzanne_Collins\">\n",
      "    Collins, Suzanne\n",
      "   </a>\n",
      "  </div>\n",
      " </td>\n",
      " <td class=\"field isbn\" style=\"display: none\">\n",
      "  <label>\n",
      "   isbn\n",
      "  </label>\n",
      "  <div class=\"value\">\n",
      "   0439023483\n",
      "  </div>\n",
      " </td>\n",
      " <td class=\"field isbn13\" style=\"display: none\">\n",
      "  <label>\n",
      "   isbn13\n",
      "  </label>\n",
      "  <div class=\"value\">\n",
      "   9780439023481\n",
      "  </div>\n",
      " </td>\n",
      " <td class=\"field asin\" style=\"display: none\">\n",
      "  <label>\n",
      "   asin\n",
      "  </label>\n",
      "  <div class=\"value\">\n",
      "  </div>\n",
      " </td>\n",
      " <td class=\"field num_pages\" style=\"display: none\">\n",
      "  <label>\n",
      "   num pages\n",
      "  </label>\n",
      "  <div class=\"value\">\n",
      "   <nobr>\n",
      "    374\n",
      "    <span class=\"greyText\">\n",
      "     pp\n",
      "    </span>\n",
      "   </nobr>\n",
      "  </div>\n",
      " </td>\n",
      " <td class=\"field avg_rating\">\n",
      "  <label>\n",
      "   avg rating\n",
      "  </label>\n",
      "  <div class=\"value\">\n",
      "   4.33\n",
      "  </div>\n",
      " </td>\n",
      " <td class=\"field num_ratings\" style=\"display: none\">\n",
      "  <label>\n",
      "   num ratings\n",
      "  </label>\n",
      "  <div class=\"value\">\n",
      "   5,936,319\n",
      "  </div>\n",
      " </td>\n",
      " <td class=\"field date_pub\" style=\"display: none\">\n",
      "  <label>\n",
      "   date pub\n",
      "  </label>\n",
      "  <div class=\"value\">\n",
      "   Sep 14, 2008\n",
      "  </div>\n",
      " </td>\n",
      " <td class=\"field date_pub_edition\" style=\"display: none\">\n",
      "  <label>\n",
      "   date pub edition\n",
      "  </label>\n",
      "  <div class=\"value\">\n",
      "   Sep 14, 2008\n",
      "  </div>\n",
      " </td>\n",
      " <td class=\"field rating\">\n",
      "  <label>\n",
      "   Emme's rating\n",
      "  </label>\n",
      "  <div class=\"value\">\n",
      "   <span class=\"staticStars notranslate\" title=\"it was amazing\">\n",
      "    <span class=\"staticStar p10\" size=\"15x15\">\n",
      "     it was amazing\n",
      "    </span>\n",
      "    <span class=\"staticStar p10\" size=\"15x15\">\n",
      "    </span>\n",
      "    <span class=\"staticStar p10\" size=\"15x15\">\n",
      "    </span>\n",
      "    <span class=\"staticStar p10\" size=\"15x15\">\n",
      "    </span>\n",
      "    <span class=\"staticStar p10\" size=\"15x15\">\n",
      "    </span>\n",
      "   </span>\n",
      "  </div>\n",
      " </td>\n",
      " <td class=\"field shelves\">\n",
      "  <label>\n",
      "   my rating\n",
      "  </label>\n",
      "  <div class=\"value\">\n",
      "   <div class=\"stars\" data-rating=\"0\" data-resource-id=\"2767052\" data-submit-url=\"/review/rate/2767052?stars_click=false\" data-user-id=\"0\">\n",
      "    <a class=\"star off\" href=\"#\" ref=\"\" title=\"did not like it\">\n",
      "     1 of 5 stars\n",
      "    </a>\n",
      "    <a class=\"star off\" href=\"#\" ref=\"\" title=\"it was ok\">\n",
      "     2 of 5 stars\n",
      "    </a>\n",
      "    <a class=\"star off\" href=\"#\" ref=\"\" title=\"liked it\">\n",
      "     3 of 5 stars\n",
      "    </a>\n",
      "    <a class=\"star off\" href=\"#\" ref=\"\" title=\"really liked it\">\n",
      "     4 of 5 stars\n",
      "    </a>\n",
      "    <a class=\"star off\" href=\"#\" ref=\"\" title=\"it was amazing\">\n",
      "     5 of 5 stars\n",
      "    </a>\n",
      "   </div>\n",
      "   <span id=\"reviewMessage2767052_false\">\n",
      "   </span>\n",
      "   <span id=\"successMessage2767052_false\">\n",
      "   </span>\n",
      "   <div>\n",
      "    <a class=\"smallText actionLinkLite\" href=\"/user/new\" rel=\"nofollow\">\n",
      "     add to shelves\n",
      "    </a>\n",
      "   </div>\n",
      "  </div>\n",
      " </td>\n",
      " <td class=\"field review\" style=\"display: none\">\n",
      "  <label>\n",
      "   review\n",
      "  </label>\n",
      "  <div class=\"value\">\n",
      "   <span class=\"greyText\">\n",
      "    None\n",
      "   </span>\n",
      "   <div class=\"clear\">\n",
      "   </div>\n",
      "  </div>\n",
      " </td>\n",
      " <td class=\"field notes\" style=\"display: none\">\n",
      "  <label>\n",
      "   notes\n",
      "  </label>\n",
      "  <div class=\"value\">\n",
      "   <span class=\"greyText\">\n",
      "    Notes are private!\n",
      "   </span>\n",
      "  </div>\n",
      " </td>\n",
      " <td class=\"field recommender\" style=\"display: none\">\n",
      "  <label>\n",
      "   recommender\n",
      "  </label>\n",
      "  <div class=\"value\">\n",
      "   <span class=\"greyText\">\n",
      "    none\n",
      "   </span>\n",
      "  </div>\n",
      " </td>\n",
      " <td class=\"field comments\" style=\"display: none\">\n",
      "  <label>\n",
      "   comments\n",
      "  </label>\n",
      "  <div class=\"value\">\n",
      "   <a href=\"/review/show/667385890\">\n",
      "    0\n",
      "   </a>\n",
      "  </div>\n",
      " </td>\n",
      " <td class=\"field votes\" style=\"display: none\">\n",
      "  <label>\n",
      "   votes\n",
      "  </label>\n",
      "  <div class=\"value\">\n",
      "   <a href=\"/rating/voters/667385890?resource_type=Review\">\n",
      "    0\n",
      "   </a>\n",
      "  </div>\n",
      " </td>\n",
      " <td class=\"field read_count\" style=\"display: none\">\n",
      "  <label>\n",
      "   # times read\n",
      "  </label>\n",
      "  <div class=\"value\">\n",
      "   1\n",
      "  </div>\n",
      " </td>\n",
      " <td class=\"field date_started\" style=\"display: none\">\n",
      "  <label>\n",
      "   date started\n",
      "  </label>\n",
      "  <div class=\"value\">\n",
      "   <div class=\"date_row\">\n",
      "    <div class=\"editable_date date_started_23630812f6224048a91bc2b8a18fd8d3\">\n",
      "     <span class=\"greyText\">\n",
      "      not set\n",
      "     </span>\n",
      "    </div>\n",
      "   </div>\n",
      "  </div>\n",
      " </td>\n",
      " <td class=\"field date_read\">\n",
      "  <label>\n",
      "   date read\n",
      "  </label>\n",
      "  <div class=\"value\">\n",
      "   <div class=\"date_row\">\n",
      "    <div class=\"editable_date date_read_23630812f6224048a91bc2b8a18fd8d3\">\n",
      "     <span class=\"greyText\">\n",
      "      not set\n",
      "     </span>\n",
      "    </div>\n",
      "   </div>\n",
      "  </div>\n",
      " </td>\n",
      " <td class=\"field date_added\">\n",
      "  <label>\n",
      "   date added\n",
      "  </label>\n",
      "  <div class=\"value\">\n",
      "   <span title=\"July 14, 2013\">\n",
      "    Jul 14, 2013\n",
      "   </span>\n",
      "  </div>\n",
      " </td>\n",
      " <td class=\"field date_purchased\" style=\"display: none\">\n",
      "  <label>\n",
      "   date purchased\n",
      "  </label>\n",
      "  <div class=\"value\">\n",
      "  </div>\n",
      " </td>\n",
      " <td class=\"field owned\" style=\"display: none\">\n",
      "  <label>\n",
      "   owned\n",
      "  </label>\n",
      "  <div class=\"value\">\n",
      "  </div>\n",
      " </td>\n",
      " <td class=\"field purchase_location\" style=\"display: none\">\n",
      "  <label>\n",
      "   purchase location\n",
      "  </label>\n",
      "  <div class=\"value\">\n",
      "  </div>\n",
      " </td>\n",
      " <td class=\"field condition\" style=\"display: none\">\n",
      "  <label>\n",
      "   condition\n",
      "  </label>\n",
      "  <div class=\"value\">\n",
      "  </div>\n",
      " </td>\n",
      " <td class=\"field format\" style=\"display: none\">\n",
      "  <label>\n",
      "   format\n",
      "  </label>\n",
      "  <div class=\"value\">\n",
      "   Hardcover\n",
      "  </div>\n",
      " </td>\n",
      " <td class=\"field actions\">\n",
      "  <label>\n",
      "   actions\n",
      "  </label>\n",
      "  <div class=\"value\">\n",
      "   <div>\n",
      "    <a class=\"nobreak\" href=\"/review/show/667385890\">\n",
      "     view\n",
      "    </a>\n",
      "   </div>\n",
      "  </div>\n",
      " </td>\n",
      "</tr>\n"
     ]
    }
   ],
   "source": [
    "print(soup.prettify())"
   ]
  },
  {
   "cell_type": "code",
   "execution_count": 435,
   "metadata": {},
   "outputs": [
    {
     "data": {
      "text/plain": [
       "'Collins, Suzanne'"
      ]
     },
     "execution_count": 435,
     "metadata": {},
     "output_type": "execute_result"
    }
   ],
   "source": [
    "author = soup.find_all(class_ = re.compile('author'))[0].text.strip('author ').split('\\n')[0]\n",
    "author"
   ]
  },
  {
   "cell_type": "code",
   "execution_count": 422,
   "metadata": {},
   "outputs": [
    {
     "data": {
      "text/plain": [
       "'Hardcover'"
      ]
     },
     "execution_count": 422,
     "metadata": {},
     "output_type": "execute_result"
    }
   ],
   "source": [
    "book_type =soup.find_all(class_ = re.compile('format'))[0].text.split('\\n')[1].strip()\n",
    "book_type\n"
   ]
  },
  {
   "cell_type": "code",
   "execution_count": 421,
   "metadata": {},
   "outputs": [
    {
     "data": {
      "text/plain": [
       "9780439023481"
      ]
     },
     "execution_count": 421,
     "metadata": {},
     "output_type": "execute_result"
    }
   ],
   "source": [
    "isbn = int(soup.find_all(class_ = re.compile('isbn13'))[0].text.strip('isbn13').strip())\n",
    "isbn"
   ]
  },
  {
   "cell_type": "code",
   "execution_count": 242,
   "metadata": {},
   "outputs": [
    {
     "data": {
      "text/plain": [
       "'The Hunger Games'"
      ]
     },
     "execution_count": 242,
     "metadata": {},
     "output_type": "execute_result"
    }
   ],
   "source": [
    "title = soup.find_all(class_ = re.compile('title'))[0].text.split('\\n')[1].strip()\n",
    "title\n"
   ]
  },
  {
   "cell_type": "code",
   "execution_count": 196,
   "metadata": {
    "scrolled": true
   },
   "outputs": [
    {
     "data": {
      "text/plain": [
       "'title \\n      The Hunger Games\\n        (The Hunger Games, #1)\\n'"
      ]
     },
     "execution_count": 196,
     "metadata": {},
     "output_type": "execute_result"
    }
   ],
   "source": [
    "title = soup.find_all(class_ = re.compile('title'))[0].text\n",
    "title"
   ]
  },
  {
   "cell_type": "code",
   "execution_count": 252,
   "metadata": {},
   "outputs": [
    {
     "data": {
      "text/plain": [
       "374"
      ]
     },
     "execution_count": 252,
     "metadata": {},
     "output_type": "execute_result"
    }
   ],
   "source": [
    "pages = int(soup.find_all(class_ =re.compile('num_pages'))[0].text.split()[2])\n",
    "pages"
   ]
  },
  {
   "cell_type": "code",
   "execution_count": 211,
   "metadata": {},
   "outputs": [
    {
     "data": {
      "text/plain": [
       "4.33"
      ]
     },
     "execution_count": 211,
     "metadata": {},
     "output_type": "execute_result"
    }
   ],
   "source": [
    "av_rate = float(soup.find_all(class_ =re.compile('avg_rating'))[0].text.split()[2])\n",
    "av_rate"
   ]
  },
  {
   "cell_type": "code",
   "execution_count": 214,
   "metadata": {},
   "outputs": [
    {
     "data": {
      "text/plain": [
       "5936319"
      ]
     },
     "execution_count": 214,
     "metadata": {},
     "output_type": "execute_result"
    }
   ],
   "source": [
    "num_rate = int(soup.find_all(class_ =re.compile('num_ratings'))[0].text.split()[2].replace(',',''))\n",
    "num_rate"
   ]
  },
  {
   "cell_type": "code",
   "execution_count": 232,
   "metadata": {},
   "outputs": [],
   "source": [
    "def str_to_rate(qual_state):\n",
    "    '''\n",
    "    a function that turns goodreads's \"I liked it\" or \"I did not like it\" star categories\n",
    "    into the numerical 1-5 rating that they visually imply. \n",
    "    ++++++\n",
    "    Attributes\n",
    "    qual_state (list) a split string pulled from the beautiful soup output of .text on the rating object\n",
    "    ++++++\n",
    "    Returns\n",
    "    user_rating (int): 1-5 score based on NUMBER OF STARS SELECTED BY THE RATER. I honestly don't understand why that's not the output in the HTML. \n",
    "    '''\n",
    "    if qual_state[-3:] == ['it', 'was', 'amazing']:\n",
    "        user_rating = 5\n",
    "    elif qual_state[-3:] ==['really','liked','it']:\n",
    "        user_rating = 4\n",
    "    elif qual_state[-2:] ==['liked', 'it']:\n",
    "        '''note that I belive any that include \"really\" will be given 4\n",
    "        before we get to this elif statement, therefore we don't need \n",
    "        to worry about the issues of \"really liked it\" and \"liked it\"\n",
    "        overlapping'''\n",
    "        user_rating= 3\n",
    "    elif qual_state[-3:]==['it','was','ok']:\n",
    "        user_rating = 2\n",
    "    elif qual_state[-3:]==['not','like','it']:\n",
    "        user_rating = 1\n",
    "    else:\n",
    "        user_rating = 0\n",
    "    return user_rating\n",
    "\n"
   ]
  },
  {
   "cell_type": "code",
   "execution_count": 233,
   "metadata": {},
   "outputs": [
    {
     "data": {
      "text/plain": [
       "5"
      ]
     },
     "execution_count": 233,
     "metadata": {},
     "output_type": "execute_result"
    }
   ],
   "source": [
    "user_rating = str_to_rate(soup.find_all(class_ =re.compile('field rating'))[0].text.split())\n",
    "user_rating"
   ]
  },
  {
   "cell_type": "markdown",
   "metadata": {},
   "source": [
    "**Putting it all together**"
   ]
  },
  {
   "cell_type": "code",
   "execution_count": 552,
   "metadata": {},
   "outputs": [],
   "source": [
    "def cleaner(find_lim = 10):\n",
    "    '''\n",
    "    a function that reads in goodreads user review tables gathered\n",
    "    by the gr_scraper and returns a list for schema\n",
    "    +++++++++++\n",
    "    Atributes\n",
    "    find_lim (int): how many user-reviews to clean.  \n",
    "    +++++++\n",
    "    '''\n",
    "    \n",
    "    client = MongoClient('localhost', 27017)\n",
    "    db=client['reviews']\n",
    "    collection=db['user_reviews']\n",
    "\n",
    "    documents = [x for x in collection.find().limit(find_lim)]\n",
    "    client.close()\n",
    "    all_revs = []\n",
    "    for idx, users in enumerate(documents):\n",
    "        userid = documents[idx]['userid']\n",
    "       \n",
    "        review_list = documents[idx]['reviews']\n",
    "        if len(review_list) ==0: #some users have not added any books to their goodreads profile\n",
    "            sub_rev = [None, None, None, None, None, userid, None, None, None]\n",
    "            all_revs.append(sub_rev)\n",
    "        else:\n",
    "            for review in review_list:\n",
    "                soup = BeautifulSoup(review, 'html.parser')\n",
    "                title = soup.find_all(class_ = re.compile('title'))[0].text.split('\\n')[1].strip()\n",
    "                try:\n",
    "                    pages = int(soup.find_all(class_ =re.compile('num_pages'))[0].text.split()[2])\n",
    "                except:#Some works are infinite scroll documents without pages. \n",
    "                    pages = None\n",
    "                try:\n",
    "                    isbn = soup.find_all(class_ = re.compile('isbn13'))[0].text.strip('isbn13').strip()\n",
    "                except: #some works are not given ISBN\n",
    "                    isbn = None \n",
    "                book_type = soup.find_all(class_ = re.compile('format'))[0].text.split('\\n')[0].strip()\n",
    "                author = soup.find_all(class_ = re.compile('author'))[0].text.strip('author ').split('\\n')[0]\n",
    "                av_rate = float(soup.find_all(class_ =re.compile('avg_rating'))[0].text.split()[2])\n",
    "                num_rate = int(soup.find_all(class_ =re.compile('num_ratings'))[0].text.split()[2].replace(',',''))\n",
    "                user_rating = str_to_rate(soup.find_all(class_ =re.compile('field rating'))[0].text.split())\n",
    "                \n",
    "                sub_rev = [title,author, isbn, book_type, pages, userid, user_rating, num_rate, av_rate]\n",
    "                all_revs.append(sub_rev)\n",
    "    return all_revs"
   ]
  },
  {
   "cell_type": "code",
   "execution_count": null,
   "metadata": {},
   "outputs": [],
   "source": []
  },
  {
   "cell_type": "code",
   "execution_count": 554,
   "metadata": {},
   "outputs": [
    {
     "name": "stdout",
     "output_type": "stream",
     "text": [
      "1402\n",
      "1403\n",
      "1404\n"
     ]
    }
   ],
   "source": [
    "client = MongoClient('localhost', 27017)\n",
    "db=client['reviews']\n",
    "collection=db['user_reviews']\n",
    "documents = [x for x in collection.find().limit(6502)]\n",
    "\n",
    "all_userid = []\n",
    "\n",
    "for idx, user in enumerate(documents):\n",
    "    doc = documents[idx]\n",
    "    try:\n",
    "        user = doc['userid']\n",
    "    except:\n",
    "        print(idx)\n",
    "    all_userid.append(user)\n",
    "client.close()"
   ]
  },
  {
   "cell_type": "code",
   "execution_count": 562,
   "metadata": {
    "scrolled": true
   },
   "outputs": [
    {
     "data": {
      "text/plain": [
       "{'_id': ObjectId('5e0acd3f4ebb73b5cdd7deb3'), '1': []}"
      ]
     },
     "execution_count": 562,
     "metadata": {},
     "output_type": "execute_result"
    }
   ],
   "source": [
    "documents[1402].key"
   ]
  },
  {
   "cell_type": "code",
   "execution_count": 535,
   "metadata": {
    "scrolled": true
   },
   "outputs": [
    {
     "ename": "KeyError",
     "evalue": "'userid'",
     "output_type": "error",
     "traceback": [
      "\u001b[0;31m---------------------------------------------------------------------------\u001b[0m",
      "\u001b[0;31mKeyError\u001b[0m                                  Traceback (most recent call last)",
      "\u001b[0;32m<ipython-input-535-e6cf9f0f8e45>\u001b[0m in \u001b[0;36m<module>\u001b[0;34m\u001b[0m\n\u001b[0;32m----> 1\u001b[0;31m \u001b[0mdata\u001b[0m \u001b[0;34m=\u001b[0m \u001b[0mcleaner\u001b[0m\u001b[0;34m(\u001b[0m\u001b[0;36m6501\u001b[0m\u001b[0;34m)\u001b[0m\u001b[0;34m\u001b[0m\u001b[0;34m\u001b[0m\u001b[0m\n\u001b[0m",
      "\u001b[0;32m<ipython-input-534-4749e4d39ea5>\u001b[0m in \u001b[0;36mcleaner\u001b[0;34m(find_lim)\u001b[0m\n\u001b[1;32m     16\u001b[0m     \u001b[0mall_revs\u001b[0m \u001b[0;34m=\u001b[0m \u001b[0;34m[\u001b[0m\u001b[0;34m]\u001b[0m\u001b[0;34m\u001b[0m\u001b[0;34m\u001b[0m\u001b[0m\n\u001b[1;32m     17\u001b[0m     \u001b[0;32mfor\u001b[0m \u001b[0midx\u001b[0m\u001b[0;34m,\u001b[0m \u001b[0musers\u001b[0m \u001b[0;32min\u001b[0m \u001b[0menumerate\u001b[0m\u001b[0;34m(\u001b[0m\u001b[0mdocuments\u001b[0m\u001b[0;34m)\u001b[0m\u001b[0;34m:\u001b[0m\u001b[0;34m\u001b[0m\u001b[0;34m\u001b[0m\u001b[0m\n\u001b[0;32m---> 18\u001b[0;31m         \u001b[0muserid\u001b[0m \u001b[0;34m=\u001b[0m \u001b[0mdocuments\u001b[0m\u001b[0;34m[\u001b[0m\u001b[0midx\u001b[0m\u001b[0;34m]\u001b[0m\u001b[0;34m[\u001b[0m\u001b[0;34m'userid'\u001b[0m\u001b[0;34m]\u001b[0m\u001b[0;34m\u001b[0m\u001b[0;34m\u001b[0m\u001b[0m\n\u001b[0m\u001b[1;32m     19\u001b[0m \u001b[0;34m\u001b[0m\u001b[0m\n\u001b[1;32m     20\u001b[0m         \u001b[0mreview_list\u001b[0m \u001b[0;34m=\u001b[0m \u001b[0mdocuments\u001b[0m\u001b[0;34m[\u001b[0m\u001b[0midx\u001b[0m\u001b[0;34m]\u001b[0m\u001b[0;34m[\u001b[0m\u001b[0;34m'reviews'\u001b[0m\u001b[0;34m]\u001b[0m\u001b[0;34m\u001b[0m\u001b[0;34m\u001b[0m\u001b[0m\n",
      "\u001b[0;31mKeyError\u001b[0m: 'userid'"
     ]
    }
   ],
   "source": [
    "data = cleaner(6501)"
   ]
  },
  {
   "cell_type": "code",
   "execution_count": 333,
   "metadata": {},
   "outputs": [],
   "source": [
    "import numpy as np\n",
    "import pandas as pd\n",
    "import matplotlib.pyplot as plt\n",
    "import scipy.stats as stats\n",
    "%matplotlib inline\n",
    "\n"
   ]
  },
  {
   "cell_type": "code",
   "execution_count": 471,
   "metadata": {},
   "outputs": [],
   "source": [
    "df = pd.DataFrame(data, columns = ['title','author', 'isbn', 'book_type', 'pages', 'userid', 'user_rating', 'num_rate', 'av_rate'])  \n",
    "\n",
    "#get rid of any users who haven't added any books, and any added books with no user rating\n",
    "dfwr = df.dropna(axis=0)\n",
    "actually_rated = dfwr['user_rating'] != 0\n",
    "dfwr = dfwr[actually_rated]"
   ]
  },
  {
   "cell_type": "code",
   "execution_count": 448,
   "metadata": {},
   "outputs": [
    {
     "data": {
      "text/html": [
       "<div>\n",
       "<style scoped>\n",
       "    .dataframe tbody tr th:only-of-type {\n",
       "        vertical-align: middle;\n",
       "    }\n",
       "\n",
       "    .dataframe tbody tr th {\n",
       "        vertical-align: top;\n",
       "    }\n",
       "\n",
       "    .dataframe thead th {\n",
       "        text-align: right;\n",
       "    }\n",
       "</style>\n",
       "<table border=\"1\" class=\"dataframe\">\n",
       "  <thead>\n",
       "    <tr style=\"text-align: right;\">\n",
       "      <th></th>\n",
       "      <th>title</th>\n",
       "      <th>author</th>\n",
       "      <th>isbn</th>\n",
       "      <th>book_type</th>\n",
       "      <th>pages</th>\n",
       "      <th>userid</th>\n",
       "      <th>user_rating</th>\n",
       "      <th>num_rate</th>\n",
       "      <th>av_rate</th>\n",
       "    </tr>\n",
       "  </thead>\n",
       "  <tbody>\n",
       "    <tr>\n",
       "      <td>1370</td>\n",
       "      <td>\"B\" Is for Betsy</td>\n",
       "      <td>Haywood, Carolyn</td>\n",
       "      <td>9.780152e+12</td>\n",
       "      <td>format</td>\n",
       "      <td>144.0</td>\n",
       "      <td>58878680</td>\n",
       "      <td>5.0</td>\n",
       "      <td>4494.0</td>\n",
       "      <td>4.03</td>\n",
       "    </tr>\n",
       "    <tr>\n",
       "      <td>2268</td>\n",
       "      <td>\"حكايات فرغلي المستكاوي \"حكايتى مع كفر السحلاوية</td>\n",
       "      <td>الجندي, حسن</td>\n",
       "      <td>9.789775e+12</td>\n",
       "      <td>format</td>\n",
       "      <td>127.0</td>\n",
       "      <td>17981752</td>\n",
       "      <td>5.0</td>\n",
       "      <td>9565.0</td>\n",
       "      <td>3.55</td>\n",
       "    </tr>\n",
       "    <tr>\n",
       "      <td>2855</td>\n",
       "      <td>'Salem's Lot</td>\n",
       "      <td>King, Stephen</td>\n",
       "      <td>9.780450e+12</td>\n",
       "      <td>format</td>\n",
       "      <td>483.0</td>\n",
       "      <td>5918419</td>\n",
       "      <td>5.0</td>\n",
       "      <td>305390.0</td>\n",
       "      <td>4.02</td>\n",
       "    </tr>\n",
       "    <tr>\n",
       "      <td>1364</td>\n",
       "      <td>1,000 Places to See Before You Die</td>\n",
       "      <td>Schultz, Patricia</td>\n",
       "      <td>9.780761e+12</td>\n",
       "      <td>format</td>\n",
       "      <td>992.0</td>\n",
       "      <td>58878680</td>\n",
       "      <td>5.0</td>\n",
       "      <td>37105.0</td>\n",
       "      <td>3.85</td>\n",
       "    </tr>\n",
       "    <tr>\n",
       "      <td>2527</td>\n",
       "      <td>11/22/63</td>\n",
       "      <td>King, Stephen</td>\n",
       "      <td>9.781452e+12</td>\n",
       "      <td>format</td>\n",
       "      <td>849.0</td>\n",
       "      <td>44623</td>\n",
       "      <td>5.0</td>\n",
       "      <td>386481.0</td>\n",
       "      <td>4.31</td>\n",
       "    </tr>\n",
       "    <tr>\n",
       "      <td>100</td>\n",
       "      <td>11/22/63</td>\n",
       "      <td>King, Stephen</td>\n",
       "      <td>9.781452e+12</td>\n",
       "      <td>format</td>\n",
       "      <td>849.0</td>\n",
       "      <td>14045650</td>\n",
       "      <td>5.0</td>\n",
       "      <td>386395.0</td>\n",
       "      <td>4.31</td>\n",
       "    </tr>\n",
       "    <tr>\n",
       "      <td>1956</td>\n",
       "      <td>11/22/63</td>\n",
       "      <td>King, Stephen</td>\n",
       "      <td>9.781452e+12</td>\n",
       "      <td>format</td>\n",
       "      <td>849.0</td>\n",
       "      <td>56772139</td>\n",
       "      <td>5.0</td>\n",
       "      <td>386411.0</td>\n",
       "      <td>4.31</td>\n",
       "    </tr>\n",
       "    <tr>\n",
       "      <td>1805</td>\n",
       "      <td>12 Rules for Life: An Antidote to Chaos</td>\n",
       "      <td>Peterson, Jordan B.</td>\n",
       "      <td>9.780346e+12</td>\n",
       "      <td>format</td>\n",
       "      <td>409.0</td>\n",
       "      <td>71610658</td>\n",
       "      <td>4.0</td>\n",
       "      <td>69167.0</td>\n",
       "      <td>3.96</td>\n",
       "    </tr>\n",
       "    <tr>\n",
       "      <td>2291</td>\n",
       "      <td>13 Días</td>\n",
       "      <td>Giambanco, Valentina</td>\n",
       "      <td>9.788415e+12</td>\n",
       "      <td>format</td>\n",
       "      <td>464.0</td>\n",
       "      <td>30846404</td>\n",
       "      <td>5.0</td>\n",
       "      <td>876.0</td>\n",
       "      <td>3.63</td>\n",
       "    </tr>\n",
       "    <tr>\n",
       "      <td>2768</td>\n",
       "      <td>1491: New Revelations of the Americas Before C...</td>\n",
       "      <td>Mann, Charles C.</td>\n",
       "      <td>9.781400e+12</td>\n",
       "      <td>format</td>\n",
       "      <td>541.0</td>\n",
       "      <td>12791873</td>\n",
       "      <td>5.0</td>\n",
       "      <td>58440.0</td>\n",
       "      <td>4.03</td>\n",
       "    </tr>\n",
       "    <tr>\n",
       "      <td>668</td>\n",
       "      <td>1776</td>\n",
       "      <td>McCullough, David</td>\n",
       "      <td>9.780743e+12</td>\n",
       "      <td>format</td>\n",
       "      <td>386.0</td>\n",
       "      <td>75746413</td>\n",
       "      <td>5.0</td>\n",
       "      <td>172101.0</td>\n",
       "      <td>4.07</td>\n",
       "    </tr>\n",
       "    <tr>\n",
       "      <td>3244</td>\n",
       "      <td>30 Days of No Gossip</td>\n",
       "      <td>Faris, Stephanie</td>\n",
       "      <td>9.781442e+12</td>\n",
       "      <td>format</td>\n",
       "      <td>208.0</td>\n",
       "      <td>71551006</td>\n",
       "      <td>5.0</td>\n",
       "      <td>263.0</td>\n",
       "      <td>4.04</td>\n",
       "    </tr>\n",
       "    <tr>\n",
       "      <td>1616</td>\n",
       "      <td>48 Days to the Work You Love</td>\n",
       "      <td>Miller, Dan</td>\n",
       "      <td>9.780805e+12</td>\n",
       "      <td>format</td>\n",
       "      <td>240.0</td>\n",
       "      <td>64494065</td>\n",
       "      <td>5.0</td>\n",
       "      <td>4710.0</td>\n",
       "      <td>3.83</td>\n",
       "    </tr>\n",
       "    <tr>\n",
       "      <td>904</td>\n",
       "      <td>90 Minutes in Heaven: A True Story of Death an...</td>\n",
       "      <td>Piper, Don</td>\n",
       "      <td>9.780801e+12</td>\n",
       "      <td>format</td>\n",
       "      <td>208.0</td>\n",
       "      <td>38438711</td>\n",
       "      <td>5.0</td>\n",
       "      <td>76366.0</td>\n",
       "      <td>3.93</td>\n",
       "    </tr>\n",
       "    <tr>\n",
       "      <td>929</td>\n",
       "      <td>A Bad Case of Stripes</td>\n",
       "      <td>Shannon, David</td>\n",
       "      <td>9.780440e+12</td>\n",
       "      <td>format</td>\n",
       "      <td>32.0</td>\n",
       "      <td>98218548</td>\n",
       "      <td>5.0</td>\n",
       "      <td>63771.0</td>\n",
       "      <td>4.25</td>\n",
       "    </tr>\n",
       "    <tr>\n",
       "      <td>3390</td>\n",
       "      <td>A Beautiful Blue Death</td>\n",
       "      <td>Finch, Charles</td>\n",
       "      <td>9.780312e+12</td>\n",
       "      <td>format</td>\n",
       "      <td>309.0</td>\n",
       "      <td>75776285</td>\n",
       "      <td>5.0</td>\n",
       "      <td>11442.0</td>\n",
       "      <td>3.63</td>\n",
       "    </tr>\n",
       "    <tr>\n",
       "      <td>3199</td>\n",
       "      <td>A Beautiful Mind</td>\n",
       "      <td>Nasar, Sylvia</td>\n",
       "      <td>9.780571e+12</td>\n",
       "      <td>format</td>\n",
       "      <td>461.0</td>\n",
       "      <td>47594454</td>\n",
       "      <td>5.0</td>\n",
       "      <td>117058.0</td>\n",
       "      <td>4.13</td>\n",
       "    </tr>\n",
       "    <tr>\n",
       "      <td>379</td>\n",
       "      <td>A Bride Opens Shop in El Dorado, California</td>\n",
       "      <td>Gwyn, Keli</td>\n",
       "      <td>9.781616e+12</td>\n",
       "      <td>format</td>\n",
       "      <td>313.0</td>\n",
       "      <td>60512753</td>\n",
       "      <td>5.0</td>\n",
       "      <td>383.0</td>\n",
       "      <td>4.23</td>\n",
       "    </tr>\n",
       "    <tr>\n",
       "      <td>2180</td>\n",
       "      <td>A Brief History of Time</td>\n",
       "      <td>Hawking, Stephen</td>\n",
       "      <td>9.780553e+12</td>\n",
       "      <td>format</td>\n",
       "      <td>212.0</td>\n",
       "      <td>33350490</td>\n",
       "      <td>5.0</td>\n",
       "      <td>262110.0</td>\n",
       "      <td>4.17</td>\n",
       "    </tr>\n",
       "    <tr>\n",
       "      <td>218</td>\n",
       "      <td>A Clash of Kings</td>\n",
       "      <td>Martin, George R.R.</td>\n",
       "      <td>9.780553e+12</td>\n",
       "      <td>format</td>\n",
       "      <td>969.0</td>\n",
       "      <td>23698582</td>\n",
       "      <td>5.0</td>\n",
       "      <td>737429.0</td>\n",
       "      <td>4.41</td>\n",
       "    </tr>\n",
       "  </tbody>\n",
       "</table>\n",
       "</div>"
      ],
      "text/plain": [
       "                                                  title                author  \\\n",
       "1370                                   \"B\" Is for Betsy      Haywood, Carolyn   \n",
       "2268   \"حكايات فرغلي المستكاوي \"حكايتى مع كفر السحلاوية           الجندي, حسن   \n",
       "2855                                       'Salem's Lot         King, Stephen   \n",
       "1364                 1,000 Places to See Before You Die     Schultz, Patricia   \n",
       "2527                                           11/22/63         King, Stephen   \n",
       "100                                            11/22/63         King, Stephen   \n",
       "1956                                           11/22/63         King, Stephen   \n",
       "1805            12 Rules for Life: An Antidote to Chaos   Peterson, Jordan B.   \n",
       "2291                                            13 Días  Giambanco, Valentina   \n",
       "2768  1491: New Revelations of the Americas Before C...      Mann, Charles C.   \n",
       "668                                                1776     McCullough, David   \n",
       "3244                               30 Days of No Gossip      Faris, Stephanie   \n",
       "1616                       48 Days to the Work You Love           Miller, Dan   \n",
       "904   90 Minutes in Heaven: A True Story of Death an...            Piper, Don   \n",
       "929                               A Bad Case of Stripes        Shannon, David   \n",
       "3390                             A Beautiful Blue Death        Finch, Charles   \n",
       "3199                                   A Beautiful Mind         Nasar, Sylvia   \n",
       "379         A Bride Opens Shop in El Dorado, California            Gwyn, Keli   \n",
       "2180                            A Brief History of Time      Hawking, Stephen   \n",
       "218                                    A Clash of Kings   Martin, George R.R.   \n",
       "\n",
       "              isbn book_type  pages    userid  user_rating  num_rate  av_rate  \n",
       "1370  9.780152e+12    format  144.0  58878680          5.0    4494.0     4.03  \n",
       "2268  9.789775e+12    format  127.0  17981752          5.0    9565.0     3.55  \n",
       "2855  9.780450e+12    format  483.0   5918419          5.0  305390.0     4.02  \n",
       "1364  9.780761e+12    format  992.0  58878680          5.0   37105.0     3.85  \n",
       "2527  9.781452e+12    format  849.0     44623          5.0  386481.0     4.31  \n",
       "100   9.781452e+12    format  849.0  14045650          5.0  386395.0     4.31  \n",
       "1956  9.781452e+12    format  849.0  56772139          5.0  386411.0     4.31  \n",
       "1805  9.780346e+12    format  409.0  71610658          4.0   69167.0     3.96  \n",
       "2291  9.788415e+12    format  464.0  30846404          5.0     876.0     3.63  \n",
       "2768  9.781400e+12    format  541.0  12791873          5.0   58440.0     4.03  \n",
       "668   9.780743e+12    format  386.0  75746413          5.0  172101.0     4.07  \n",
       "3244  9.781442e+12    format  208.0  71551006          5.0     263.0     4.04  \n",
       "1616  9.780805e+12    format  240.0  64494065          5.0    4710.0     3.83  \n",
       "904   9.780801e+12    format  208.0  38438711          5.0   76366.0     3.93  \n",
       "929   9.780440e+12    format   32.0  98218548          5.0   63771.0     4.25  \n",
       "3390  9.780312e+12    format  309.0  75776285          5.0   11442.0     3.63  \n",
       "3199  9.780571e+12    format  461.0  47594454          5.0  117058.0     4.13  \n",
       "379   9.781616e+12    format  313.0  60512753          5.0     383.0     4.23  \n",
       "2180  9.780553e+12    format  212.0  33350490          5.0  262110.0     4.17  \n",
       "218   9.780553e+12    format  969.0  23698582          5.0  737429.0     4.41  "
      ]
     },
     "execution_count": 448,
     "metadata": {},
     "output_type": "execute_result"
    }
   ],
   "source": [
    "dfwr.sort_values('title').head(20)\n",
    "\n"
   ]
  },
  {
   "cell_type": "code",
   "execution_count": 384,
   "metadata": {},
   "outputs": [
    {
     "data": {
      "text/plain": [
       "<matplotlib.axes._subplots.AxesSubplot at 0x7f452389d310>"
      ]
     },
     "execution_count": 384,
     "metadata": {},
     "output_type": "execute_result"
    },
    {
     "data": {
      "image/png": "[encoded data removed]",
      "text/plain": [
       "<Figure size 432x288 with 1 Axes>"
      ]
     },
     "metadata": {
      "needs_background": "light"
     },
     "output_type": "display_data"
    }
   ],
   "source": [
    "dfwr['av_rate'].hist(bins = 20)"
   ]
  },
  {
   "cell_type": "code",
   "execution_count": 382,
   "metadata": {},
   "outputs": [
    {
     "data": {
      "text/plain": [
       "<matplotlib.axes._subplots.AxesSubplot at 0x7f452358ad90>"
      ]
     },
     "execution_count": 382,
     "metadata": {},
     "output_type": "execute_result"
    },
    {
     "data": {
      "image/png": "[encoded data removed]",
      "text/plain": [
       "<Figure size 432x288 with 1 Axes>"
      ]
     },
     "metadata": {
      "needs_background": "light"
     },
     "output_type": "display_data"
    }
   ],
   "source": [
    "dfwr['user_rating'].hist()"
   ]
  },
  {
   "cell_type": "markdown",
   "metadata": {},
   "source": [
    "Its pretty clear, from these histograms, that at least in the initial thousand user-reviews sampled in my dataset, that goodreads reviews are heavily weighted towards the high end of the scale. lets do a simple hypothesis test and see where we stand against statistics"
   ]
  },
  {
   "cell_type": "code",
   "execution_count": 458,
   "metadata": {},
   "outputs": [
    {
     "data": {
      "text/plain": [
       "0.7282563831386586"
      ]
     },
     "execution_count": 458,
     "metadata": {},
     "output_type": "execute_result"
    }
   ],
   "source": [
    "#sample is all of our user ratings, sampling was done as part of the scraping randomized list operation\n",
    "sample =dfwr['user_rating']\n",
    "\n",
    "np.std(sample)"
   ]
  },
  {
   "cell_type": "code",
   "execution_count": 470,
   "metadata": {},
   "outputs": [
    {
     "data": {
      "image/png": "[encoded data removed]",
      "text/plain": [
       "<Figure size 432x288 with 1 Axes>"
      ]
     },
     "metadata": {
      "needs_background": "light"
     },
     "output_type": "display_data"
    }
   ],
   "source": [
    "# graph the sample and the hypothesis(a uniform distribution of the same size as the sample)\n",
    "null_hyp = stats.norm.rvs(loc=4, scale=np.std(sample), size=len(sample), random_state=None)\n",
    "fig, ax = plt.subplots()\n",
    "\n",
    "ax = plt.hist(null_hyp, color = 'g', bins = 4, alpha = .7, label = 'null hypothesis')\n",
    "ax = sample.hist(color = 'c', bins = 5, alpha = .7, label ='sample')\n",
    "\n",
    "ax.set_title('sampled ratings against uniform ratings')\n",
    "ax.set_ylabel('nuber of ratings')\n",
    "ax.set_xlabel('rating score')\n",
    "\n",
    "ax.legend(loc='upper left', frameon = False)\n",
    "#fig.xlabel('number of ratings')\n",
    "plt.show()\n",
    "\n",
    "#fig.savefig('img/hypothesis_test', dpi = 300, bbox_inches = 'tight', transparent = True)"
   ]
  },
  {
   "cell_type": "code",
   "execution_count": 463,
   "metadata": {},
   "outputs": [
    {
     "data": {
      "text/plain": [
       "Ttest_1sampResult(statistic=35.28854661575597, pvalue=1.2852902062632924e-198)"
      ]
     },
     "execution_count": 463,
     "metadata": {},
     "output_type": "execute_result"
    }
   ],
   "source": [
    "stats.ttest_1samp(sample, 4, axis=0, nan_policy='propagate')"
   ]
  },
  {
   "cell_type": "code",
   "execution_count": null,
   "metadata": {},
   "outputs": [],
   "source": []
  },
  {
   "cell_type": "code",
   "execution_count": 476,
   "metadata": {},
   "outputs": [
    {
     "data": {
      "image/png": "[encoded data removed]",
      "text/plain": [
       "<Figure size 432x288 with 1 Axes>"
      ]
     },
     "metadata": {
      "needs_background": "light"
     },
     "output_type": "display_data"
    }
   ],
   "source": [
    "# graph the sample and the hypothesis(a uniform distribution of the same size as the sample)\n",
    "null_hyp = stats.uniform.rvs(loc=0, scale=5, size=len(sample), random_state=None)\n",
    "fig, ax = plt.subplots()\n",
    "\n",
    "ax = plt.hist(null_hyp, color = 'g', bins = 5, alpha = .7, label = 'null hypothesis')\n",
    "ax = sample.hist(color = 'c', bins = 5, alpha = .0, label ='sample')\n",
    "\n",
    "ax.set_title('uniform ratings')\n",
    "ax.set_ylabel('nuber of ratings')\n",
    "ax.set_xlabel(\"the sort of bins we would expect, if people were perfectly rational. Which we're obviously not.\")\n",
    "\n",
    "#ax.legend(loc='upper left', frameon = False)\n",
    "#fig.xlabel('number of ratings')\n",
    "plt.show()\n",
    "\n",
    "#fig.savefig('img/uniform_rational_graph2', dpi = 300, bbox_inches = 'tight', transparent = True)"
   ]
  },
  {
   "cell_type": "code",
   "execution_count": null,
   "metadata": {},
   "outputs": [],
   "source": [
    "# graph the sample and the hypothesis(a uniform distribution of the same size as the sample)\n",
    "null_hyp = stats.norm.rvs(loc=4, scale=np.std(sample), size=len(sample), random_state=None)\n",
    "fig, ax = plt.subplots()\n",
    "\n",
    "ax = plt.hist(null_hyp, color = 'g', bins = 4, alpha = .7, label = 'null hypothesis')\n",
    "ax = sample.hist(color = 'c', bins = 5, alpha = .7, label ='sample')\n",
    "\n",
    "ax.set_title('sampled ratings against uniform ratings')\n",
    "ax.set_ylabel('nuber of ratings')\n",
    "ax.set_xlabel('rating score')\n",
    "\n",
    "ax.legend(loc='upper left', frameon = False)\n",
    "#fig.xlabel('number of ratings')\n",
    "plt.show()\n",
    "\n",
    "fig.savefig('img/hypothesis_graph', dpi = 300, bbox_inches = 'tight', transparent = True)"
   ]
  }
 ],
 "metadata": {
  "kernelspec": {
   "display_name": "Python 3",
   "language": "python",
   "name": "python3"
  },
  "language_info": {
   "codemirror_mode": {
    "name": "ipython",
    "version": 3
   },
   "file_extension": ".py",
   "mimetype": "text/x-python",
   "name": "python",
   "nbconvert_exporter": "python",
   "pygments_lexer": "ipython3",
   "version": "3.7.4"
  }
 },
 "nbformat": 4,
 "nbformat_minor": 2
}
