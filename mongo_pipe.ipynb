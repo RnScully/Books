{
 "cells": [
  {
   "cell_type": "code",
   "execution_count": 76,
   "metadata": {},
   "outputs": [],
   "source": [
    "from pymongo import MongoClient\n",
    "import pprint\n",
    "import json\n",
    "from bs4 import BeautifulSoup\n",
    "import re"
   ]
  },
  {
   "cell_type": "code",
   "execution_count": 3,
   "metadata": {},
   "outputs": [],
   "source": [
    "\n",
    "client = MongoClient('localhost', 27017)\n",
    "db=client['reviews']\n",
    "coll=db['user_reviews']"
   ]
  },
  {
   "cell_type": "markdown",
   "metadata": {},
   "source": [
    ".find() creates a \"cursor\" which pulls the data. .limit() keeps you from pulling all the data. Wrapping the \"cursor\" in a list comprehension builds that cursor out iteratively into a list containing the things you want to manipulate. Ok? Cool. "
   ]
  },
  {
   "cell_type": "code",
   "execution_count": 178,
   "metadata": {},
   "outputs": [
    {
     "data": {
      "text/plain": [
       "7171593"
      ]
     },
     "execution_count": 178,
     "metadata": {},
     "output_type": "execute_result"
    }
   ],
   "source": [
    "test = [x for x in coll.find().limit(1000)]\n",
    "test[0]['userid']"
   ]
  },
  {
   "cell_type": "markdown",
   "metadata": {},
   "source": [
    "now, its more complicated than that, because all of this is nested *again* So in the cursor list? you've got a dictonary that holds user_id and a list of reviews. so index into 'reviews' and you get to a list of your actual scraped bits, the data from goodreads. "
   ]
  },
  {
   "cell_type": "code",
   "execution_count": 189,
   "metadata": {},
   "outputs": [],
   "source": [
    "review = test[3]['reviews']"
   ]
  },
  {
   "cell_type": "code",
   "execution_count": null,
   "metadata": {},
   "outputs": [],
   "source": []
  },
  {
   "cell_type": "markdown",
   "metadata": {},
   "source": [
    "you're going to want to make those giant strings of html into a handle-able-able object. So put it in a bowl with beatiful soup. "
   ]
  },
  {
   "cell_type": "code",
   "execution_count": 52,
   "metadata": {},
   "outputs": [],
   "source": [
    "soup = BeautifulSoup(review, 'html.parser')"
   ]
  },
  {
   "cell_type": "code",
   "execution_count": 243,
   "metadata": {},
   "outputs": [],
   "source": [
    "# print(soup.prettify())"
   ]
  },
  {
   "cell_type": "code",
   "execution_count": 242,
   "metadata": {},
   "outputs": [
    {
     "data": {
      "text/plain": [
       "'The Hunger Games'"
      ]
     },
     "execution_count": 242,
     "metadata": {},
     "output_type": "execute_result"
    }
   ],
   "source": [
    "title = soup.find_all(class_ = re.compile('title'))[0].text.split('\\n')[1].strip()\n",
    "title\n"
   ]
  },
  {
   "cell_type": "code",
   "execution_count": 196,
   "metadata": {
    "scrolled": true
   },
   "outputs": [
    {
     "data": {
      "text/plain": [
       "'title \\n      The Hunger Games\\n        (The Hunger Games, #1)\\n'"
      ]
     },
     "execution_count": 196,
     "metadata": {},
     "output_type": "execute_result"
    }
   ],
   "source": [
    "title = soup.find_all(class_ = re.compile('title'))[0].text\n",
    "title"
   ]
  },
  {
   "cell_type": "code",
   "execution_count": 252,
   "metadata": {},
   "outputs": [
    {
     "data": {
      "text/plain": [
       "374"
      ]
     },
     "execution_count": 252,
     "metadata": {},
     "output_type": "execute_result"
    }
   ],
   "source": [
    "pages = int(soup.find_all(class_ =re.compile('num_pages'))[0].text.split()[2])\n",
    "pages"
   ]
  },
  {
   "cell_type": "code",
   "execution_count": 211,
   "metadata": {},
   "outputs": [
    {
     "data": {
      "text/plain": [
       "4.33"
      ]
     },
     "execution_count": 211,
     "metadata": {},
     "output_type": "execute_result"
    }
   ],
   "source": [
    "av_rate = float(soup.find_all(class_ =re.compile('avg_rating'))[0].text.split()[2])\n",
    "av_rate"
   ]
  },
  {
   "cell_type": "code",
   "execution_count": 214,
   "metadata": {},
   "outputs": [
    {
     "data": {
      "text/plain": [
       "5936319"
      ]
     },
     "execution_count": 214,
     "metadata": {},
     "output_type": "execute_result"
    }
   ],
   "source": [
    "num_rate = int(soup.find_all(class_ =re.compile('num_ratings'))[0].text.split()[2].replace(',',''))\n",
    "num_rate"
   ]
  },
  {
   "cell_type": "code",
   "execution_count": 232,
   "metadata": {},
   "outputs": [],
   "source": [
    "def str_to_rate(qual_state):\n",
    "    '''\n",
    "    a function that turns goodreads's \"I liked it\" or \"I did not like it\" star categories\n",
    "    into the numerical 1-5 rating that they visually imply. \n",
    "    ++++++\n",
    "    Attributes\n",
    "    qual_state (list) a split string pulled from the beautiful soup output of .text on the rating object\n",
    "    ++++++\n",
    "    Returns\n",
    "    user_rating (int): 1-5 score based on NUMBER OF STARS SELECTED BY THE RATER. I honestly don't understand why that's not the output in the HTML. \n",
    "    '''\n",
    "    if qual_state[-3:] == ['it', 'was', 'amazing']:\n",
    "        user_rating = 5\n",
    "    elif qual_state[-3:] ==['really','liked','it']:\n",
    "        user_rating = 4\n",
    "    elif qual_state[-2:] ==['liked', 'it']:\n",
    "        '''note that I belive any that include \"really\" will be given 4\n",
    "        before we get to this elif statement, therefore we don't need \n",
    "        to worry about the issues of \"really liked it\" and \"liked it\"\n",
    "        overlapping'''\n",
    "        user_rating= 3\n",
    "    elif qual_state[-3:]==['it','was','ok']:\n",
    "        user_rating = 2\n",
    "    elif qual_state[-3:]==['not','like','it']:\n",
    "        user_rating = 1\n",
    "    else:\n",
    "        user_rating = 0\n",
    "    return user_rating\n",
    "\n"
   ]
  },
  {
   "cell_type": "code",
   "execution_count": 233,
   "metadata": {},
   "outputs": [
    {
     "data": {
      "text/plain": [
       "5"
      ]
     },
     "execution_count": 233,
     "metadata": {},
     "output_type": "execute_result"
    }
   ],
   "source": [
    "user_rating = str_to_rate(soup.find_all(class_ =re.compile('field rating'))[0].text.split())\n",
    "user_rating"
   ]
  },
  {
   "cell_type": "markdown",
   "metadata": {},
   "source": [
    "**Putting it all together**"
   ]
  },
  {
   "cell_type": "code",
   "execution_count": 255,
   "metadata": {},
   "outputs": [],
   "source": [
    "def gr_db_cleaner(find_lim = 10):\n",
    "    '''\n",
    "    a function that reads in goodreads user review tables gathered\n",
    "    by the gr_scraper and returns a list for schema\n",
    "    +++++++++++\n",
    "    Atributes\n",
    "    find_lim (int): how many user-reviews to clean.  \n",
    "    +++++++\n",
    "    '''\n",
    "    \n",
    "    client = MongoClient('localhost', 27017)\n",
    "    db=client['reviews']\n",
    "    collection=db['user_reviews']\n",
    "\n",
    "    documents = [x for x in collection.find().limit(find_lim)]\n",
    "    all_revs = []\n",
    "    for idx, users in enumerate(documents):\n",
    "        userid = documents[idx]['userid']\n",
    "        review_list = documents[idx]['reviews']\n",
    "        if len(review_list) ==0:\n",
    "            sub_rev = [None, None, userid, None, None, None]\n",
    "            all_revs.append(sub_rev)\n",
    "        else:\n",
    "            for review in review_list:\n",
    "                soup = BeautifulSoup(review, 'html.parser')\n",
    "                title = soup.find_all(class_ = re.compile('title'))[0].text.split('\\n')[1].strip()\n",
    "                try:\n",
    "                    pages = int(soup.find_all(class_ =re.compile('num_pages'))[0].text.split()[2])\n",
    "                except:\n",
    "                    pages = None\n",
    "                av_rate = float(soup.find_all(class_ =re.compile('avg_rating'))[0].text.split()[2])\n",
    "                num_rate = int(soup.find_all(class_ =re.compile('num_ratings'))[0].text.split()[2].replace(',',''))\n",
    "                user_rating = str_to_rate(soup.find_all(class_ =re.compile('field rating'))[0].text.split())\n",
    "                sub_rev = [title, pages, userid, user_rating, num_rate, av_rate]\n",
    "                all_revs.append(sub_rev)\n",
    "    return all_revs"
   ]
  },
  {
   "cell_type": "code",
   "execution_count": 256,
   "metadata": {},
   "outputs": [
    {
     "data": {
      "text/plain": [
       "[[None, None, 7171593, None, None, None],\n",
       " [None, None, 6060131, None, None, None],\n",
       " ['The Hunger Games', 374, 22197300, 5, 5936319, 4.33],\n",
       " ['Divergent', 487, 22197300, 5, 2706147, 4.2],\n",
       " ['Shiver', 392, 22197300, 5, 411613, 3.77],\n",
       " ['Good Omens: The Nice and Accurate Prophecies of Agnes Nutter, Witch',\n",
       "  491,\n",
       "  22197300,\n",
       "  5,\n",
       "  476232,\n",
       "  4.25],\n",
       " ['The Host', 620, 22197300, 5, 848921, 3.84],\n",
       " ['Sabriel', 491, 22197300, 5, 170803, 4.17],\n",
       " ['Lirael', 464, 22197300, 5, 100837, 4.29],\n",
       " ['Fire', 480, 22197300, 5, 152215, 4.11],\n",
       " ['Graceling', 471, 22197300, 5, 359270, 4.09],\n",
       " ['Inkheart', 563, 22197300, 5, 342693, 3.88],\n",
       " ['The Baby Book: Everything You Need to Know About Your Baby from Birth to Age Two',\n",
       "  784,\n",
       "  69817947,\n",
       "  5,\n",
       "  6955,\n",
       "  4.17],\n",
       " ['The No-Cry Sleep Solution: Gentle Ways to Help Your Baby Sleep Through the Night',\n",
       "  254,\n",
       "  69817947,\n",
       "  5,\n",
       "  7776,\n",
       "  3.49],\n",
       " ['Attachment Parenting: Instinctive Care for Your Baby and Young Child',\n",
       "  336,\n",
       "  69817947,\n",
       "  5,\n",
       "  415,\n",
       "  3.98],\n",
       " ['Nighttime Parenting (Revised): How to Get Your Baby and Child to Sleep',\n",
       "  224,\n",
       "  69817947,\n",
       "  5,\n",
       "  448,\n",
       "  3.86],\n",
       " ['Amor a Cuatro Estaciones: El Diario de Una Ilusión',\n",
       "  248,\n",
       "  69817947,\n",
       "  0,\n",
       "  5213,\n",
       "  3.85],\n",
       " ['سینوهه پزشک مخصوص فرعون، جلد اول', None, 41036771, 0, 16985, 4.12],\n",
       " ['شمس المعارف الكبرى', None, 54622877, 0, 3753, 3.77],\n",
       " ['Sex, Lies, and Online Dating', 352, 13519586, 5, 12014, 3.8],\n",
       " ['Addicted for Now', 488, 13519586, 5, 11860, 4.26],\n",
       " [\"The Trouble With Valentine's Day\", 368, 13519586, 5, 12516, 3.94],\n",
       " ['Ricochet', 260, 13519586, 5, 10240, 4.12],\n",
       " ['Dreamland', 250, 13519586, 5, 71741, 3.91],\n",
       " ['Simply Irresistible', 375, 13519586, 5, 20118, 3.85],\n",
       " ['See Jane Score', 363, 13519586, 5, 23894, 4.05],\n",
       " ['Kiss the Sky', 443, 13519586, 5, 14558, 4.2],\n",
       " ['This Lullaby', 345, 13519586, 5, 166982, 4.03],\n",
       " ['Verity', 333, 13519586, 5, 72226, 4.35],\n",
       " ['The 7 Habits of Highly Effective People: Powerful Lessons in Personal Change',\n",
       "  384,\n",
       "  27177960,\n",
       "  5,\n",
       "  453076,\n",
       "  4.1],\n",
       " ['How to Worship a King: Prepare Your Heart. Prepare Your World. Prepare the Way',\n",
       "  271,\n",
       "  27177960,\n",
       "  5,\n",
       "  333,\n",
       "  4.43],\n",
       " ['Date Your Wife', 162, 27177960, 5, 551, 3.82],\n",
       " ['Dangerous Calling: Confronting the Unique Challenges of Pastoral Ministry',\n",
       "  242,\n",
       "  27177960,\n",
       "  5,\n",
       "  2796,\n",
       "  4.37],\n",
       " ['Knowing God', None, 27177960, 5, 41604, 4.28],\n",
       " ['Doxology and Theology: How the Gospel Forms the Worship Leader: How the Gospel Forms the Worship Leader',\n",
       "  208,\n",
       "  27177960,\n",
       "  5,\n",
       "  308,\n",
       "  4.29],\n",
       " ['Can I Trust The Bible?', 65, 27177960, 5, 768, 4.07],\n",
       " ['The New Strong-Willed Child', 287, 27177960, 5, 3409, 3.8],\n",
       " ['Morning and Evening: A New Edition of the Classic Devotional Based on The Holy Bible, English Standard Version',\n",
       "  400,\n",
       "  27177960,\n",
       "  5,\n",
       "  7623,\n",
       "  4.55],\n",
       " ['Creature of the Word: The Jesus-Centered Church: The Jesus-Centered Church',\n",
       "  311,\n",
       "  27177960,\n",
       "  5,\n",
       "  954,\n",
       "  4.12],\n",
       " [None, None, 769791, None, None, None],\n",
       " ['The Pursuit of God: The Human Thirst for the Divine',\n",
       "  128,\n",
       "  65625282,\n",
       "  5,\n",
       "  54114,\n",
       "  4.34],\n",
       " ['Knowing God', 286, 65625282, 5, 41604, 4.28],\n",
       " ['Mere Christianity', 191, 65625282, 5, 267556, 4.32],\n",
       " ['The Screwtape Letters', 223, 65625282, 5, 304790, 4.22],\n",
       " ['The Purpose Driven Life: What on Earth Am I Here for?',\n",
       "  334,\n",
       "  65625282,\n",
       "  5,\n",
       "  213511,\n",
       "  3.92],\n",
       " ['Union with Christ: The Way to Know and Enjoy God',\n",
       "  320,\n",
       "  65625282,\n",
       "  0,\n",
       "  850,\n",
       "  4.42]]"
      ]
     },
     "execution_count": 256,
     "metadata": {},
     "output_type": "execute_result"
    }
   ],
   "source": [
    "gr_db_cleaner()"
   ]
  },
  {
   "cell_type": "code",
   "execution_count": 257,
   "metadata": {},
   "outputs": [],
   "source": [
    "import numpy as np\n",
    "import pandas as pd"
   ]
  },
  {
   "cell_type": "code",
   "execution_count": null,
   "metadata": {},
   "outputs": [],
   "source": []
  },
  {
   "cell_type": "code",
   "execution_count": null,
   "metadata": {},
   "outputs": [],
   "source": []
  },
  {
   "cell_type": "code",
   "execution_count": null,
   "metadata": {},
   "outputs": [],
   "source": []
  },
  {
   "cell_type": "code",
   "execution_count": null,
   "metadata": {},
   "outputs": [],
   "source": []
  }
 ],
 "metadata": {
  "kernelspec": {
   "display_name": "Python 3",
   "language": "python",
   "name": "python3"
  },
  "language_info": {
   "codemirror_mode": {
    "name": "ipython",
    "version": 3
   },
   "file_extension": ".py",
   "mimetype": "text/x-python",
   "name": "python",
   "nbconvert_exporter": "python",
   "pygments_lexer": "ipython3",
   "version": "3.7.4"
  }
 },
 "nbformat": 4,
 "nbformat_minor": 2
}
