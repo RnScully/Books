{
 "cells": [
  {
   "cell_type": "code",
   "execution_count": 1,
   "metadata": {},
   "outputs": [],
   "source": [
    "import numpy as np\n",
    "import pandas as pd\n",
    "import matplotlib.pyplot as plt\n",
    "import scipy.stats as stats\n",
    "%matplotlib inline\n",
    "plt.style.use('fivethirtyeight')"
   ]
  },
  {
   "cell_type": "markdown",
   "metadata": {},
   "source": [
    "## Run this at the end for survey data"
   ]
  },
  {
   "cell_type": "code",
   "execution_count": 152,
   "metadata": {},
   "outputs": [
    {
     "ename": "NameError",
     "evalue": "name 'nodups' is not defined",
     "output_type": "error",
     "traceback": [
      "\u001b[0;31m--------------------------------------------------------------------------\u001b[0m",
      "\u001b[0;31mNameError\u001b[0m                                Traceback (most recent call last)",
      "\u001b[0;32m<ipython-input-152-f1a44f06afe8>\u001b[0m in \u001b[0;36m<module>\u001b[0;34m\u001b[0m\n\u001b[0;32m----> 1\u001b[0;31m \u001b[0munique_titles\u001b[0m \u001b[0;34m=\u001b[0m \u001b[0mlen\u001b[0m\u001b[0;34m(\u001b[0m\u001b[0mnodups\u001b[0m\u001b[0;34m)\u001b[0m\u001b[0;34m\u001b[0m\u001b[0;34m\u001b[0m\u001b[0m\n\u001b[0m\u001b[1;32m      2\u001b[0m \u001b[0mtotal_ratings\u001b[0m \u001b[0;34m=\u001b[0m \u001b[0mlen\u001b[0m\u001b[0;34m(\u001b[0m\u001b[0mdfwr\u001b[0m\u001b[0;34m[\u001b[0m\u001b[0;34m'user_rating'\u001b[0m\u001b[0;34m]\u001b[0m\u001b[0;34m)\u001b[0m\u001b[0;34m\u001b[0m\u001b[0;34m\u001b[0m\u001b[0m\n\u001b[1;32m      3\u001b[0m \u001b[0mtotal_users\u001b[0m \u001b[0;34m=\u001b[0m \u001b[0mdf\u001b[0m\u001b[0;34m.\u001b[0m\u001b[0mdrop_duplicates\u001b[0m\u001b[0;34m(\u001b[0m\u001b[0msubset\u001b[0m\u001b[0;34m=\u001b[0m\u001b[0;34m'userid'\u001b[0m\u001b[0;34m,\u001b[0m \u001b[0mkeep\u001b[0m\u001b[0;34m=\u001b[0m\u001b[0;34m'first'\u001b[0m\u001b[0;34m,\u001b[0m \u001b[0minplace\u001b[0m\u001b[0;34m=\u001b[0m\u001b[0;32mFalse\u001b[0m\u001b[0;34m)\u001b[0m\u001b[0;34m[\u001b[0m\u001b[0;34m'userid'\u001b[0m\u001b[0;34m]\u001b[0m\u001b[0;34m.\u001b[0m\u001b[0mcount\u001b[0m\u001b[0;34m(\u001b[0m\u001b[0;34m)\u001b[0m\u001b[0;34m\u001b[0m\u001b[0;34m\u001b[0m\u001b[0m\n\u001b[1;32m      4\u001b[0m \u001b[0;34m\u001b[0m\u001b[0m\n\u001b[1;32m      5\u001b[0m \u001b[0;31m#users_without_ratings =\u001b[0m\u001b[0;34m\u001b[0m\u001b[0;34m\u001b[0m\u001b[0;34m\u001b[0m\u001b[0m\n",
      "\u001b[0;31mNameError\u001b[0m: name 'nodups' is not defined"
     ]
    }
   ],
   "source": [
    "unique_titles = len(nodups)\n",
    "total_ratings = len(dfwr['user_rating'])\n",
    "total_users = df.drop_duplicates(subset='userid', keep='first', inplace=False)['userid'].count()\n",
    "\n",
    "#users_without_ratings = \n",
    "df.head()"
   ]
  },
  {
   "cell_type": "code",
   "execution_count": 154,
   "metadata": {},
   "outputs": [
    {
     "data": {
      "text/html": [
       "<div>\n",
       "<style scoped>\n",
       "    .dataframe tbody tr th:only-of-type {\n",
       "        vertical-align: middle;\n",
       "    }\n",
       "\n",
       "    .dataframe tbody tr th {\n",
       "        vertical-align: top;\n",
       "    }\n",
       "\n",
       "    .dataframe thead th {\n",
       "        text-align: right;\n",
       "    }\n",
       "</style>\n",
       "<table border=\"1\" class=\"dataframe\">\n",
       "  <thead>\n",
       "    <tr style=\"text-align: right;\">\n",
       "      <th></th>\n",
       "      <th>title</th>\n",
       "      <th>author</th>\n",
       "      <th>isbn</th>\n",
       "      <th>book_type</th>\n",
       "      <th>pages</th>\n",
       "      <th>userid</th>\n",
       "      <th>user_rating</th>\n",
       "      <th>num_rate</th>\n",
       "      <th>av_rate</th>\n",
       "    </tr>\n",
       "  </thead>\n",
       "  <tbody>\n",
       "    <tr>\n",
       "      <td>82692</td>\n",
       "      <td>Twilight: The Complete Illustrated Movie Compa...</td>\n",
       "      <td>Vaz, Mark Cotta</td>\n",
       "      <td>9780316043137</td>\n",
       "      <td>format</td>\n",
       "      <td>144</td>\n",
       "      <td>95715431</td>\n",
       "      <td>4</td>\n",
       "      <td>328573</td>\n",
       "      <td>4.24</td>\n",
       "    </tr>\n",
       "    <tr>\n",
       "      <td>82693</td>\n",
       "      <td>Sorcery of Thorns</td>\n",
       "      <td>Rogerson, Margaret</td>\n",
       "      <td>9781481497619</td>\n",
       "      <td>format</td>\n",
       "      <td>456</td>\n",
       "      <td>95715431</td>\n",
       "      <td>2</td>\n",
       "      <td>22646</td>\n",
       "      <td>4.16</td>\n",
       "    </tr>\n",
       "    <tr>\n",
       "      <td>82694</td>\n",
       "      <td>The Steward</td>\n",
       "      <td>Shields, Christopher</td>\n",
       "      <td></td>\n",
       "      <td>format</td>\n",
       "      <td>336</td>\n",
       "      <td>95715431</td>\n",
       "      <td>1</td>\n",
       "      <td>543</td>\n",
       "      <td>3.93</td>\n",
       "    </tr>\n",
       "    <tr>\n",
       "      <td>82717</td>\n",
       "      <td>Ayah Menyayangi Tanpa Akhir</td>\n",
       "      <td>Kejora, Kirana</td>\n",
       "      <td>9786027735460</td>\n",
       "      <td>format</td>\n",
       "      <td>372</td>\n",
       "      <td>45343307</td>\n",
       "      <td>4</td>\n",
       "      <td>250</td>\n",
       "      <td>3.84</td>\n",
       "    </tr>\n",
       "    <tr>\n",
       "      <td>82720</td>\n",
       "      <td>The Lightning Thief</td>\n",
       "      <td>Riordan, Rick</td>\n",
       "      <td>9780786838653</td>\n",
       "      <td>format</td>\n",
       "      <td>377</td>\n",
       "      <td>68162066</td>\n",
       "      <td>5</td>\n",
       "      <td>1803760</td>\n",
       "      <td>4.25</td>\n",
       "    </tr>\n",
       "  </tbody>\n",
       "</table>\n",
       "</div>"
      ],
      "text/plain": [
       "                                                   title  \\\n",
       "82692  Twilight: The Complete Illustrated Movie Compa...   \n",
       "82693                                  Sorcery of Thorns   \n",
       "82694                                        The Steward   \n",
       "82717                        Ayah Menyayangi Tanpa Akhir   \n",
       "82720                                The Lightning Thief   \n",
       "\n",
       "                     author           isbn book_type pages    userid  \\\n",
       "82692       Vaz, Mark Cotta  9780316043137    format   144  95715431   \n",
       "82693    Rogerson, Margaret  9781481497619    format   456  95715431   \n",
       "82694  Shields, Christopher                   format   336  95715431   \n",
       "82717        Kejora, Kirana  9786027735460    format   372  45343307   \n",
       "82720         Riordan, Rick  9780786838653    format   377  68162066   \n",
       "\n",
       "      user_rating num_rate av_rate  \n",
       "82692           4   328573    4.24  \n",
       "82693           2    22646    4.16  \n",
       "82694           1      543    3.93  \n",
       "82717           4      250    3.84  \n",
       "82720           5  1803760    4.25  "
      ]
     },
     "execution_count": 154,
     "metadata": {},
     "output_type": "execute_result"
    }
   ],
   "source": [
    "data = np.load('src/data/datacln.npy', allow_pickle = True)\n",
    "\n",
    "df = pd.DataFrame(data, columns = ['title','author', 'isbn', 'book_type', 'pages', 'userid', 'user_rating', 'num_rate', 'av_rate'])  \n",
    "\n",
    "#get rid of any users who haven't added any books, and any added books with no user rating\n",
    "dfwr = df.dropna(axis=0)\n",
    "actually_rated = dfwr['user_rating'] != 0\n",
    "dfwr = dfwr[actually_rated]\n",
    "#dfwr.info()\n",
    "#dfwr.head()\n",
    "dfwr.tail()"
   ]
  },
  {
   "cell_type": "code",
   "execution_count": 8,
   "metadata": {},
   "outputs": [
    {
     "ename": "KeyError",
     "evalue": "False",
     "output_type": "error",
     "traceback": [
      "\u001b[0;31m---------------------------------------------------------------------------\u001b[0m",
      "\u001b[0;31mKeyError\u001b[0m                                  Traceback (most recent call last)",
      "\u001b[0;32m~/anaconda3/lib/python3.7/site-packages/pandas/core/indexes/base.py\u001b[0m in \u001b[0;36mget_loc\u001b[0;34m(self, key, method, tolerance)\u001b[0m\n\u001b[1;32m   2896\u001b[0m             \u001b[0;32mtry\u001b[0m\u001b[0;34m:\u001b[0m\u001b[0;34m\u001b[0m\u001b[0;34m\u001b[0m\u001b[0m\n\u001b[0;32m-> 2897\u001b[0;31m                 \u001b[0;32mreturn\u001b[0m \u001b[0mself\u001b[0m\u001b[0;34m.\u001b[0m\u001b[0m_engine\u001b[0m\u001b[0;34m.\u001b[0m\u001b[0mget_loc\u001b[0m\u001b[0;34m(\u001b[0m\u001b[0mkey\u001b[0m\u001b[0;34m)\u001b[0m\u001b[0;34m\u001b[0m\u001b[0;34m\u001b[0m\u001b[0m\n\u001b[0m\u001b[1;32m   2898\u001b[0m             \u001b[0;32mexcept\u001b[0m \u001b[0mKeyError\u001b[0m\u001b[0;34m:\u001b[0m\u001b[0;34m\u001b[0m\u001b[0;34m\u001b[0m\u001b[0m\n",
      "\u001b[0;32mpandas/_libs/index.pyx\u001b[0m in \u001b[0;36mpandas._libs.index.IndexEngine.get_loc\u001b[0;34m()\u001b[0m\n",
      "\u001b[0;32mpandas/_libs/index.pyx\u001b[0m in \u001b[0;36mpandas._libs.index.IndexEngine.get_loc\u001b[0;34m()\u001b[0m\n",
      "\u001b[0;32mpandas/_libs/hashtable_class_helper.pxi\u001b[0m in \u001b[0;36mpandas._libs.hashtable.PyObjectHashTable.get_item\u001b[0;34m()\u001b[0m\n",
      "\u001b[0;32mpandas/_libs/hashtable_class_helper.pxi\u001b[0m in \u001b[0;36mpandas._libs.hashtable.PyObjectHashTable.get_item\u001b[0;34m()\u001b[0m\n",
      "\u001b[0;31mKeyError\u001b[0m: False",
      "\nDuring handling of the above exception, another exception occurred:\n",
      "\u001b[0;31mKeyError\u001b[0m                                  Traceback (most recent call last)",
      "\u001b[0;32m<ipython-input-8-05deb8534d00>\u001b[0m in \u001b[0;36m<module>\u001b[0;34m\u001b[0m\n\u001b[1;32m      1\u001b[0m \u001b[0musers\u001b[0m \u001b[0;34m=\u001b[0m \u001b[0mdf\u001b[0m\u001b[0;34m.\u001b[0m\u001b[0mdrop_duplicates\u001b[0m\u001b[0;34m(\u001b[0m\u001b[0msubset\u001b[0m\u001b[0;34m=\u001b[0m\u001b[0;34m'userid'\u001b[0m\u001b[0;34m,\u001b[0m \u001b[0mkeep\u001b[0m\u001b[0;34m=\u001b[0m\u001b[0;34m'first'\u001b[0m\u001b[0;34m,\u001b[0m \u001b[0minplace\u001b[0m\u001b[0;34m=\u001b[0m\u001b[0;32mFalse\u001b[0m\u001b[0;34m)\u001b[0m\u001b[0;34m\u001b[0m\u001b[0;34m\u001b[0m\u001b[0m\n\u001b[0;32m----> 2\u001b[0;31m \u001b[0mmask\u001b[0m \u001b[0;34m=\u001b[0m \u001b[0musers\u001b[0m\u001b[0;34m[\u001b[0m\u001b[0;34m'userid'\u001b[0m\u001b[0;34m==\u001b[0m\u001b[0;34m'None'\u001b[0m\u001b[0;34m]\u001b[0m\u001b[0;34m\u001b[0m\u001b[0;34m\u001b[0m\u001b[0m\n\u001b[0m\u001b[1;32m      3\u001b[0m \u001b[0musers\u001b[0m\u001b[0;34m[\u001b[0m\u001b[0mmask\u001b[0m\u001b[0;34m]\u001b[0m\u001b[0;34m\u001b[0m\u001b[0;34m\u001b[0m\u001b[0m\n",
      "\u001b[0;32m~/anaconda3/lib/python3.7/site-packages/pandas/core/frame.py\u001b[0m in \u001b[0;36m__getitem__\u001b[0;34m(self, key)\u001b[0m\n\u001b[1;32m   2978\u001b[0m             \u001b[0;32mif\u001b[0m \u001b[0mself\u001b[0m\u001b[0;34m.\u001b[0m\u001b[0mcolumns\u001b[0m\u001b[0;34m.\u001b[0m\u001b[0mnlevels\u001b[0m \u001b[0;34m>\u001b[0m \u001b[0;36m1\u001b[0m\u001b[0;34m:\u001b[0m\u001b[0;34m\u001b[0m\u001b[0;34m\u001b[0m\u001b[0m\n\u001b[1;32m   2979\u001b[0m                 \u001b[0;32mreturn\u001b[0m \u001b[0mself\u001b[0m\u001b[0;34m.\u001b[0m\u001b[0m_getitem_multilevel\u001b[0m\u001b[0;34m(\u001b[0m\u001b[0mkey\u001b[0m\u001b[0;34m)\u001b[0m\u001b[0;34m\u001b[0m\u001b[0;34m\u001b[0m\u001b[0m\n\u001b[0;32m-> 2980\u001b[0;31m             \u001b[0mindexer\u001b[0m \u001b[0;34m=\u001b[0m \u001b[0mself\u001b[0m\u001b[0;34m.\u001b[0m\u001b[0mcolumns\u001b[0m\u001b[0;34m.\u001b[0m\u001b[0mget_loc\u001b[0m\u001b[0;34m(\u001b[0m\u001b[0mkey\u001b[0m\u001b[0;34m)\u001b[0m\u001b[0;34m\u001b[0m\u001b[0;34m\u001b[0m\u001b[0m\n\u001b[0m\u001b[1;32m   2981\u001b[0m             \u001b[0;32mif\u001b[0m \u001b[0mis_integer\u001b[0m\u001b[0;34m(\u001b[0m\u001b[0mindexer\u001b[0m\u001b[0;34m)\u001b[0m\u001b[0;34m:\u001b[0m\u001b[0;34m\u001b[0m\u001b[0;34m\u001b[0m\u001b[0m\n\u001b[1;32m   2982\u001b[0m                 \u001b[0mindexer\u001b[0m \u001b[0;34m=\u001b[0m \u001b[0;34m[\u001b[0m\u001b[0mindexer\u001b[0m\u001b[0;34m]\u001b[0m\u001b[0;34m\u001b[0m\u001b[0;34m\u001b[0m\u001b[0m\n",
      "\u001b[0;32m~/anaconda3/lib/python3.7/site-packages/pandas/core/indexes/base.py\u001b[0m in \u001b[0;36mget_loc\u001b[0;34m(self, key, method, tolerance)\u001b[0m\n\u001b[1;32m   2897\u001b[0m                 \u001b[0;32mreturn\u001b[0m \u001b[0mself\u001b[0m\u001b[0;34m.\u001b[0m\u001b[0m_engine\u001b[0m\u001b[0;34m.\u001b[0m\u001b[0mget_loc\u001b[0m\u001b[0;34m(\u001b[0m\u001b[0mkey\u001b[0m\u001b[0;34m)\u001b[0m\u001b[0;34m\u001b[0m\u001b[0;34m\u001b[0m\u001b[0m\n\u001b[1;32m   2898\u001b[0m             \u001b[0;32mexcept\u001b[0m \u001b[0mKeyError\u001b[0m\u001b[0;34m:\u001b[0m\u001b[0;34m\u001b[0m\u001b[0;34m\u001b[0m\u001b[0m\n\u001b[0;32m-> 2899\u001b[0;31m                 \u001b[0;32mreturn\u001b[0m \u001b[0mself\u001b[0m\u001b[0;34m.\u001b[0m\u001b[0m_engine\u001b[0m\u001b[0;34m.\u001b[0m\u001b[0mget_loc\u001b[0m\u001b[0;34m(\u001b[0m\u001b[0mself\u001b[0m\u001b[0;34m.\u001b[0m\u001b[0m_maybe_cast_indexer\u001b[0m\u001b[0;34m(\u001b[0m\u001b[0mkey\u001b[0m\u001b[0;34m)\u001b[0m\u001b[0;34m)\u001b[0m\u001b[0;34m\u001b[0m\u001b[0;34m\u001b[0m\u001b[0m\n\u001b[0m\u001b[1;32m   2900\u001b[0m         \u001b[0mindexer\u001b[0m \u001b[0;34m=\u001b[0m \u001b[0mself\u001b[0m\u001b[0;34m.\u001b[0m\u001b[0mget_indexer\u001b[0m\u001b[0;34m(\u001b[0m\u001b[0;34m[\u001b[0m\u001b[0mkey\u001b[0m\u001b[0;34m]\u001b[0m\u001b[0;34m,\u001b[0m \u001b[0mmethod\u001b[0m\u001b[0;34m=\u001b[0m\u001b[0mmethod\u001b[0m\u001b[0;34m,\u001b[0m \u001b[0mtolerance\u001b[0m\u001b[0;34m=\u001b[0m\u001b[0mtolerance\u001b[0m\u001b[0;34m)\u001b[0m\u001b[0;34m\u001b[0m\u001b[0;34m\u001b[0m\u001b[0m\n\u001b[1;32m   2901\u001b[0m         \u001b[0;32mif\u001b[0m \u001b[0mindexer\u001b[0m\u001b[0;34m.\u001b[0m\u001b[0mndim\u001b[0m \u001b[0;34m>\u001b[0m \u001b[0;36m1\u001b[0m \u001b[0;32mor\u001b[0m \u001b[0mindexer\u001b[0m\u001b[0;34m.\u001b[0m\u001b[0msize\u001b[0m \u001b[0;34m>\u001b[0m \u001b[0;36m1\u001b[0m\u001b[0;34m:\u001b[0m\u001b[0;34m\u001b[0m\u001b[0;34m\u001b[0m\u001b[0m\n",
      "\u001b[0;32mpandas/_libs/index.pyx\u001b[0m in \u001b[0;36mpandas._libs.index.IndexEngine.get_loc\u001b[0;34m()\u001b[0m\n",
      "\u001b[0;32mpandas/_libs/index.pyx\u001b[0m in \u001b[0;36mpandas._libs.index.IndexEngine.get_loc\u001b[0;34m()\u001b[0m\n",
      "\u001b[0;32mpandas/_libs/hashtable_class_helper.pxi\u001b[0m in \u001b[0;36mpandas._libs.hashtable.PyObjectHashTable.get_item\u001b[0;34m()\u001b[0m\n",
      "\u001b[0;32mpandas/_libs/hashtable_class_helper.pxi\u001b[0m in \u001b[0;36mpandas._libs.hashtable.PyObjectHashTable.get_item\u001b[0;34m()\u001b[0m\n",
      "\u001b[0;31mKeyError\u001b[0m: False"
     ]
    }
   ],
   "source": [
    "\n",
    "\n",
    "users = df.drop_duplicates(subset='userid', keep='first', inplace=False)\n",
    "mask = users['userid'=='None']\n",
    "users[mask]"
   ]
  },
  {
   "cell_type": "code",
   "execution_count": 155,
   "metadata": {},
   "outputs": [
    {
     "name": "stdout",
     "output_type": "stream",
     "text": [
      "<class 'pandas.core.frame.DataFrame'>\n",
      "RangeIndex: 82722 entries, 0 to 82721\n",
      "Data columns (total 9 columns):\n",
      "title          78448 non-null object\n",
      "author         78448 non-null object\n",
      "isbn           78448 non-null object\n",
      "book_type      78448 non-null object\n",
      "pages          75024 non-null object\n",
      "userid         82722 non-null object\n",
      "user_rating    78448 non-null object\n",
      "num_rate       78448 non-null object\n",
      "av_rate        78448 non-null object\n",
      "dtypes: object(9)\n",
      "memory usage: 5.7+ MB\n"
     ]
    }
   ],
   "source": [
    "df.info()"
   ]
  },
  {
   "cell_type": "code",
   "execution_count": 156,
   "metadata": {},
   "outputs": [
    {
     "name": "stdout",
     "output_type": "stream",
     "text": [
      "I scraped 13878 user bookshelfs from goodreads, gathering 50109 ratings on 21569 books\n"
     ]
    }
   ],
   "source": [
    "total_users = str(df.drop_duplicates(subset='userid', keep='first', inplace=False)['userid'].count())\n",
    "total_books = str(dfwr.drop_duplicates(subset='title', keep='first', inplace=False)['title'].count())\n",
    "total_ratings = str(dfwr['user_rating'].count())\n",
    "\n",
    "production_statement = 'I scraped {} user bookshelfs from goodreads, gathering {} ratings on {} books'.format(total_users,total_ratings,total_books)\n",
    "\n",
    "print(production_statement)"
   ]
  },
  {
   "cell_type": "code",
   "execution_count": 5,
   "metadata": {},
   "outputs": [
    {
     "data": {
      "text/html": [
       "<div>\n",
       "<style scoped>\n",
       "    .dataframe tbody tr th:only-of-type {\n",
       "        vertical-align: middle;\n",
       "    }\n",
       "\n",
       "    .dataframe tbody tr th {\n",
       "        vertical-align: top;\n",
       "    }\n",
       "\n",
       "    .dataframe thead th {\n",
       "        text-align: right;\n",
       "    }\n",
       "</style>\n",
       "<table border=\"1\" class=\"dataframe\">\n",
       "  <thead>\n",
       "    <tr style=\"text-align: right;\">\n",
       "      <th></th>\n",
       "      <th>title</th>\n",
       "      <th>author</th>\n",
       "      <th>isbn</th>\n",
       "      <th>book_type</th>\n",
       "      <th>pages</th>\n",
       "      <th>userid</th>\n",
       "      <th>user_rating</th>\n",
       "      <th>num_rate</th>\n",
       "      <th>av_rate</th>\n",
       "    </tr>\n",
       "  </thead>\n",
       "  <tbody>\n",
       "    <tr>\n",
       "      <td>0</td>\n",
       "      <td>None</td>\n",
       "      <td>None</td>\n",
       "      <td>None</td>\n",
       "      <td>None</td>\n",
       "      <td>None</td>\n",
       "      <td>7171593</td>\n",
       "      <td>None</td>\n",
       "      <td>None</td>\n",
       "      <td>None</td>\n",
       "    </tr>\n",
       "    <tr>\n",
       "      <td>1</td>\n",
       "      <td>None</td>\n",
       "      <td>None</td>\n",
       "      <td>None</td>\n",
       "      <td>None</td>\n",
       "      <td>None</td>\n",
       "      <td>6060131</td>\n",
       "      <td>None</td>\n",
       "      <td>None</td>\n",
       "      <td>None</td>\n",
       "    </tr>\n",
       "    <tr>\n",
       "      <td>2</td>\n",
       "      <td>The Hunger Games</td>\n",
       "      <td>Collins, Suzanne</td>\n",
       "      <td>9780439023481</td>\n",
       "      <td>format</td>\n",
       "      <td>374</td>\n",
       "      <td>22197300</td>\n",
       "      <td>5</td>\n",
       "      <td>5936319</td>\n",
       "      <td>4.33</td>\n",
       "    </tr>\n",
       "    <tr>\n",
       "      <td>3</td>\n",
       "      <td>Divergent</td>\n",
       "      <td>Roth, Veronica</td>\n",
       "      <td>9780062024039</td>\n",
       "      <td>format</td>\n",
       "      <td>487</td>\n",
       "      <td>22197300</td>\n",
       "      <td>5</td>\n",
       "      <td>2706147</td>\n",
       "      <td>4.2</td>\n",
       "    </tr>\n",
       "    <tr>\n",
       "      <td>4</td>\n",
       "      <td>Shiver</td>\n",
       "      <td>Stiefvater, Maggie</td>\n",
       "      <td>9780545123266</td>\n",
       "      <td>format</td>\n",
       "      <td>392</td>\n",
       "      <td>22197300</td>\n",
       "      <td>5</td>\n",
       "      <td>411613</td>\n",
       "      <td>3.77</td>\n",
       "    </tr>\n",
       "  </tbody>\n",
       "</table>\n",
       "</div>"
      ],
      "text/plain": [
       "              title              author           isbn book_type pages  \\\n",
       "0              None                None           None      None  None   \n",
       "1              None                None           None      None  None   \n",
       "2  The Hunger Games    Collins, Suzanne  9780439023481    format   374   \n",
       "3         Divergent      Roth, Veronica  9780062024039    format   487   \n",
       "4            Shiver  Stiefvater, Maggie  9780545123266    format   392   \n",
       "\n",
       "     userid user_rating num_rate av_rate  \n",
       "0   7171593        None     None    None  \n",
       "1   6060131        None     None    None  \n",
       "2  22197300           5  5936319    4.33  \n",
       "3  22197300           5  2706147     4.2  \n",
       "4  22197300           5   411613    3.77  "
      ]
     },
     "execution_count": 5,
     "metadata": {},
     "output_type": "execute_result"
    }
   ],
   "source": [
    "df.head()"
   ]
  },
  {
   "cell_type": "code",
   "execution_count": 6,
   "metadata": {},
   "outputs": [],
   "source": [
    "from sqlalchemy import create_engine\n",
    "import psycopg2 \n",
    "import io"
   ]
  },
  {
   "cell_type": "code",
   "execution_count": 8,
   "metadata": {},
   "outputs": [],
   "source": [
    "ratings = dfwr['user_rating']"
   ]
  },
  {
   "cell_type": "markdown",
   "metadata": {},
   "source": [
    "av_rate presumably has some duplicates because of books read by more than one user. So lets sort those out. "
   ]
  },
  {
   "cell_type": "code",
   "execution_count": 162,
   "metadata": {},
   "outputs": [
    {
     "data": {
      "text/plain": [
       "21569"
      ]
     },
     "execution_count": 162,
     "metadata": {},
     "output_type": "execute_result"
    }
   ],
   "source": [
    "nodups = dfwr.drop_duplicates(subset = 'title', keep = 'first', inplace = False)\n",
    "nodups['title'].count()"
   ]
  },
  {
   "cell_type": "markdown",
   "metadata": {},
   "source": [
    "lets do the same for users, and get a count of how many users there are. "
   ]
  },
  {
   "cell_type": "code",
   "execution_count": 164,
   "metadata": {},
   "outputs": [
    {
     "data": {
      "text/plain": [
       "13878"
      ]
     },
     "execution_count": 164,
     "metadata": {},
     "output_type": "execute_result"
    }
   ],
   "source": [
    "total_users = df.drop_duplicates(subset='userid', keep='first', inplace=False)['userid'].count()\n",
    "total_users"
   ]
  },
  {
   "cell_type": "code",
   "execution_count": 41,
   "metadata": {},
   "outputs": [
    {
     "data": {
      "text/html": [
       "<div>\n",
       "<style scoped>\n",
       "    .dataframe tbody tr th:only-of-type {\n",
       "        vertical-align: middle;\n",
       "    }\n",
       "\n",
       "    .dataframe tbody tr th {\n",
       "        vertical-align: top;\n",
       "    }\n",
       "\n",
       "    .dataframe thead th {\n",
       "        text-align: right;\n",
       "    }\n",
       "</style>\n",
       "<table border=\"1\" class=\"dataframe\">\n",
       "  <thead>\n",
       "    <tr style=\"text-align: right;\">\n",
       "      <th></th>\n",
       "      <th>title</th>\n",
       "      <th>author</th>\n",
       "      <th>isbn</th>\n",
       "      <th>book_type</th>\n",
       "      <th>pages</th>\n",
       "      <th>userid</th>\n",
       "      <th>user_rating</th>\n",
       "      <th>num_rate</th>\n",
       "      <th>av_rate</th>\n",
       "    </tr>\n",
       "  </thead>\n",
       "  <tbody>\n",
       "    <tr>\n",
       "      <td>0</td>\n",
       "      <td>None</td>\n",
       "      <td>None</td>\n",
       "      <td>None</td>\n",
       "      <td>None</td>\n",
       "      <td>None</td>\n",
       "      <td>7171593</td>\n",
       "      <td>None</td>\n",
       "      <td>None</td>\n",
       "      <td>None</td>\n",
       "    </tr>\n",
       "    <tr>\n",
       "      <td>1</td>\n",
       "      <td>None</td>\n",
       "      <td>None</td>\n",
       "      <td>None</td>\n",
       "      <td>None</td>\n",
       "      <td>None</td>\n",
       "      <td>6060131</td>\n",
       "      <td>None</td>\n",
       "      <td>None</td>\n",
       "      <td>None</td>\n",
       "    </tr>\n",
       "    <tr>\n",
       "      <td>2</td>\n",
       "      <td>The Hunger Games</td>\n",
       "      <td>Collins, Suzanne</td>\n",
       "      <td>9780439023481</td>\n",
       "      <td>format</td>\n",
       "      <td>374</td>\n",
       "      <td>22197300</td>\n",
       "      <td>5</td>\n",
       "      <td>5936319</td>\n",
       "      <td>4.33</td>\n",
       "    </tr>\n",
       "    <tr>\n",
       "      <td>3</td>\n",
       "      <td>Divergent</td>\n",
       "      <td>Roth, Veronica</td>\n",
       "      <td>9780062024039</td>\n",
       "      <td>format</td>\n",
       "      <td>487</td>\n",
       "      <td>22197300</td>\n",
       "      <td>5</td>\n",
       "      <td>2706147</td>\n",
       "      <td>4.2</td>\n",
       "    </tr>\n",
       "    <tr>\n",
       "      <td>4</td>\n",
       "      <td>Shiver</td>\n",
       "      <td>Stiefvater, Maggie</td>\n",
       "      <td>9780545123266</td>\n",
       "      <td>format</td>\n",
       "      <td>392</td>\n",
       "      <td>22197300</td>\n",
       "      <td>5</td>\n",
       "      <td>411613</td>\n",
       "      <td>3.77</td>\n",
       "    </tr>\n",
       "  </tbody>\n",
       "</table>\n",
       "</div>"
      ],
      "text/plain": [
       "              title              author           isbn book_type pages  \\\n",
       "0              None                None           None      None  None   \n",
       "1              None                None           None      None  None   \n",
       "2  The Hunger Games    Collins, Suzanne  9780439023481    format   374   \n",
       "3         Divergent      Roth, Veronica  9780062024039    format   487   \n",
       "4            Shiver  Stiefvater, Maggie  9780545123266    format   392   \n",
       "\n",
       "     userid user_rating num_rate av_rate  \n",
       "0   7171593        None     None    None  \n",
       "1   6060131        None     None    None  \n",
       "2  22197300           5  5936319    4.33  \n",
       "3  22197300           5  2706147     4.2  \n",
       "4  22197300           5   411613    3.77  "
      ]
     },
     "execution_count": 41,
     "metadata": {},
     "output_type": "execute_result"
    }
   ],
   "source": [
    "df.head()"
   ]
  },
  {
   "cell_type": "markdown",
   "metadata": {},
   "source": [
    "## make a quintile ranking for all books based on their average rating"
   ]
  },
  {
   "cell_type": "markdown",
   "metadata": {},
   "source": [
    "so, first we have to remove all duplicate rows where more than one person has rated the same book, because that over-weights the ratings of books that multiple users sampled had rated. Then we toss that into this disgusting histogram and complain about it in results"
   ]
  },
  {
   "cell_type": "code",
   "execution_count": 82,
   "metadata": {},
   "outputs": [
    {
     "data": {
      "text/html": [
       "<div>\n",
       "<style scoped>\n",
       "    .dataframe tbody tr th:only-of-type {\n",
       "        vertical-align: middle;\n",
       "    }\n",
       "\n",
       "    .dataframe tbody tr th {\n",
       "        vertical-align: top;\n",
       "    }\n",
       "\n",
       "    .dataframe thead th {\n",
       "        text-align: right;\n",
       "    }\n",
       "</style>\n",
       "<table border=\"1\" class=\"dataframe\">\n",
       "  <thead>\n",
       "    <tr style=\"text-align: right;\">\n",
       "      <th></th>\n",
       "      <th>title</th>\n",
       "      <th>author</th>\n",
       "      <th>isbn</th>\n",
       "      <th>book_type</th>\n",
       "      <th>pages</th>\n",
       "      <th>userid</th>\n",
       "      <th>user_rating</th>\n",
       "      <th>num_rate</th>\n",
       "      <th>av_rate</th>\n",
       "    </tr>\n",
       "  </thead>\n",
       "  <tbody>\n",
       "    <tr>\n",
       "      <td>2</td>\n",
       "      <td>The Hunger Games</td>\n",
       "      <td>Collins, Suzanne</td>\n",
       "      <td>9780439023481</td>\n",
       "      <td>format</td>\n",
       "      <td>374</td>\n",
       "      <td>22197300</td>\n",
       "      <td>5</td>\n",
       "      <td>5936319</td>\n",
       "      <td>4.33</td>\n",
       "    </tr>\n",
       "    <tr>\n",
       "      <td>3</td>\n",
       "      <td>Divergent</td>\n",
       "      <td>Roth, Veronica</td>\n",
       "      <td>9780062024039</td>\n",
       "      <td>format</td>\n",
       "      <td>487</td>\n",
       "      <td>22197300</td>\n",
       "      <td>5</td>\n",
       "      <td>2706147</td>\n",
       "      <td>4.2</td>\n",
       "    </tr>\n",
       "    <tr>\n",
       "      <td>4</td>\n",
       "      <td>Shiver</td>\n",
       "      <td>Stiefvater, Maggie</td>\n",
       "      <td>9780545123266</td>\n",
       "      <td>format</td>\n",
       "      <td>392</td>\n",
       "      <td>22197300</td>\n",
       "      <td>5</td>\n",
       "      <td>411613</td>\n",
       "      <td>3.77</td>\n",
       "    </tr>\n",
       "    <tr>\n",
       "      <td>5</td>\n",
       "      <td>Good Omens: The Nice and Accurate Prophecies o...</td>\n",
       "      <td>Pratchett, Terry</td>\n",
       "      <td></td>\n",
       "      <td>format</td>\n",
       "      <td>491</td>\n",
       "      <td>22197300</td>\n",
       "      <td>5</td>\n",
       "      <td>476232</td>\n",
       "      <td>4.25</td>\n",
       "    </tr>\n",
       "    <tr>\n",
       "      <td>6</td>\n",
       "      <td>The Host</td>\n",
       "      <td>Meyer, Stephenie</td>\n",
       "      <td>9780316068048</td>\n",
       "      <td>format</td>\n",
       "      <td>620</td>\n",
       "      <td>22197300</td>\n",
       "      <td>5</td>\n",
       "      <td>848921</td>\n",
       "      <td>3.84</td>\n",
       "    </tr>\n",
       "    <tr>\n",
       "      <td>...</td>\n",
       "      <td>...</td>\n",
       "      <td>...</td>\n",
       "      <td>...</td>\n",
       "      <td>...</td>\n",
       "      <td>...</td>\n",
       "      <td>...</td>\n",
       "      <td>...</td>\n",
       "      <td>...</td>\n",
       "      <td>...</td>\n",
       "    </tr>\n",
       "    <tr>\n",
       "      <td>82651</td>\n",
       "      <td>Love Anthony</td>\n",
       "      <td>Genova, Lisa</td>\n",
       "      <td>9781439164686</td>\n",
       "      <td>format</td>\n",
       "      <td>309</td>\n",
       "      <td>51650920</td>\n",
       "      <td>5</td>\n",
       "      <td>31118</td>\n",
       "      <td>3.96</td>\n",
       "    </tr>\n",
       "    <tr>\n",
       "      <td>82658</td>\n",
       "      <td>The Sound of Glass</td>\n",
       "      <td>White, Karen</td>\n",
       "      <td>9780451470898</td>\n",
       "      <td>format</td>\n",
       "      <td>432</td>\n",
       "      <td>51650920</td>\n",
       "      <td>4</td>\n",
       "      <td>16345</td>\n",
       "      <td>4.01</td>\n",
       "    </tr>\n",
       "    <tr>\n",
       "      <td>82693</td>\n",
       "      <td>Sorcery of Thorns</td>\n",
       "      <td>Rogerson, Margaret</td>\n",
       "      <td>9781481497619</td>\n",
       "      <td>format</td>\n",
       "      <td>456</td>\n",
       "      <td>95715431</td>\n",
       "      <td>2</td>\n",
       "      <td>22646</td>\n",
       "      <td>4.16</td>\n",
       "    </tr>\n",
       "    <tr>\n",
       "      <td>82694</td>\n",
       "      <td>The Steward</td>\n",
       "      <td>Shields, Christopher</td>\n",
       "      <td></td>\n",
       "      <td>format</td>\n",
       "      <td>336</td>\n",
       "      <td>95715431</td>\n",
       "      <td>1</td>\n",
       "      <td>543</td>\n",
       "      <td>3.93</td>\n",
       "    </tr>\n",
       "    <tr>\n",
       "      <td>82717</td>\n",
       "      <td>Ayah Menyayangi Tanpa Akhir</td>\n",
       "      <td>Kejora, Kirana</td>\n",
       "      <td>9786027735460</td>\n",
       "      <td>format</td>\n",
       "      <td>372</td>\n",
       "      <td>45343307</td>\n",
       "      <td>4</td>\n",
       "      <td>250</td>\n",
       "      <td>3.84</td>\n",
       "    </tr>\n",
       "  </tbody>\n",
       "</table>\n",
       "<p>21043 rows × 9 columns</p>\n",
       "</div>"
      ],
      "text/plain": [
       "                                                   title  \\\n",
       "2                                       The Hunger Games   \n",
       "3                                              Divergent   \n",
       "4                                                 Shiver   \n",
       "5      Good Omens: The Nice and Accurate Prophecies o...   \n",
       "6                                               The Host   \n",
       "...                                                  ...   \n",
       "82651                                       Love Anthony   \n",
       "82658                                 The Sound of Glass   \n",
       "82693                                  Sorcery of Thorns   \n",
       "82694                                        The Steward   \n",
       "82717                        Ayah Menyayangi Tanpa Akhir   \n",
       "\n",
       "                     author           isbn book_type pages    userid  \\\n",
       "2          Collins, Suzanne  9780439023481    format   374  22197300   \n",
       "3            Roth, Veronica  9780062024039    format   487  22197300   \n",
       "4        Stiefvater, Maggie  9780545123266    format   392  22197300   \n",
       "5          Pratchett, Terry                   format   491  22197300   \n",
       "6          Meyer, Stephenie  9780316068048    format   620  22197300   \n",
       "...                     ...            ...       ...   ...       ...   \n",
       "82651          Genova, Lisa  9781439164686    format   309  51650920   \n",
       "82658          White, Karen  9780451470898    format   432  51650920   \n",
       "82693    Rogerson, Margaret  9781481497619    format   456  95715431   \n",
       "82694  Shields, Christopher                   format   336  95715431   \n",
       "82717        Kejora, Kirana  9786027735460    format   372  45343307   \n",
       "\n",
       "      user_rating num_rate av_rate  \n",
       "2               5  5936319    4.33  \n",
       "3               5  2706147     4.2  \n",
       "4               5   411613    3.77  \n",
       "5               5   476232    4.25  \n",
       "6               5   848921    3.84  \n",
       "...           ...      ...     ...  \n",
       "82651           5    31118    3.96  \n",
       "82658           4    16345    4.01  \n",
       "82693           2    22646    4.16  \n",
       "82694           1      543    3.93  \n",
       "82717           4      250    3.84  \n",
       "\n",
       "[21043 rows x 9 columns]"
      ]
     },
     "execution_count": 82,
     "metadata": {},
     "output_type": "execute_result"
    }
   ],
   "source": [
    "quin[quin['num_rate']> 10]"
   ]
  },
  {
   "cell_type": "code",
   "execution_count": 99,
   "metadata": {},
   "outputs": [
    {
     "data": {
      "text/plain": [
       "0"
      ]
     },
     "execution_count": 99,
     "metadata": {},
     "output_type": "execute_result"
    }
   ],
   "source": [
    "sum(quin['num_rate']< 11)\n"
   ]
  },
  {
   "cell_type": "markdown",
   "metadata": {},
   "source": []
  },
  {
   "cell_type": "code",
   "execution_count": 83,
   "metadata": {},
   "outputs": [
    {
     "data": {
      "text/plain": [
       "4.483565826498234"
      ]
     },
     "execution_count": 83,
     "metadata": {},
     "output_type": "execute_result"
    }
   ],
   "source": [
    "quin = dfwr.drop_duplicates(subset='title', keep='first', inplace=False)\n",
    "nums = quin['av_rate']\n",
    "test = nums.quantile([.94])\n",
    "np.mean(av_rate)\n",
    "np.mean(av_user_rating)"
   ]
  },
  {
   "cell_type": "code",
   "execution_count": 84,
   "metadata": {},
   "outputs": [
    {
     "data": {
      "text/plain": [
       "(4.91, 4.25, 4.1, 3.96, 3.8, 3.24)"
      ]
     },
     "execution_count": 84,
     "metadata": {},
     "output_type": "execute_result"
    }
   ],
   "source": [
    "#getting the 20 percent quintiles of book ratings\n",
    "x = 1\n",
    "quants = []\n",
    "while x > 0:\n",
    "    quants.append(nums.quantile(x))\n",
    "    x-=.01\n",
    "quants[0] ,quants[20], quants[40], quants[60], quants[80], quants[99]\n"
   ]
  },
  {
   "cell_type": "code",
   "execution_count": 39,
   "metadata": {},
   "outputs": [
    {
     "data": {
      "image/png": "[encoded data removed]",
      "text/plain": [
       "<Figure size 1152x288 with 2 Axes>"
      ]
     },
     "metadata": {
      "needs_background": "light"
     },
     "output_type": "display_data"
    }
   ],
   "source": [
    "av_rate = quin['av_rate']\n",
    "av_user_rating = dfwr['user_rating']\n",
    "\n",
    "# graph the sample and the hypothesis(a uniform distribution of the same size as the sample)\n",
    "#null_hyp = stats.norm.rvs(loc=4, scale=np.std(sample), size=len(sample), random_state=None)\n",
    "fig, ax = plt.subplots(1, 2, figsize = (16,4))\n",
    "\n",
    "#ax = plt.hist(null_hyp, color = 'g', bins = 20, alpha = .7, label = 'null hypothesis')\n",
    "ax[0].hist(av_rate, color = 'c', bins = 20, alpha = .7, label ='sample')\n",
    "\n",
    "ax[0].set_title('average ratings of sampled books')\n",
    "ax[0].set_ylabel('number of ratings')\n",
    "ax[0].set_xlabel('rating score ')\n",
    "ax[0].axvline(np.mean(av_rate))\n",
    "\n",
    "ax[0].legend(loc='upper left', frameon = False)\n",
    "\n",
    "ax[1].hist(av_user_rating, color = 'c', bins = 20, alpha = .7, label ='sample')\n",
    "\n",
    "ax[1].set_title('ratings given to books')\n",
    "ax[1].set_ylabel('number of ratings')\n",
    "ax[1].set_xlabel('rating score ')\n",
    "ax[1].axvline(np.mean(av_user_rating), label = \"mean rating\")\n",
    "\n",
    "ax[1].legend(loc='upper left', frameon = False)\n",
    "\n",
    "\n",
    "#fig.xlabel('number of ratings')\n",
    "plt.show()\n",
    "#fig.xlabel('number of ratings')\n",
    "\n",
    "\n",
    "# fig.savefig('img/simpsons_paradox', bbox_inches = 'tight', transparent = True)"
   ]
  },
  {
   "cell_type": "code",
   "execution_count": 165,
   "metadata": {},
   "outputs": [
    {
     "data": {
      "image/png": "[encoded data removed]",
      "text/plain": [
       "<Figure size 288x288 with 2 Axes>"
      ]
     },
     "metadata": {
      "needs_background": "light"
     },
     "output_type": "display_data"
    }
   ],
   "source": [
    "# histogram ofratings laid over the goodreads logo for presentation\n",
    "\n",
    "img = plt.imread(\"img/bigG.png\")\n",
    "\n",
    "fig=plt.figure(figsize = (4,4))\n",
    "ax=fig.add_subplot(111, label=\"1\", frame_on = False)\n",
    "ax.imshow(img)\n",
    "ax2=fig.add_subplot(111, label=\"2\", frame_on=False)\n",
    "ax2.hist(av_user_rating, color = 'c', bins = 5, alpha = .5, rwidth = .6)\n",
    "ax.set_xticks([])\n",
    "ax.set_yticks([])\n",
    "ax2.set_xticks([1,2,3,4,5])\n",
    "plt.axis('off')\n",
    "plt.grid(b=None)\n",
    "\n",
    "\n",
    "plt.show()\n",
    "# fig.savefig('img/bigG_overlay', bbox_inches = 'tight', transparent = True)"
   ]
  },
  {
   "cell_type": "code",
   "execution_count": 151,
   "metadata": {},
   "outputs": [
    {
     "data": {
      "image/png": "[encoded data removed]",
      "text/plain": [
       "<Figure size 432x288 with 1 Axes>"
      ]
     },
     "metadata": {
      "needs_background": "light"
     },
     "output_type": "display_data"
    }
   ],
   "source": [
    "# histogram of average ratings with quintiles\n",
    "\n",
    "av_book_rate = quin['av_rate']\n",
    "# graph the sample and the hypothesis(a uniform distribution of the same size as the sample)\n",
    "#null_hyp = stats.norm.rvs(loc=4, scale=np.std(sample), size=len(sample), random_state=None)\n",
    "fig, ax = plt.subplots()\n",
    "\n",
    "#ax = plt.hist(null_hyp, color = 'g', bins = 20, alpha = .7, label = 'null hypothesis')\n",
    "ax.hist(av_book_rate, color = 'c', bins = 30, alpha = .7, label ='sample')\n",
    "\n",
    "ax.set_title('aggregated ratings given to books \\n with more than ten ratings')\n",
    "ax.set_ylabel('number of books with ratings')\n",
    "ax.set_xlabel('book ratings')\n",
    "ax.axvline(quants[0], linewidth = 1.5, c = 'orange', label = '20 percent brackets')\n",
    "\n",
    "ax.axvline(quants[20], linewidth = 1.5, c = 'orange')\n",
    "ax.axvline(quants[40], linewidth = 1.5, c = 'orange')\n",
    "ax.axvline(quants[60], linewidth = 1.5, c = 'orange')\n",
    "ax.axvline(quants[80], linewidth = 1.5, c = 'orange')\n",
    "ax.axvline(0, linewidth = 1.5, c = 'orange')\n",
    "\n",
    "# ax.axvline(quants[40])\n",
    "# ax.axvline(quants[60])\n",
    "# ax.axvline(quants[80])\n",
    "# ax.axvline(quants[99])\n",
    "\n",
    "\n",
    "\n",
    "\n",
    "ax.legend(loc='upper left', frameon = False)\n",
    "#fig.xlabel('number of ratings')\n",
    "plt.show()\n",
    "\n",
    "# fig.savefig('img/quantiles', dpi = 300, bbox_inches = 'tight', transparent = True)"
   ]
  },
  {
   "cell_type": "markdown",
   "metadata": {},
   "source": [
    "Simpson's paradox\n",
    "\n"
   ]
  },
  {
   "cell_type": "code",
   "execution_count": 18,
   "metadata": {},
   "outputs": [
    {
     "data": {
      "text/html": [
       "<div>\n",
       "<style scoped>\n",
       "    .dataframe tbody tr th:only-of-type {\n",
       "        vertical-align: middle;\n",
       "    }\n",
       "\n",
       "    .dataframe tbody tr th {\n",
       "        vertical-align: top;\n",
       "    }\n",
       "\n",
       "    .dataframe thead th {\n",
       "        text-align: right;\n",
       "    }\n",
       "</style>\n",
       "<table border=\"1\" class=\"dataframe\">\n",
       "  <thead>\n",
       "    <tr style=\"text-align: right;\">\n",
       "      <th></th>\n",
       "      <th>title</th>\n",
       "      <th>author</th>\n",
       "      <th>isbn</th>\n",
       "      <th>book_type</th>\n",
       "      <th>pages</th>\n",
       "      <th>userid</th>\n",
       "      <th>user_rating</th>\n",
       "      <th>num_rate</th>\n",
       "      <th>av_rate</th>\n",
       "    </tr>\n",
       "  </thead>\n",
       "  <tbody>\n",
       "    <tr>\n",
       "      <td>2</td>\n",
       "      <td>The Hunger Games</td>\n",
       "      <td>Collins, Suzanne</td>\n",
       "      <td>9780439023481</td>\n",
       "      <td>format</td>\n",
       "      <td>374</td>\n",
       "      <td>22197300</td>\n",
       "      <td>5</td>\n",
       "      <td>5936319</td>\n",
       "      <td>4.33</td>\n",
       "    </tr>\n",
       "    <tr>\n",
       "      <td>3</td>\n",
       "      <td>Divergent</td>\n",
       "      <td>Roth, Veronica</td>\n",
       "      <td>9780062024039</td>\n",
       "      <td>format</td>\n",
       "      <td>487</td>\n",
       "      <td>22197300</td>\n",
       "      <td>5</td>\n",
       "      <td>2706147</td>\n",
       "      <td>4.2</td>\n",
       "    </tr>\n",
       "    <tr>\n",
       "      <td>4</td>\n",
       "      <td>Shiver</td>\n",
       "      <td>Stiefvater, Maggie</td>\n",
       "      <td>9780545123266</td>\n",
       "      <td>format</td>\n",
       "      <td>392</td>\n",
       "      <td>22197300</td>\n",
       "      <td>5</td>\n",
       "      <td>411613</td>\n",
       "      <td>3.77</td>\n",
       "    </tr>\n",
       "    <tr>\n",
       "      <td>5</td>\n",
       "      <td>Good Omens: The Nice and Accurate Prophecies o...</td>\n",
       "      <td>Pratchett, Terry</td>\n",
       "      <td></td>\n",
       "      <td>format</td>\n",
       "      <td>491</td>\n",
       "      <td>22197300</td>\n",
       "      <td>5</td>\n",
       "      <td>476232</td>\n",
       "      <td>4.25</td>\n",
       "    </tr>\n",
       "    <tr>\n",
       "      <td>6</td>\n",
       "      <td>The Host</td>\n",
       "      <td>Meyer, Stephenie</td>\n",
       "      <td>9780316068048</td>\n",
       "      <td>format</td>\n",
       "      <td>620</td>\n",
       "      <td>22197300</td>\n",
       "      <td>5</td>\n",
       "      <td>848921</td>\n",
       "      <td>3.84</td>\n",
       "    </tr>\n",
       "  </tbody>\n",
       "</table>\n",
       "</div>"
      ],
      "text/plain": [
       "                                               title              author  \\\n",
       "2                                   The Hunger Games    Collins, Suzanne   \n",
       "3                                          Divergent      Roth, Veronica   \n",
       "4                                             Shiver  Stiefvater, Maggie   \n",
       "5  Good Omens: The Nice and Accurate Prophecies o...    Pratchett, Terry   \n",
       "6                                           The Host    Meyer, Stephenie   \n",
       "\n",
       "            isbn book_type pages    userid user_rating num_rate av_rate  \n",
       "2  9780439023481    format   374  22197300           5  5936319    4.33  \n",
       "3  9780062024039    format   487  22197300           5  2706147     4.2  \n",
       "4  9780545123266    format   392  22197300           5   411613    3.77  \n",
       "5                   format   491  22197300           5   476232    4.25  \n",
       "6  9780316068048    format   620  22197300           5   848921    3.84  "
      ]
     },
     "execution_count": 18,
     "metadata": {},
     "output_type": "execute_result"
    }
   ],
   "source": [
    "quin.head()"
   ]
  },
  {
   "cell_type": "code",
   "execution_count": 13,
   "metadata": {},
   "outputs": [],
   "source": [
    "#dir(test)"
   ]
  },
  {
   "cell_type": "code",
   "execution_count": 6,
   "metadata": {},
   "outputs": [
    {
     "data": {
      "text/plain": [
       "2"
      ]
     },
     "execution_count": 6,
     "metadata": {},
     "output_type": "execute_result"
    }
   ],
   "source": [
    "x = 2\n",
    "x - 1\n",
    "\n",
    "x"
   ]
  },
  {
   "cell_type": "code",
   "execution_count": 48,
   "metadata": {},
   "outputs": [
    {
     "data": {
      "text/plain": [
       "0.0040090639394472"
      ]
     },
     "execution_count": 48,
     "metadata": {},
     "output_type": "execute_result"
    }
   ],
   "source": [
    "low = 1.96*(np.std(quin['av_rate'])/np.sqrt(len(quin['av_rate'])-1))\n",
    "low"
   ]
  },
  {
   "cell_type": "code",
   "execution_count": 16,
   "metadata": {},
   "outputs": [
    {
     "name": "stderr",
     "output_type": "stream",
     "text": [
      "/home/robert/anaconda3/lib/python3.7/site-packages/ipykernel_launcher.py:1: UserWarning: Boolean Series key will be reindexed to match DataFrame index.\n",
      "  \"\"\"Entry point for launching an IPython kernel.\n"
     ]
    },
    {
     "data": {
      "text/html": [
       "<div>\n",
       "<style scoped>\n",
       "    .dataframe tbody tr th:only-of-type {\n",
       "        vertical-align: middle;\n",
       "    }\n",
       "\n",
       "    .dataframe tbody tr th {\n",
       "        vertical-align: top;\n",
       "    }\n",
       "\n",
       "    .dataframe thead th {\n",
       "        text-align: right;\n",
       "    }\n",
       "</style>\n",
       "<table border=\"1\" class=\"dataframe\">\n",
       "  <thead>\n",
       "    <tr style=\"text-align: right;\">\n",
       "      <th></th>\n",
       "      <th>title</th>\n",
       "      <th>author</th>\n",
       "      <th>isbn</th>\n",
       "      <th>book_type</th>\n",
       "      <th>pages</th>\n",
       "      <th>userid</th>\n",
       "      <th>user_rating</th>\n",
       "      <th>num_rate</th>\n",
       "      <th>av_rate</th>\n",
       "    </tr>\n",
       "  </thead>\n",
       "  <tbody>\n",
       "    <tr>\n",
       "      <td>186</td>\n",
       "      <td>Revolution 2020: Love, Corruption, Ambition</td>\n",
       "      <td>Bhagat, Chetan</td>\n",
       "      <td>9788129118806</td>\n",
       "      <td>format</td>\n",
       "      <td>296</td>\n",
       "      <td>50941109</td>\n",
       "      <td>4</td>\n",
       "      <td>52277</td>\n",
       "      <td>3.09</td>\n",
       "    </tr>\n",
       "    <tr>\n",
       "      <td>188</td>\n",
       "      <td>One Night at the Call Center</td>\n",
       "      <td>Bhagat, Chetan</td>\n",
       "      <td>9780345498328</td>\n",
       "      <td>format</td>\n",
       "      <td>320</td>\n",
       "      <td>50941109</td>\n",
       "      <td>4</td>\n",
       "      <td>51389</td>\n",
       "      <td>2.5</td>\n",
       "    </tr>\n",
       "    <tr>\n",
       "      <td>604</td>\n",
       "      <td>Four Blondes</td>\n",
       "      <td>Bushnell, Candace</td>\n",
       "      <td>9780802138255</td>\n",
       "      <td>format</td>\n",
       "      <td>256</td>\n",
       "      <td>9968410</td>\n",
       "      <td>5</td>\n",
       "      <td>24443</td>\n",
       "      <td>2.82</td>\n",
       "    </tr>\n",
       "    <tr>\n",
       "      <td>1793</td>\n",
       "      <td>The Rose Labyrinth</td>\n",
       "      <td>Hardie, Titania</td>\n",
       "      <td>9780755344567</td>\n",
       "      <td>format</td>\n",
       "      <td>400</td>\n",
       "      <td>8991146</td>\n",
       "      <td>5</td>\n",
       "      <td>3002</td>\n",
       "      <td>2.92</td>\n",
       "    </tr>\n",
       "    <tr>\n",
       "      <td>2564</td>\n",
       "      <td>Welcome to Scranton</td>\n",
       "      <td>Halpin, Greg</td>\n",
       "      <td></td>\n",
       "      <td>format</td>\n",
       "      <td>152</td>\n",
       "      <td>41384409</td>\n",
       "      <td>3</td>\n",
       "      <td>148</td>\n",
       "      <td>2.88</td>\n",
       "    </tr>\n",
       "    <tr>\n",
       "      <td>...</td>\n",
       "      <td>...</td>\n",
       "      <td>...</td>\n",
       "      <td>...</td>\n",
       "      <td>...</td>\n",
       "      <td>...</td>\n",
       "      <td>...</td>\n",
       "      <td>...</td>\n",
       "      <td>...</td>\n",
       "      <td>...</td>\n",
       "    </tr>\n",
       "    <tr>\n",
       "      <td>76575</td>\n",
       "      <td>Mörkrädd</td>\n",
       "      <td>Roman, Andreas</td>\n",
       "      <td></td>\n",
       "      <td>format</td>\n",
       "      <td>256</td>\n",
       "      <td>24706560</td>\n",
       "      <td>3</td>\n",
       "      <td>189</td>\n",
       "      <td>2.96</td>\n",
       "    </tr>\n",
       "    <tr>\n",
       "      <td>77991</td>\n",
       "      <td>Irresistible: Libro 1</td>\n",
       "      <td>Hill, Robyn</td>\n",
       "      <td></td>\n",
       "      <td>format</td>\n",
       "      <td>294</td>\n",
       "      <td>50397312</td>\n",
       "      <td>3</td>\n",
       "      <td>212</td>\n",
       "      <td>3.08</td>\n",
       "    </tr>\n",
       "    <tr>\n",
       "      <td>79013</td>\n",
       "      <td>Mara</td>\n",
       "      <td>Slavici, Ioan</td>\n",
       "      <td>9789735570897</td>\n",
       "      <td>format</td>\n",
       "      <td>242</td>\n",
       "      <td>84155016</td>\n",
       "      <td>2</td>\n",
       "      <td>4459</td>\n",
       "      <td>3.06</td>\n",
       "    </tr>\n",
       "    <tr>\n",
       "      <td>79181</td>\n",
       "      <td>خمسة خصوصي</td>\n",
       "      <td>حسن, علي</td>\n",
       "      <td>9789776471214</td>\n",
       "      <td>format</td>\n",
       "      <td>160</td>\n",
       "      <td>64474380</td>\n",
       "      <td>1</td>\n",
       "      <td>108</td>\n",
       "      <td>2.22</td>\n",
       "    </tr>\n",
       "    <tr>\n",
       "      <td>79540</td>\n",
       "      <td>Enigma of Terror</td>\n",
       "      <td>Deakin, Stephen</td>\n",
       "      <td></td>\n",
       "      <td>format</td>\n",
       "      <td>107</td>\n",
       "      <td>40985959</td>\n",
       "      <td>5</td>\n",
       "      <td>4</td>\n",
       "      <td>3</td>\n",
       "    </tr>\n",
       "  </tbody>\n",
       "</table>\n",
       "<p>121 rows × 9 columns</p>\n",
       "</div>"
      ],
      "text/plain": [
       "                                             title             author  \\\n",
       "186    Revolution 2020: Love, Corruption, Ambition     Bhagat, Chetan   \n",
       "188                   One Night at the Call Center     Bhagat, Chetan   \n",
       "604                                   Four Blondes  Bushnell, Candace   \n",
       "1793                            The Rose Labyrinth    Hardie, Titania   \n",
       "2564                           Welcome to Scranton       Halpin, Greg   \n",
       "...                                            ...                ...   \n",
       "76575                                     Mörkrädd     Roman, Andreas   \n",
       "77991                        Irresistible: Libro 1        Hill, Robyn   \n",
       "79013                                         Mara      Slavici, Ioan   \n",
       "79181                                   خمسة خصوصي           حسن, علي   \n",
       "79540                             Enigma of Terror    Deakin, Stephen   \n",
       "\n",
       "                isbn book_type pages    userid user_rating num_rate av_rate  \n",
       "186    9788129118806    format   296  50941109           4    52277    3.09  \n",
       "188    9780345498328    format   320  50941109           4    51389     2.5  \n",
       "604    9780802138255    format   256   9968410           5    24443    2.82  \n",
       "1793   9780755344567    format   400   8991146           5     3002    2.92  \n",
       "2564                    format   152  41384409           3      148    2.88  \n",
       "...              ...       ...   ...       ...         ...      ...     ...  \n",
       "76575                   format   256  24706560           3      189    2.96  \n",
       "77991                   format   294  50397312           3      212    3.08  \n",
       "79013  9789735570897    format   242  84155016           2     4459    3.06  \n",
       "79181  9789776471214    format   160  64474380           1      108    2.22  \n",
       "79540                   format   107  40985959           5        4       3  \n",
       "\n",
       "[121 rows x 9 columns]"
      ]
     },
     "execution_count": 16,
     "metadata": {},
     "output_type": "execute_result"
    }
   ],
   "source": [
    "quin[(quin['av_rate'] < 3.1) & (dfwr['num_rate'] > 1) ]\n"
   ]
  },
  {
   "cell_type": "code",
   "execution_count": 52,
   "metadata": {},
   "outputs": [],
   "source": []
  },
  {
   "cell_type": "code",
   "execution_count": 28,
   "metadata": {},
   "outputs": [
    {
     "ename": "AttributeError",
     "evalue": "'Series' object has no attribute 'info'",
     "output_type": "error",
     "traceback": [
      "\u001b[0;31m---------------------------------------------------------------------------\u001b[0m",
      "\u001b[0;31mAttributeError\u001b[0m                            Traceback (most recent call last)",
      "\u001b[0;32m<ipython-input-28-de188db16e5b>\u001b[0m in \u001b[0;36m<module>\u001b[0;34m\u001b[0m\n\u001b[0;32m----> 1\u001b[0;31m \u001b[0mbad_books\u001b[0m\u001b[0;34m.\u001b[0m\u001b[0minfo\u001b[0m\u001b[0;34m(\u001b[0m\u001b[0;34m)\u001b[0m\u001b[0;34m\u001b[0m\u001b[0;34m\u001b[0m\u001b[0m\n\u001b[0m",
      "\u001b[0;32m~/anaconda3/lib/python3.7/site-packages/pandas/core/generic.py\u001b[0m in \u001b[0;36m__getattr__\u001b[0;34m(self, name)\u001b[0m\n\u001b[1;32m   5177\u001b[0m             \u001b[0;32mif\u001b[0m \u001b[0mself\u001b[0m\u001b[0;34m.\u001b[0m\u001b[0m_info_axis\u001b[0m\u001b[0;34m.\u001b[0m\u001b[0m_can_hold_identifiers_and_holds_name\u001b[0m\u001b[0;34m(\u001b[0m\u001b[0mname\u001b[0m\u001b[0;34m)\u001b[0m\u001b[0;34m:\u001b[0m\u001b[0;34m\u001b[0m\u001b[0;34m\u001b[0m\u001b[0m\n\u001b[1;32m   5178\u001b[0m                 \u001b[0;32mreturn\u001b[0m \u001b[0mself\u001b[0m\u001b[0;34m[\u001b[0m\u001b[0mname\u001b[0m\u001b[0;34m]\u001b[0m\u001b[0;34m\u001b[0m\u001b[0;34m\u001b[0m\u001b[0m\n\u001b[0;32m-> 5179\u001b[0;31m             \u001b[0;32mreturn\u001b[0m \u001b[0mobject\u001b[0m\u001b[0;34m.\u001b[0m\u001b[0m__getattribute__\u001b[0m\u001b[0;34m(\u001b[0m\u001b[0mself\u001b[0m\u001b[0;34m,\u001b[0m \u001b[0mname\u001b[0m\u001b[0;34m)\u001b[0m\u001b[0;34m\u001b[0m\u001b[0;34m\u001b[0m\u001b[0m\n\u001b[0m\u001b[1;32m   5180\u001b[0m \u001b[0;34m\u001b[0m\u001b[0m\n\u001b[1;32m   5181\u001b[0m     \u001b[0;32mdef\u001b[0m \u001b[0m__setattr__\u001b[0m\u001b[0;34m(\u001b[0m\u001b[0mself\u001b[0m\u001b[0;34m,\u001b[0m \u001b[0mname\u001b[0m\u001b[0;34m,\u001b[0m \u001b[0mvalue\u001b[0m\u001b[0;34m)\u001b[0m\u001b[0;34m:\u001b[0m\u001b[0;34m\u001b[0m\u001b[0;34m\u001b[0m\u001b[0m\n",
      "\u001b[0;31mAttributeError\u001b[0m: 'Series' object has no attribute 'info'"
     ]
    }
   ],
   "source": []
  },
  {
   "cell_type": "code",
   "execution_count": 55,
   "metadata": {},
   "outputs": [
    {
     "data": {
      "text/plain": [
       "(5.0, 4.25, 4.1, 3.96, 3.79, 3.1900000000000004)"
      ]
     },
     "execution_count": 55,
     "metadata": {},
     "output_type": "execute_result"
    }
   ],
   "source": [
    "quants[0] ,quants[20], quants[40], quants[60], quants[80], quants[99]"
   ]
  },
  {
   "cell_type": "code",
   "execution_count": 133,
   "metadata": {},
   "outputs": [
    {
     "ename": "NameError",
     "evalue": "name 'bad_books' is not defined",
     "output_type": "error",
     "traceback": [
      "\u001b[0;31m--------------------------------------------------------------------------\u001b[0m",
      "\u001b[0;31mNameError\u001b[0m                                Traceback (most recent call last)",
      "\u001b[0;32m<ipython-input-133-9f318635c736>\u001b[0m in \u001b[0;36m<module>\u001b[0;34m\u001b[0m\n\u001b[0;32m----> 1\u001b[0;31m \u001b[0;32mfor\u001b[0m \u001b[0mnames\u001b[0m \u001b[0;32min\u001b[0m \u001b[0mbad_books\u001b[0m\u001b[0;34m:\u001b[0m\u001b[0;34m\u001b[0m\u001b[0;34m\u001b[0m\u001b[0m\n\u001b[0m\u001b[1;32m      2\u001b[0m     \u001b[0mprint\u001b[0m\u001b[0;34m(\u001b[0m\u001b[0mnames\u001b[0m\u001b[0;34m)\u001b[0m\u001b[0;34m\u001b[0m\u001b[0;34m\u001b[0m\u001b[0m\n",
      "\u001b[0;31mNameError\u001b[0m: name 'bad_books' is not defined"
     ]
    }
   ],
   "source": [
    "for names in bad_books:\n",
    "    print(names)"
   ]
  },
  {
   "cell_type": "code",
   "execution_count": null,
   "metadata": {},
   "outputs": [],
   "source": []
  }
 ],
 "metadata": {
  "kernelspec": {
   "display_name": "Python 3",
   "language": "python",
   "name": "python3"
  },
  "language_info": {
   "codemirror_mode": {
    "name": "ipython",
    "version": 3
   },
   "file_extension": ".py",
   "mimetype": "text/x-python",
   "name": "python",
   "nbconvert_exporter": "python",
   "pygments_lexer": "ipython3",
   "version": "3.7.4"
  }
 },
 "nbformat": 4,
 "nbformat_minor": 2
}
