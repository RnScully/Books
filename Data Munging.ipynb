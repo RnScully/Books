{
 "cells": [
  {
   "cell_type": "code",
   "execution_count": 1,
   "metadata": {},
   "outputs": [],
   "source": [
    "import numpy as np\n",
    "import pandas as pd\n",
    "import matplotlib.pyplot as plt\n",
    "import scipy.stats as stats\n",
    "%matplotlib inline\n",
    "plt.style.use('fivethirtyeight')"
   ]
  },
  {
   "cell_type": "markdown",
   "metadata": {},
   "source": [
    "## Run this at the end for survey data"
   ]
  },
  {
   "cell_type": "code",
   "execution_count": 40,
   "metadata": {},
   "outputs": [
    {
     "ename": "TypeError",
     "evalue": "object of type 'numpy.int64' has no len()",
     "output_type": "error",
     "traceback": [
      "\u001b[0;31m---------------------------------------------------------------------------\u001b[0m",
      "\u001b[0;31mTypeError\u001b[0m                                 Traceback (most recent call last)",
      "\u001b[0;32m<ipython-input-40-f1a44f06afe8>\u001b[0m in \u001b[0;36m<module>\u001b[0;34m\u001b[0m\n\u001b[0;32m----> 1\u001b[0;31m \u001b[0munique_titles\u001b[0m \u001b[0;34m=\u001b[0m \u001b[0mlen\u001b[0m\u001b[0;34m(\u001b[0m\u001b[0mnodups\u001b[0m\u001b[0;34m)\u001b[0m\u001b[0;34m\u001b[0m\u001b[0;34m\u001b[0m\u001b[0m\n\u001b[0m\u001b[1;32m      2\u001b[0m \u001b[0mtotal_ratings\u001b[0m \u001b[0;34m=\u001b[0m \u001b[0mlen\u001b[0m\u001b[0;34m(\u001b[0m\u001b[0mdfwr\u001b[0m\u001b[0;34m[\u001b[0m\u001b[0;34m'user_rating'\u001b[0m\u001b[0;34m]\u001b[0m\u001b[0;34m)\u001b[0m\u001b[0;34m\u001b[0m\u001b[0;34m\u001b[0m\u001b[0m\n\u001b[1;32m      3\u001b[0m \u001b[0mtotal_users\u001b[0m \u001b[0;34m=\u001b[0m \u001b[0mdf\u001b[0m\u001b[0;34m.\u001b[0m\u001b[0mdrop_duplicates\u001b[0m\u001b[0;34m(\u001b[0m\u001b[0msubset\u001b[0m\u001b[0;34m=\u001b[0m\u001b[0;34m'userid'\u001b[0m\u001b[0;34m,\u001b[0m \u001b[0mkeep\u001b[0m\u001b[0;34m=\u001b[0m\u001b[0;34m'first'\u001b[0m\u001b[0;34m,\u001b[0m \u001b[0minplace\u001b[0m\u001b[0;34m=\u001b[0m\u001b[0;32mFalse\u001b[0m\u001b[0;34m)\u001b[0m\u001b[0;34m[\u001b[0m\u001b[0;34m'userid'\u001b[0m\u001b[0;34m]\u001b[0m\u001b[0;34m.\u001b[0m\u001b[0mcount\u001b[0m\u001b[0;34m(\u001b[0m\u001b[0;34m)\u001b[0m\u001b[0;34m\u001b[0m\u001b[0;34m\u001b[0m\u001b[0m\n\u001b[1;32m      4\u001b[0m \u001b[0;34m\u001b[0m\u001b[0m\n\u001b[1;32m      5\u001b[0m \u001b[0;31m#users_without_ratings =\u001b[0m\u001b[0;34m\u001b[0m\u001b[0;34m\u001b[0m\u001b[0;34m\u001b[0m\u001b[0m\n",
      "\u001b[0;31mTypeError\u001b[0m: object of type 'numpy.int64' has no len()"
     ]
    }
   ],
   "source": [
    "unique_titles = len(nodups)\n",
    "total_ratings = len(dfwr['user_rating'])\n",
    "total_users = df.drop_duplicates(subset='userid', keep='first', inplace=False)['userid'].count()\n",
    "\n",
    "#users_without_ratings = \n",
    "df.head()"
   ]
  },
  {
   "cell_type": "code",
   "execution_count": 4,
   "metadata": {},
   "outputs": [
    {
     "ename": "KeyError",
     "evalue": "False",
     "output_type": "error",
     "traceback": [
      "\u001b[0;31m---------------------------------------------------------------------------\u001b[0m",
      "\u001b[0;31mKeyError\u001b[0m                                  Traceback (most recent call last)",
      "\u001b[0;32m~/anaconda3/lib/python3.7/site-packages/pandas/core/indexes/base.py\u001b[0m in \u001b[0;36mget_loc\u001b[0;34m(self, key, method, tolerance)\u001b[0m\n\u001b[1;32m   2896\u001b[0m             \u001b[0;32mtry\u001b[0m\u001b[0;34m:\u001b[0m\u001b[0;34m\u001b[0m\u001b[0;34m\u001b[0m\u001b[0m\n\u001b[0;32m-> 2897\u001b[0;31m                 \u001b[0;32mreturn\u001b[0m \u001b[0mself\u001b[0m\u001b[0;34m.\u001b[0m\u001b[0m_engine\u001b[0m\u001b[0;34m.\u001b[0m\u001b[0mget_loc\u001b[0m\u001b[0;34m(\u001b[0m\u001b[0mkey\u001b[0m\u001b[0;34m)\u001b[0m\u001b[0;34m\u001b[0m\u001b[0;34m\u001b[0m\u001b[0m\n\u001b[0m\u001b[1;32m   2898\u001b[0m             \u001b[0;32mexcept\u001b[0m \u001b[0mKeyError\u001b[0m\u001b[0;34m:\u001b[0m\u001b[0;34m\u001b[0m\u001b[0;34m\u001b[0m\u001b[0m\n",
      "\u001b[0;32mpandas/_libs/index.pyx\u001b[0m in \u001b[0;36mpandas._libs.index.IndexEngine.get_loc\u001b[0;34m()\u001b[0m\n",
      "\u001b[0;32mpandas/_libs/index.pyx\u001b[0m in \u001b[0;36mpandas._libs.index.IndexEngine.get_loc\u001b[0;34m()\u001b[0m\n",
      "\u001b[0;32mpandas/_libs/hashtable_class_helper.pxi\u001b[0m in \u001b[0;36mpandas._libs.hashtable.PyObjectHashTable.get_item\u001b[0;34m()\u001b[0m\n",
      "\u001b[0;32mpandas/_libs/hashtable_class_helper.pxi\u001b[0m in \u001b[0;36mpandas._libs.hashtable.PyObjectHashTable.get_item\u001b[0;34m()\u001b[0m\n",
      "\u001b[0;31mKeyError\u001b[0m: False",
      "\nDuring handling of the above exception, another exception occurred:\n",
      "\u001b[0;31mKeyError\u001b[0m                                  Traceback (most recent call last)",
      "\u001b[0;32m<ipython-input-4-05deb8534d00>\u001b[0m in \u001b[0;36m<module>\u001b[0;34m\u001b[0m\n\u001b[1;32m      1\u001b[0m \u001b[0musers\u001b[0m \u001b[0;34m=\u001b[0m \u001b[0mdf\u001b[0m\u001b[0;34m.\u001b[0m\u001b[0mdrop_duplicates\u001b[0m\u001b[0;34m(\u001b[0m\u001b[0msubset\u001b[0m\u001b[0;34m=\u001b[0m\u001b[0;34m'userid'\u001b[0m\u001b[0;34m,\u001b[0m \u001b[0mkeep\u001b[0m\u001b[0;34m=\u001b[0m\u001b[0;34m'first'\u001b[0m\u001b[0;34m,\u001b[0m \u001b[0minplace\u001b[0m\u001b[0;34m=\u001b[0m\u001b[0;32mFalse\u001b[0m\u001b[0;34m)\u001b[0m\u001b[0;34m\u001b[0m\u001b[0;34m\u001b[0m\u001b[0m\n\u001b[0;32m----> 2\u001b[0;31m \u001b[0mmask\u001b[0m \u001b[0;34m=\u001b[0m \u001b[0musers\u001b[0m\u001b[0;34m[\u001b[0m\u001b[0;34m'userid'\u001b[0m\u001b[0;34m==\u001b[0m\u001b[0;34m'None'\u001b[0m\u001b[0;34m]\u001b[0m\u001b[0;34m\u001b[0m\u001b[0;34m\u001b[0m\u001b[0m\n\u001b[0m\u001b[1;32m      3\u001b[0m \u001b[0musers\u001b[0m\u001b[0;34m[\u001b[0m\u001b[0mmask\u001b[0m\u001b[0;34m]\u001b[0m\u001b[0;34m\u001b[0m\u001b[0;34m\u001b[0m\u001b[0m\n",
      "\u001b[0;32m~/anaconda3/lib/python3.7/site-packages/pandas/core/frame.py\u001b[0m in \u001b[0;36m__getitem__\u001b[0;34m(self, key)\u001b[0m\n\u001b[1;32m   2978\u001b[0m             \u001b[0;32mif\u001b[0m \u001b[0mself\u001b[0m\u001b[0;34m.\u001b[0m\u001b[0mcolumns\u001b[0m\u001b[0;34m.\u001b[0m\u001b[0mnlevels\u001b[0m \u001b[0;34m>\u001b[0m \u001b[0;36m1\u001b[0m\u001b[0;34m:\u001b[0m\u001b[0;34m\u001b[0m\u001b[0;34m\u001b[0m\u001b[0m\n\u001b[1;32m   2979\u001b[0m                 \u001b[0;32mreturn\u001b[0m \u001b[0mself\u001b[0m\u001b[0;34m.\u001b[0m\u001b[0m_getitem_multilevel\u001b[0m\u001b[0;34m(\u001b[0m\u001b[0mkey\u001b[0m\u001b[0;34m)\u001b[0m\u001b[0;34m\u001b[0m\u001b[0;34m\u001b[0m\u001b[0m\n\u001b[0;32m-> 2980\u001b[0;31m             \u001b[0mindexer\u001b[0m \u001b[0;34m=\u001b[0m \u001b[0mself\u001b[0m\u001b[0;34m.\u001b[0m\u001b[0mcolumns\u001b[0m\u001b[0;34m.\u001b[0m\u001b[0mget_loc\u001b[0m\u001b[0;34m(\u001b[0m\u001b[0mkey\u001b[0m\u001b[0;34m)\u001b[0m\u001b[0;34m\u001b[0m\u001b[0;34m\u001b[0m\u001b[0m\n\u001b[0m\u001b[1;32m   2981\u001b[0m             \u001b[0;32mif\u001b[0m \u001b[0mis_integer\u001b[0m\u001b[0;34m(\u001b[0m\u001b[0mindexer\u001b[0m\u001b[0;34m)\u001b[0m\u001b[0;34m:\u001b[0m\u001b[0;34m\u001b[0m\u001b[0;34m\u001b[0m\u001b[0m\n\u001b[1;32m   2982\u001b[0m                 \u001b[0mindexer\u001b[0m \u001b[0;34m=\u001b[0m \u001b[0;34m[\u001b[0m\u001b[0mindexer\u001b[0m\u001b[0;34m]\u001b[0m\u001b[0;34m\u001b[0m\u001b[0;34m\u001b[0m\u001b[0m\n",
      "\u001b[0;32m~/anaconda3/lib/python3.7/site-packages/pandas/core/indexes/base.py\u001b[0m in \u001b[0;36mget_loc\u001b[0;34m(self, key, method, tolerance)\u001b[0m\n\u001b[1;32m   2897\u001b[0m                 \u001b[0;32mreturn\u001b[0m \u001b[0mself\u001b[0m\u001b[0;34m.\u001b[0m\u001b[0m_engine\u001b[0m\u001b[0;34m.\u001b[0m\u001b[0mget_loc\u001b[0m\u001b[0;34m(\u001b[0m\u001b[0mkey\u001b[0m\u001b[0;34m)\u001b[0m\u001b[0;34m\u001b[0m\u001b[0;34m\u001b[0m\u001b[0m\n\u001b[1;32m   2898\u001b[0m             \u001b[0;32mexcept\u001b[0m \u001b[0mKeyError\u001b[0m\u001b[0;34m:\u001b[0m\u001b[0;34m\u001b[0m\u001b[0;34m\u001b[0m\u001b[0m\n\u001b[0;32m-> 2899\u001b[0;31m                 \u001b[0;32mreturn\u001b[0m \u001b[0mself\u001b[0m\u001b[0;34m.\u001b[0m\u001b[0m_engine\u001b[0m\u001b[0;34m.\u001b[0m\u001b[0mget_loc\u001b[0m\u001b[0;34m(\u001b[0m\u001b[0mself\u001b[0m\u001b[0;34m.\u001b[0m\u001b[0m_maybe_cast_indexer\u001b[0m\u001b[0;34m(\u001b[0m\u001b[0mkey\u001b[0m\u001b[0;34m)\u001b[0m\u001b[0;34m)\u001b[0m\u001b[0;34m\u001b[0m\u001b[0;34m\u001b[0m\u001b[0m\n\u001b[0m\u001b[1;32m   2900\u001b[0m         \u001b[0mindexer\u001b[0m \u001b[0;34m=\u001b[0m \u001b[0mself\u001b[0m\u001b[0;34m.\u001b[0m\u001b[0mget_indexer\u001b[0m\u001b[0;34m(\u001b[0m\u001b[0;34m[\u001b[0m\u001b[0mkey\u001b[0m\u001b[0;34m]\u001b[0m\u001b[0;34m,\u001b[0m \u001b[0mmethod\u001b[0m\u001b[0;34m=\u001b[0m\u001b[0mmethod\u001b[0m\u001b[0;34m,\u001b[0m \u001b[0mtolerance\u001b[0m\u001b[0;34m=\u001b[0m\u001b[0mtolerance\u001b[0m\u001b[0;34m)\u001b[0m\u001b[0;34m\u001b[0m\u001b[0;34m\u001b[0m\u001b[0m\n\u001b[1;32m   2901\u001b[0m         \u001b[0;32mif\u001b[0m \u001b[0mindexer\u001b[0m\u001b[0;34m.\u001b[0m\u001b[0mndim\u001b[0m \u001b[0;34m>\u001b[0m \u001b[0;36m1\u001b[0m \u001b[0;32mor\u001b[0m \u001b[0mindexer\u001b[0m\u001b[0;34m.\u001b[0m\u001b[0msize\u001b[0m \u001b[0;34m>\u001b[0m \u001b[0;36m1\u001b[0m\u001b[0;34m:\u001b[0m\u001b[0;34m\u001b[0m\u001b[0;34m\u001b[0m\u001b[0m\n",
      "\u001b[0;32mpandas/_libs/index.pyx\u001b[0m in \u001b[0;36mpandas._libs.index.IndexEngine.get_loc\u001b[0;34m()\u001b[0m\n",
      "\u001b[0;32mpandas/_libs/index.pyx\u001b[0m in \u001b[0;36mpandas._libs.index.IndexEngine.get_loc\u001b[0;34m()\u001b[0m\n",
      "\u001b[0;32mpandas/_libs/hashtable_class_helper.pxi\u001b[0m in \u001b[0;36mpandas._libs.hashtable.PyObjectHashTable.get_item\u001b[0;34m()\u001b[0m\n",
      "\u001b[0;32mpandas/_libs/hashtable_class_helper.pxi\u001b[0m in \u001b[0;36mpandas._libs.hashtable.PyObjectHashTable.get_item\u001b[0;34m()\u001b[0m\n",
      "\u001b[0;31mKeyError\u001b[0m: False"
     ]
    }
   ],
   "source": [
    "users = df.drop_duplicates(subset='userid', keep='first', inplace=False)\n",
    "mask = users['userid'=='None']\n",
    "users[mask]"
   ]
  },
  {
   "cell_type": "code",
   "execution_count": 3,
   "metadata": {},
   "outputs": [
    {
     "data": {
      "text/html": [
       "<div>\n",
       "<style scoped>\n",
       "    .dataframe tbody tr th:only-of-type {\n",
       "        vertical-align: middle;\n",
       "    }\n",
       "\n",
       "    .dataframe tbody tr th {\n",
       "        vertical-align: top;\n",
       "    }\n",
       "\n",
       "    .dataframe thead th {\n",
       "        text-align: right;\n",
       "    }\n",
       "</style>\n",
       "<table border=\"1\" class=\"dataframe\">\n",
       "  <thead>\n",
       "    <tr style=\"text-align: right;\">\n",
       "      <th></th>\n",
       "      <th>title</th>\n",
       "      <th>author</th>\n",
       "      <th>isbn</th>\n",
       "      <th>book_type</th>\n",
       "      <th>pages</th>\n",
       "      <th>userid</th>\n",
       "      <th>user_rating</th>\n",
       "      <th>num_rate</th>\n",
       "      <th>av_rate</th>\n",
       "    </tr>\n",
       "  </thead>\n",
       "  <tbody>\n",
       "    <tr>\n",
       "      <td>52338</td>\n",
       "      <td>Brideshead Revisited</td>\n",
       "      <td>Waugh, Evelyn</td>\n",
       "      <td>9780316926348</td>\n",
       "      <td>format</td>\n",
       "      <td>351</td>\n",
       "      <td>56819785</td>\n",
       "      <td>5</td>\n",
       "      <td>88883</td>\n",
       "      <td>4</td>\n",
       "    </tr>\n",
       "    <tr>\n",
       "      <td>52339</td>\n",
       "      <td>The Remains of the Day</td>\n",
       "      <td>Ishiguro, Kazuo</td>\n",
       "      <td></td>\n",
       "      <td>format</td>\n",
       "      <td>258</td>\n",
       "      <td>56819785</td>\n",
       "      <td>5</td>\n",
       "      <td>180468</td>\n",
       "      <td>4.12</td>\n",
       "    </tr>\n",
       "    <tr>\n",
       "      <td>52340</td>\n",
       "      <td>Angela's Ashes</td>\n",
       "      <td>McCourt, Frank</td>\n",
       "      <td>9780007205233</td>\n",
       "      <td>format</td>\n",
       "      <td>452</td>\n",
       "      <td>56819785</td>\n",
       "      <td>4</td>\n",
       "      <td>505641</td>\n",
       "      <td>4.1</td>\n",
       "    </tr>\n",
       "    <tr>\n",
       "      <td>52341</td>\n",
       "      <td>Girl with a Pearl Earring</td>\n",
       "      <td>Chevalier, Tracy</td>\n",
       "      <td>9780452287020</td>\n",
       "      <td>format</td>\n",
       "      <td>233</td>\n",
       "      <td>56819785</td>\n",
       "      <td>4</td>\n",
       "      <td>588097</td>\n",
       "      <td>3.88</td>\n",
       "    </tr>\n",
       "    <tr>\n",
       "      <td>52342</td>\n",
       "      <td>The Lewis Trilogy: The Blackhouse, The Lewis M...</td>\n",
       "      <td>May, Peter</td>\n",
       "      <td></td>\n",
       "      <td>format</td>\n",
       "      <td>869</td>\n",
       "      <td>56819785</td>\n",
       "      <td>3</td>\n",
       "      <td>575</td>\n",
       "      <td>4.4</td>\n",
       "    </tr>\n",
       "  </tbody>\n",
       "</table>\n",
       "</div>"
      ],
      "text/plain": [
       "                                                   title            author  \\\n",
       "52338                               Brideshead Revisited     Waugh, Evelyn   \n",
       "52339                             The Remains of the Day   Ishiguro, Kazuo   \n",
       "52340                                     Angela's Ashes    McCourt, Frank   \n",
       "52341                          Girl with a Pearl Earring  Chevalier, Tracy   \n",
       "52342  The Lewis Trilogy: The Blackhouse, The Lewis M...        May, Peter   \n",
       "\n",
       "                isbn book_type pages    userid user_rating num_rate av_rate  \n",
       "52338  9780316926348    format   351  56819785           5    88883       4  \n",
       "52339                   format   258  56819785           5   180468    4.12  \n",
       "52340  9780007205233    format   452  56819785           4   505641     4.1  \n",
       "52341  9780452287020    format   233  56819785           4   588097    3.88  \n",
       "52342                   format   869  56819785           3      575     4.4  "
      ]
     },
     "execution_count": 3,
     "metadata": {},
     "output_type": "execute_result"
    }
   ],
   "source": [
    "data = np.load('src/data/datacln.npy', allow_pickle = True)\n",
    "\n",
    "df = pd.DataFrame(data, columns = ['title','author', 'isbn', 'book_type', 'pages', 'userid', 'user_rating', 'num_rate', 'av_rate'])  \n",
    "\n",
    "#get rid of any users who haven't added any books, and any added books with no user rating\n",
    "dfwr = df.dropna(axis=0)\n",
    "actually_rated = dfwr['user_rating'] != 0\n",
    "dfwr = dfwr[actually_rated]\n",
    "#dfwr.info()\n",
    "#dfwr.head()\n",
    "dfwr.tail()"
   ]
  },
  {
   "cell_type": "code",
   "execution_count": 4,
   "metadata": {},
   "outputs": [
    {
     "name": "stdout",
     "output_type": "stream",
     "text": [
      "<class 'pandas.core.frame.DataFrame'>\n",
      "RangeIndex: 52343 entries, 0 to 52342\n",
      "Data columns (total 9 columns):\n",
      "title          49655 non-null object\n",
      "author         49655 non-null object\n",
      "isbn           49655 non-null object\n",
      "book_type      49655 non-null object\n",
      "pages          47555 non-null object\n",
      "userid         52343 non-null object\n",
      "user_rating    49655 non-null object\n",
      "num_rate       49655 non-null object\n",
      "av_rate        49655 non-null object\n",
      "dtypes: object(9)\n",
      "memory usage: 3.6+ MB\n"
     ]
    }
   ],
   "source": [
    "df.info()"
   ]
  },
  {
   "cell_type": "code",
   "execution_count": 31,
   "metadata": {},
   "outputs": [
    {
     "data": {
      "text/plain": [
       "6494"
      ]
     },
     "execution_count": 31,
     "metadata": {},
     "output_type": "execute_result"
    }
   ],
   "source": [
    "total_users = df.drop_duplicates(subset='userid', keep='first', inplace=False)['userid'].count()\n",
    "nodups"
   ]
  },
  {
   "cell_type": "code",
   "execution_count": 5,
   "metadata": {},
   "outputs": [
    {
     "data": {
      "text/html": [
       "<div>\n",
       "<style scoped>\n",
       "    .dataframe tbody tr th:only-of-type {\n",
       "        vertical-align: middle;\n",
       "    }\n",
       "\n",
       "    .dataframe tbody tr th {\n",
       "        vertical-align: top;\n",
       "    }\n",
       "\n",
       "    .dataframe thead th {\n",
       "        text-align: right;\n",
       "    }\n",
       "</style>\n",
       "<table border=\"1\" class=\"dataframe\">\n",
       "  <thead>\n",
       "    <tr style=\"text-align: right;\">\n",
       "      <th></th>\n",
       "      <th>title</th>\n",
       "      <th>author</th>\n",
       "      <th>isbn</th>\n",
       "      <th>book_type</th>\n",
       "      <th>pages</th>\n",
       "      <th>userid</th>\n",
       "      <th>user_rating</th>\n",
       "      <th>num_rate</th>\n",
       "      <th>av_rate</th>\n",
       "    </tr>\n",
       "  </thead>\n",
       "  <tbody>\n",
       "    <tr>\n",
       "      <td>0</td>\n",
       "      <td>None</td>\n",
       "      <td>None</td>\n",
       "      <td>None</td>\n",
       "      <td>None</td>\n",
       "      <td>None</td>\n",
       "      <td>7171593</td>\n",
       "      <td>None</td>\n",
       "      <td>None</td>\n",
       "      <td>None</td>\n",
       "    </tr>\n",
       "    <tr>\n",
       "      <td>1</td>\n",
       "      <td>None</td>\n",
       "      <td>None</td>\n",
       "      <td>None</td>\n",
       "      <td>None</td>\n",
       "      <td>None</td>\n",
       "      <td>6060131</td>\n",
       "      <td>None</td>\n",
       "      <td>None</td>\n",
       "      <td>None</td>\n",
       "    </tr>\n",
       "    <tr>\n",
       "      <td>2</td>\n",
       "      <td>The Hunger Games</td>\n",
       "      <td>Collins, Suzanne</td>\n",
       "      <td>9780439023481</td>\n",
       "      <td>format</td>\n",
       "      <td>374</td>\n",
       "      <td>22197300</td>\n",
       "      <td>5</td>\n",
       "      <td>5936319</td>\n",
       "      <td>4.33</td>\n",
       "    </tr>\n",
       "    <tr>\n",
       "      <td>3</td>\n",
       "      <td>Divergent</td>\n",
       "      <td>Roth, Veronica</td>\n",
       "      <td>9780062024039</td>\n",
       "      <td>format</td>\n",
       "      <td>487</td>\n",
       "      <td>22197300</td>\n",
       "      <td>5</td>\n",
       "      <td>2706147</td>\n",
       "      <td>4.2</td>\n",
       "    </tr>\n",
       "    <tr>\n",
       "      <td>4</td>\n",
       "      <td>Shiver</td>\n",
       "      <td>Stiefvater, Maggie</td>\n",
       "      <td>9780545123266</td>\n",
       "      <td>format</td>\n",
       "      <td>392</td>\n",
       "      <td>22197300</td>\n",
       "      <td>5</td>\n",
       "      <td>411613</td>\n",
       "      <td>3.77</td>\n",
       "    </tr>\n",
       "  </tbody>\n",
       "</table>\n",
       "</div>"
      ],
      "text/plain": [
       "              title              author           isbn book_type pages  \\\n",
       "0              None                None           None      None  None   \n",
       "1              None                None           None      None  None   \n",
       "2  The Hunger Games    Collins, Suzanne  9780439023481    format   374   \n",
       "3         Divergent      Roth, Veronica  9780062024039    format   487   \n",
       "4            Shiver  Stiefvater, Maggie  9780545123266    format   392   \n",
       "\n",
       "     userid user_rating num_rate av_rate  \n",
       "0   7171593        None     None    None  \n",
       "1   6060131        None     None    None  \n",
       "2  22197300           5  5936319    4.33  \n",
       "3  22197300           5  2706147     4.2  \n",
       "4  22197300           5   411613    3.77  "
      ]
     },
     "execution_count": 5,
     "metadata": {},
     "output_type": "execute_result"
    }
   ],
   "source": [
    "df.head()"
   ]
  },
  {
   "cell_type": "code",
   "execution_count": 6,
   "metadata": {},
   "outputs": [],
   "source": [
    "from sqlalchemy import create_engine\n",
    "import psycopg2 \n",
    "import io"
   ]
  },
  {
   "cell_type": "code",
   "execution_count": 8,
   "metadata": {},
   "outputs": [],
   "source": [
    "ratings = dfwr['user_rating']"
   ]
  },
  {
   "cell_type": "markdown",
   "metadata": {},
   "source": [
    "av_rate presumably has some duplicates because of books read by more than one user. So lets sort those out. "
   ]
  },
  {
   "cell_type": "code",
   "execution_count": 15,
   "metadata": {},
   "outputs": [
    {
     "data": {
      "text/html": [
       "<div>\n",
       "<style scoped>\n",
       "    .dataframe tbody tr th:only-of-type {\n",
       "        vertical-align: middle;\n",
       "    }\n",
       "\n",
       "    .dataframe tbody tr th {\n",
       "        vertical-align: top;\n",
       "    }\n",
       "\n",
       "    .dataframe thead th {\n",
       "        text-align: right;\n",
       "    }\n",
       "</style>\n",
       "<table border=\"1\" class=\"dataframe\">\n",
       "  <thead>\n",
       "    <tr style=\"text-align: right;\">\n",
       "      <th></th>\n",
       "      <th>title</th>\n",
       "      <th>av_rate</th>\n",
       "    </tr>\n",
       "  </thead>\n",
       "  <tbody>\n",
       "    <tr>\n",
       "      <td>27312</td>\n",
       "      <td>\"A Problem from Hell\": America and the Age of ...</td>\n",
       "      <td>4.22</td>\n",
       "    </tr>\n",
       "    <tr>\n",
       "      <td>15336</td>\n",
       "      <td>\"B\" Is for Betsy</td>\n",
       "      <td>4.03</td>\n",
       "    </tr>\n",
       "    <tr>\n",
       "      <td>1370</td>\n",
       "      <td>\"B\" Is for Betsy</td>\n",
       "      <td>4.03</td>\n",
       "    </tr>\n",
       "    <tr>\n",
       "      <td>35338</td>\n",
       "      <td>\"C\" Is For Corpse</td>\n",
       "      <td>3.91</td>\n",
       "    </tr>\n",
       "    <tr>\n",
       "      <td>18211</td>\n",
       "      <td>\"Multiplication Is for White People\": Raising ...</td>\n",
       "      <td>4.14</td>\n",
       "    </tr>\n",
       "    <tr>\n",
       "      <td>...</td>\n",
       "      <td>...</td>\n",
       "      <td>...</td>\n",
       "    </tr>\n",
       "    <tr>\n",
       "      <td>768</td>\n",
       "      <td>百千さん家のあやかし王子 12 [Momochi-san Chi no Ayakashi O...</td>\n",
       "      <td>4.18</td>\n",
       "    </tr>\n",
       "    <tr>\n",
       "      <td>743</td>\n",
       "      <td>盾の勇者の成り上がり 11</td>\n",
       "      <td>4.11</td>\n",
       "    </tr>\n",
       "    <tr>\n",
       "      <td>516</td>\n",
       "      <td>青鸟书店（一部关于记忆与慰藉的书店史诗，触痛每个人内心深处的脆弱与柔软）</td>\n",
       "      <td>5</td>\n",
       "    </tr>\n",
       "    <tr>\n",
       "      <td>14224</td>\n",
       "      <td>나의 투쟁 1</td>\n",
       "      <td>4.08</td>\n",
       "    </tr>\n",
       "    <tr>\n",
       "      <td>29933</td>\n",
       "      <td>달빛 조각사 41</td>\n",
       "      <td>4.4</td>\n",
       "    </tr>\n",
       "  </tbody>\n",
       "</table>\n",
       "<p>36471 rows × 2 columns</p>\n",
       "</div>"
      ],
      "text/plain": [
       "                                                   title av_rate\n",
       "27312  \"A Problem from Hell\": America and the Age of ...    4.22\n",
       "15336                                   \"B\" Is for Betsy    4.03\n",
       "1370                                    \"B\" Is for Betsy    4.03\n",
       "35338                                  \"C\" Is For Corpse    3.91\n",
       "18211  \"Multiplication Is for White People\": Raising ...    4.14\n",
       "...                                                  ...     ...\n",
       "768    百千さん家のあやかし王子 12 [Momochi-san Chi no Ayakashi O...    4.18\n",
       "743                                        盾の勇者の成り上がり 11    4.11\n",
       "516                 青鸟书店（一部关于记忆与慰藉的书店史诗，触痛每个人内心深处的脆弱与柔软）       5\n",
       "14224                                            나의 투쟁 1    4.08\n",
       "29933                                          달빛 조각사 41     4.4\n",
       "\n",
       "[36471 rows x 2 columns]"
      ]
     },
     "execution_count": 15,
     "metadata": {},
     "output_type": "execute_result"
    }
   ],
   "source": [
    "dfwr[['title', 'av_rate']].sort_values('title')"
   ]
  },
  {
   "cell_type": "code",
   "execution_count": 19,
   "metadata": {},
   "outputs": [],
   "source": [
    "total_users = df.drop_duplicates(subset='userid', keep='first', inplace=False)['userid'].count()\n"
   ]
  },
  {
   "cell_type": "code",
   "execution_count": 41,
   "metadata": {},
   "outputs": [
    {
     "data": {
      "text/html": [
       "<div>\n",
       "<style scoped>\n",
       "    .dataframe tbody tr th:only-of-type {\n",
       "        vertical-align: middle;\n",
       "    }\n",
       "\n",
       "    .dataframe tbody tr th {\n",
       "        vertical-align: top;\n",
       "    }\n",
       "\n",
       "    .dataframe thead th {\n",
       "        text-align: right;\n",
       "    }\n",
       "</style>\n",
       "<table border=\"1\" class=\"dataframe\">\n",
       "  <thead>\n",
       "    <tr style=\"text-align: right;\">\n",
       "      <th></th>\n",
       "      <th>title</th>\n",
       "      <th>author</th>\n",
       "      <th>isbn</th>\n",
       "      <th>book_type</th>\n",
       "      <th>pages</th>\n",
       "      <th>userid</th>\n",
       "      <th>user_rating</th>\n",
       "      <th>num_rate</th>\n",
       "      <th>av_rate</th>\n",
       "    </tr>\n",
       "  </thead>\n",
       "  <tbody>\n",
       "    <tr>\n",
       "      <td>0</td>\n",
       "      <td>None</td>\n",
       "      <td>None</td>\n",
       "      <td>None</td>\n",
       "      <td>None</td>\n",
       "      <td>None</td>\n",
       "      <td>7171593</td>\n",
       "      <td>None</td>\n",
       "      <td>None</td>\n",
       "      <td>None</td>\n",
       "    </tr>\n",
       "    <tr>\n",
       "      <td>1</td>\n",
       "      <td>None</td>\n",
       "      <td>None</td>\n",
       "      <td>None</td>\n",
       "      <td>None</td>\n",
       "      <td>None</td>\n",
       "      <td>6060131</td>\n",
       "      <td>None</td>\n",
       "      <td>None</td>\n",
       "      <td>None</td>\n",
       "    </tr>\n",
       "    <tr>\n",
       "      <td>2</td>\n",
       "      <td>The Hunger Games</td>\n",
       "      <td>Collins, Suzanne</td>\n",
       "      <td>9780439023481</td>\n",
       "      <td>format</td>\n",
       "      <td>374</td>\n",
       "      <td>22197300</td>\n",
       "      <td>5</td>\n",
       "      <td>5936319</td>\n",
       "      <td>4.33</td>\n",
       "    </tr>\n",
       "    <tr>\n",
       "      <td>3</td>\n",
       "      <td>Divergent</td>\n",
       "      <td>Roth, Veronica</td>\n",
       "      <td>9780062024039</td>\n",
       "      <td>format</td>\n",
       "      <td>487</td>\n",
       "      <td>22197300</td>\n",
       "      <td>5</td>\n",
       "      <td>2706147</td>\n",
       "      <td>4.2</td>\n",
       "    </tr>\n",
       "    <tr>\n",
       "      <td>4</td>\n",
       "      <td>Shiver</td>\n",
       "      <td>Stiefvater, Maggie</td>\n",
       "      <td>9780545123266</td>\n",
       "      <td>format</td>\n",
       "      <td>392</td>\n",
       "      <td>22197300</td>\n",
       "      <td>5</td>\n",
       "      <td>411613</td>\n",
       "      <td>3.77</td>\n",
       "    </tr>\n",
       "  </tbody>\n",
       "</table>\n",
       "</div>"
      ],
      "text/plain": [
       "              title              author           isbn book_type pages  \\\n",
       "0              None                None           None      None  None   \n",
       "1              None                None           None      None  None   \n",
       "2  The Hunger Games    Collins, Suzanne  9780439023481    format   374   \n",
       "3         Divergent      Roth, Veronica  9780062024039    format   487   \n",
       "4            Shiver  Stiefvater, Maggie  9780545123266    format   392   \n",
       "\n",
       "     userid user_rating num_rate av_rate  \n",
       "0   7171593        None     None    None  \n",
       "1   6060131        None     None    None  \n",
       "2  22197300           5  5936319    4.33  \n",
       "3  22197300           5  2706147     4.2  \n",
       "4  22197300           5   411613    3.77  "
      ]
     },
     "execution_count": 41,
     "metadata": {},
     "output_type": "execute_result"
    }
   ],
   "source": [
    "df.head()"
   ]
  },
  {
   "cell_type": "markdown",
   "metadata": {},
   "source": [
    "## make a quintile ranking for all books based on their average rating"
   ]
  },
  {
   "cell_type": "code",
   "execution_count": 5,
   "metadata": {},
   "outputs": [],
   "source": [
    "quin = dfwr.drop_duplicates(subset='title', keep='first', inplace=False)\n",
    "nums = quin['av_rate']\n",
    "test = nums.quantile([.94])"
   ]
  },
  {
   "cell_type": "code",
   "execution_count": 48,
   "metadata": {},
   "outputs": [
    {
     "data": {
      "text/plain": [
       "<matplotlib.axes._subplots.AxesSubplot at 0x7f5238dfea50>"
      ]
     },
     "execution_count": 48,
     "metadata": {},
     "output_type": "execute_result"
    },
    {
     "data": {
      "image/png": "[encoded data removed]",
      "text/plain": [
       "<Figure size 432x288 with 1 Axes>"
      ]
     },
     "metadata": {
      "needs_background": "light"
     },
     "output_type": "display_data"
    }
   ],
   "source": [
    "quin['av_rate'].hist(bins = 20)"
   ]
  },
  {
   "cell_type": "code",
   "execution_count": 18,
   "metadata": {},
   "outputs": [
    {
     "data": {
      "text/plain": [
       "4.49"
      ]
     },
     "execution_count": 18,
     "metadata": {},
     "output_type": "execute_result"
    }
   ],
   "source": [
    "nums.quantile(.97)"
   ]
  },
  {
   "cell_type": "code",
   "execution_count": 13,
   "metadata": {},
   "outputs": [],
   "source": [
    "#dir(test)"
   ]
  },
  {
   "cell_type": "code",
   "execution_count": 7,
   "metadata": {},
   "outputs": [
    {
     "ename": "ValueError",
     "evalue": "percentiles should all be in the interval [0, 1]. Try -7.528699885739343e-18 instead.",
     "output_type": "error",
     "traceback": [
      "\u001b[0;31m---------------------------------------------------------------------------\u001b[0m",
      "\u001b[0;31mValueError\u001b[0m                                Traceback (most recent call last)",
      "\u001b[0;32m<ipython-input-7-895ac296b617>\u001b[0m in \u001b[0;36m<module>\u001b[0;34m\u001b[0m\n\u001b[1;32m      3\u001b[0m \u001b[0;32mwhile\u001b[0m \u001b[0mx\u001b[0m \u001b[0;34m>\u001b[0m \u001b[0;36m0\u001b[0m\u001b[0;34m:\u001b[0m\u001b[0;34m\u001b[0m\u001b[0;34m\u001b[0m\u001b[0m\n\u001b[1;32m      4\u001b[0m     \u001b[0mx\u001b[0m\u001b[0;34m-=\u001b[0m\u001b[0;36m.01\u001b[0m\u001b[0;34m\u001b[0m\u001b[0;34m\u001b[0m\u001b[0m\n\u001b[0;32m----> 5\u001b[0;31m     \u001b[0mquants\u001b[0m\u001b[0;34m.\u001b[0m\u001b[0mappend\u001b[0m\u001b[0;34m(\u001b[0m\u001b[0mnums\u001b[0m\u001b[0;34m.\u001b[0m\u001b[0mquantile\u001b[0m\u001b[0;34m(\u001b[0m\u001b[0mx\u001b[0m\u001b[0;34m)\u001b[0m\u001b[0;34m)\u001b[0m\u001b[0;34m\u001b[0m\u001b[0;34m\u001b[0m\u001b[0m\n\u001b[0m",
      "\u001b[0;32m~/anaconda3/lib/python3.7/site-packages/pandas/core/series.py\u001b[0m in \u001b[0;36mquantile\u001b[0;34m(self, q, interpolation)\u001b[0m\n\u001b[1;32m   2391\u001b[0m         \"\"\"\n\u001b[1;32m   2392\u001b[0m \u001b[0;34m\u001b[0m\u001b[0m\n\u001b[0;32m-> 2393\u001b[0;31m         \u001b[0mself\u001b[0m\u001b[0;34m.\u001b[0m\u001b[0m_check_percentile\u001b[0m\u001b[0;34m(\u001b[0m\u001b[0mq\u001b[0m\u001b[0;34m)\u001b[0m\u001b[0;34m\u001b[0m\u001b[0;34m\u001b[0m\u001b[0m\n\u001b[0m\u001b[1;32m   2394\u001b[0m \u001b[0;34m\u001b[0m\u001b[0m\n\u001b[1;32m   2395\u001b[0m         \u001b[0;31m# We dispatch to DataFrame so that core.internals only has to worry\u001b[0m\u001b[0;34m\u001b[0m\u001b[0;34m\u001b[0m\u001b[0;34m\u001b[0m\u001b[0m\n",
      "\u001b[0;32m~/anaconda3/lib/python3.7/site-packages/pandas/core/generic.py\u001b[0m in \u001b[0;36m_check_percentile\u001b[0;34m(self, q)\u001b[0m\n\u001b[1;32m  10296\u001b[0m         \u001b[0;32mif\u001b[0m \u001b[0mq\u001b[0m\u001b[0;34m.\u001b[0m\u001b[0mndim\u001b[0m \u001b[0;34m==\u001b[0m \u001b[0;36m0\u001b[0m\u001b[0;34m:\u001b[0m\u001b[0;34m\u001b[0m\u001b[0;34m\u001b[0m\u001b[0m\n\u001b[1;32m  10297\u001b[0m             \u001b[0;32mif\u001b[0m \u001b[0;32mnot\u001b[0m \u001b[0;36m0\u001b[0m \u001b[0;34m<=\u001b[0m \u001b[0mq\u001b[0m \u001b[0;34m<=\u001b[0m \u001b[0;36m1\u001b[0m\u001b[0;34m:\u001b[0m\u001b[0;34m\u001b[0m\u001b[0;34m\u001b[0m\u001b[0m\n\u001b[0;32m> 10298\u001b[0;31m                 \u001b[0;32mraise\u001b[0m \u001b[0mValueError\u001b[0m\u001b[0;34m(\u001b[0m\u001b[0mmsg\u001b[0m\u001b[0;34m.\u001b[0m\u001b[0mformat\u001b[0m\u001b[0;34m(\u001b[0m\u001b[0mq\u001b[0m \u001b[0;34m/\u001b[0m \u001b[0;36m100.0\u001b[0m\u001b[0;34m)\u001b[0m\u001b[0;34m)\u001b[0m\u001b[0;34m\u001b[0m\u001b[0;34m\u001b[0m\u001b[0m\n\u001b[0m\u001b[1;32m  10299\u001b[0m         \u001b[0;32melse\u001b[0m\u001b[0;34m:\u001b[0m\u001b[0;34m\u001b[0m\u001b[0;34m\u001b[0m\u001b[0m\n\u001b[1;32m  10300\u001b[0m             \u001b[0;32mif\u001b[0m \u001b[0;32mnot\u001b[0m \u001b[0mall\u001b[0m\u001b[0;34m(\u001b[0m\u001b[0;36m0\u001b[0m \u001b[0;34m<=\u001b[0m \u001b[0mqs\u001b[0m \u001b[0;34m<=\u001b[0m \u001b[0;36m1\u001b[0m \u001b[0;32mfor\u001b[0m \u001b[0mqs\u001b[0m \u001b[0;32min\u001b[0m \u001b[0mq\u001b[0m\u001b[0;34m)\u001b[0m\u001b[0;34m:\u001b[0m\u001b[0;34m\u001b[0m\u001b[0;34m\u001b[0m\u001b[0m\n",
      "\u001b[0;31mValueError\u001b[0m: percentiles should all be in the interval [0, 1]. Try -7.528699885739343e-18 instead."
     ]
    }
   ],
   "source": [
    "x = 1\n",
    "quants = []\n",
    "while x > 0:\n",
    "    x-=.01\n",
    "    quants.append(nums.quantile(x))"
   ]
  },
  {
   "cell_type": "code",
   "execution_count": 6,
   "metadata": {},
   "outputs": [
    {
     "data": {
      "text/plain": [
       "2"
      ]
     },
     "execution_count": 6,
     "metadata": {},
     "output_type": "execute_result"
    }
   ],
   "source": [
    "x = 2\n",
    "x - 1\n",
    "\n",
    "x"
   ]
  },
  {
   "cell_type": "code",
   "execution_count": 26,
   "metadata": {},
   "outputs": [
    {
     "data": {
      "text/plain": [
       "(4.54, 4.21, 4.06, 3.92, 3.74, 3.15)"
      ]
     },
     "execution_count": 26,
     "metadata": {},
     "output_type": "execute_result"
    }
   ],
   "source": [
    "quants[1] ,quants[20], quants[40], quants[60], quants[80], quants[98]"
   ]
  },
  {
   "cell_type": "code",
   "execution_count": 21,
   "metadata": {},
   "outputs": [],
   "source": [
    "bad_books = dfwr[dfwr['av_rate'] < 3.1]['title']"
   ]
  },
  {
   "cell_type": "code",
   "execution_count": 17,
   "metadata": {},
   "outputs": [
    {
     "name": "stdout",
     "output_type": "stream",
     "text": [
      "<class 'pandas.core.frame.DataFrame'>\n",
      "Int64Index: 36471 entries, 2 to 52342\n",
      "Data columns (total 9 columns):\n",
      "title          36471 non-null object\n",
      "author         36471 non-null object\n",
      "isbn           36471 non-null object\n",
      "book_type      36471 non-null object\n",
      "pages          36471 non-null object\n",
      "userid         36471 non-null object\n",
      "user_rating    36471 non-null object\n",
      "num_rate       36471 non-null object\n",
      "av_rate        36471 non-null object\n",
      "dtypes: object(9)\n",
      "memory usage: 2.8+ MB\n"
     ]
    }
   ],
   "source": [
    "dfwr.info()"
   ]
  },
  {
   "cell_type": "code",
   "execution_count": 24,
   "metadata": {},
   "outputs": [
    {
     "name": "stdout",
     "output_type": "stream",
     "text": [
      "Revolution 2020: Love, Corruption, Ambition\n",
      "One Night at the Call Center\n",
      "Four Blondes\n",
      "Awakening\n",
      "書呆子的反抗：為什麼你以為對的都是錯的？\n",
      "The Rose Labyrinth\n",
      "Welcome to Scranton\n",
      "Tell It Like it Is! (Text with 2 DVD's): Natural Chinese for Advanced Learners\n",
      "Leggende sarde\n",
      "Christian Doctrine\n",
      "Drug Trafficking, Corruption and States: How Illicit Networks Shaped Institutions in Colombia, Guatemala and Mexico\n",
      "Glamour: Fashion, Industrial Design, Architecture\n",
      "Full Frontal Fashion: The Insider's Guide to High Style in Every Situation\n",
      "Stylemakers: Inside Fashion\n",
      "The Continuity Girl\n",
      "Le Divorce\n",
      "The Conservative's Guide To Understanding Our Friends The Liberals\n",
      "Extreme Breakup Recovery\n",
      "How to Build a Fortune [With CD-ROM with Workbook and Trump Cards and DVD]\n",
      "Quotable Michael Jordan: Words of Wit, Wisdom, and Inspiration by and about Michael Jordan, Basketball's Greatest Superstar\n",
      "The Manny\n",
      "L'Affaire\n",
      "Dreaming in Hindi: Coming Awake in Another Language\n",
      "Des mots en images\n",
      "Now You See Him\n",
      "The Emperor's Children\n",
      "MRI Physics for Radiologists: A Visual Approach\n",
      "A Practical Guide to Affiliate Marketing: Quick Reference for Affiliate Managers & Merchants\n",
      "Feuchtgebiete\n",
      "The Lemur\n",
      "Pygmy\n",
      "How to Help Your Child with Homework: The Complete Guide to Encouraging Good Study Habits and Ending the Homework Wars\n",
      "This One Is Mine\n",
      "Among the Ten Thousand Things\n",
      "Beautiful Children\n",
      "An Expensive Education\n",
      "Him Her Him Again the End of Him\n",
      "The Swimming Pool\n",
      "Adam & Eve\n",
      "Winkie\n",
      "Four Blondes\n",
      "Le Divorce\n",
      "Cleaving: A Story of Marriage, Meat, and Obsession\n",
      "Exits: Living Fashion\n",
      "The Performance of Healing\n",
      "Beyond Decorum: The Photography of Ike Ude\n",
      "The Jane Austen Book Club\n",
      "The Organization of Information\n",
      "Killer Bodies: A Glamorous Bodybuilding Couple, a Love Triangle, and a Brutal Murder\n",
      "Creating a Bully-Free Classroom: An Effective Framework With Strategies and Activities That Build a Safe Classroom Community Where All Children Thrive\n",
      "Creating Effective IEPs: A Guide to Developing, Writing, and Implementing Plans for Teachers\n",
      "Translating LA: A Tour of the Rainbow City\n",
      "The Winter Girl\n",
      "The Geographer's Library\n",
      "An Arsonist's Guide to Writers' Homes in New England\n",
      "The Third Revelation\n",
      "The Rose Labyrinth\n",
      "16 Ways to Break A Heart\n",
      "The Orange Eats Creeps\n",
      "Her and Me and You\n",
      "The Emperor's Children\n",
      "In the Tenth House\n",
      "The Uses of Enchantment\n",
      "The Fig Eater\n",
      "The Melting Season\n",
      "The Reserve\n",
      "Winners: How Good Baseball Teams Become Great Ones\n",
      "His Lovely Wife\n",
      "The Big Girls\n",
      "How to Fit a Car Seat on a Camel: And Other Misadventures Traveling with Kids\n",
      "Summer People\n",
      "Better Homes and Husbands\n",
      "The Clasp\n",
      "William Faulkner's As I Lay Dying\n",
      "Be A Trusted Leader: Accelerate Your Influence Now!\n",
      "Fight for Tomorrow\n",
      "Among the Ten Thousand Things\n",
      "The Dead Do Not Improve\n",
      "To Rise Again at a Decent Hour\n",
      "The Mirror Thief\n",
      "Sometimes I Dream in Italian\n",
      "The Almost Moon\n",
      "A Sleep and a Forgetting\n",
      "All the Sad Young Literary Men\n",
      "Arriving in Avignon\n",
      "Cut Throat Dog\n",
      "Burger Wuss\n",
      "A Stingray Bit My Nipple!: True Stories from Real Travelers\n",
      "Spygirl: True Adventures from My Life as a Private Eye\n",
      "The White Widow\n",
      "The Jane Austen Book Club\n",
      "Phantom of Fact: A Guide to Nabokov's Pnin\n",
      "Think!: Why Crucial Decisions Can't Be Made in the Blink of an Eye\n",
      "Cocaine Cowgirl: The Outrageous Life and Mysterious Death of Griselda Blanco\n",
      "No society: El fin de la clase media occidental\n",
      "La primera República Federal de México (1824-1835): Un estudio de los partidos políticos en el México independiente\n",
      "One Night at the Call Centre\n",
      "Touring Literary Mississippi\n",
      "Media Violence and Aggression: Science and Ideology\n",
      "Stories from Mexico/Historias de Mexico, Second Edition\n",
      "اندکی سایه\n",
      "Night Of The Juggler\n",
      "دیالکتیک فلسفه‌ی هگل و درام برشت\n",
      "The Ten-Year Nap\n",
      "The Uncoupling\n",
      "Four Blondes\n",
      "La mano del muerto\n",
      "The Call of the Toad\n",
      "Indecision\n",
      "Los amigos del crimen perfecto\n",
      "La mirada del otro\n",
      "بیست زخم کاری\n",
      "دالان بهشت\n",
      "موريانه\n",
      "اندکی سایه\n",
      "دالان بهشت\n",
      "The Emperor's Children\n",
      "Global Health Care Markets: A Comprehensive Guide to Regions, Trends, and Opportunities Shaping the International Health Arena\n",
      "باغ ملی\n",
      "باغ مارشال\n",
      "از رنجی که می‌بریم\n",
      "Murabbā Yi Shīrīn\n",
      "پری فراموشی\n",
      "Him Her Him Again the End of Him\n",
      "من گنجشک نیستم\n",
      "یوسف‌آباد، خیابان سی‌وسوم\n",
      "لب بر تیغ\n",
      "Tenemos Que Vernos\n",
      "El Carnaval De Colonia\n",
      "Las nuevas aventuras del hada Marylina\n",
      "Hey Harry, Hey Matilda\n",
      "Sarvistan: A Study in Early Iranian Architecture\n",
      "Becoming the Obvious Choice\n",
      "The PH Diet: The Phenomenal Dietary System\n",
      "Een mooie jonge vrouw\n",
      "Dormantique's manco\n",
      "Instant Apache Stanbol\n",
      "Scrapbook Recipe Binder: Holiday Gingerbread With Mailers\n",
      "Beyoğlu Çıkmazı\n",
      "The Boy Who Could See Death\n",
      "Some Like it Rough\n",
      "Ten Shades of Sexy\n",
      "في بيتنا مراهق\n",
      "Treno di panna\n",
      "The War in South Africa Its Cause and Conduct\n",
      "Adultery\n",
      "Men Beware: Women Ahead: Everything your father should have told you about women, but didn't, because he didn't want your mother to find out.\n",
      "Mystery of 7th floor\n"
     ]
    }
   ],
   "source": [
    "for names in bad_books:\n",
    "    print(names)"
   ]
  },
  {
   "cell_type": "code",
   "execution_count": null,
   "metadata": {},
   "outputs": [],
   "source": []
  }
 ],
 "metadata": {
  "kernelspec": {
   "display_name": "Python 3",
   "language": "python",
   "name": "python3"
  },
  "language_info": {
   "codemirror_mode": {
    "name": "ipython",
    "version": 3
   },
   "file_extension": ".py",
   "mimetype": "text/x-python",
   "name": "python",
   "nbconvert_exporter": "python",
   "pygments_lexer": "ipython3",
   "version": "3.7.4"
  }
 },
 "nbformat": 4,
 "nbformat_minor": 2
}
